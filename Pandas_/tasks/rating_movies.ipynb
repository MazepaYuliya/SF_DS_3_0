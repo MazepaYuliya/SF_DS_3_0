{
 "cells": [
  {
   "cell_type": "code",
   "execution_count": 12,
   "metadata": {},
   "outputs": [
    {
     "data": {
      "text/html": [
       "<div>\n",
       "<style scoped>\n",
       "    .dataframe tbody tr th:only-of-type {\n",
       "        vertical-align: middle;\n",
       "    }\n",
       "\n",
       "    .dataframe tbody tr th {\n",
       "        vertical-align: top;\n",
       "    }\n",
       "\n",
       "    .dataframe thead th {\n",
       "        text-align: right;\n",
       "    }\n",
       "</style>\n",
       "<table border=\"1\" class=\"dataframe\">\n",
       "  <thead>\n",
       "    <tr style=\"text-align: right;\">\n",
       "      <th></th>\n",
       "      <th>Unnamed: 0</th>\n",
       "      <th>userId</th>\n",
       "      <th>movieId</th>\n",
       "      <th>rating</th>\n",
       "      <th>date</th>\n",
       "      <th>title</th>\n",
       "      <th>genres</th>\n",
       "    </tr>\n",
       "  </thead>\n",
       "  <tbody>\n",
       "    <tr>\n",
       "      <th>0</th>\n",
       "      <td>0</td>\n",
       "      <td>1</td>\n",
       "      <td>1</td>\n",
       "      <td>4.0</td>\n",
       "      <td>2000-07-30 18:45:03</td>\n",
       "      <td>Toy Story (1995)</td>\n",
       "      <td>Adventure|Animation|Children|Comedy|Fantasy</td>\n",
       "    </tr>\n",
       "    <tr>\n",
       "      <th>1</th>\n",
       "      <td>1</td>\n",
       "      <td>1</td>\n",
       "      <td>3</td>\n",
       "      <td>4.0</td>\n",
       "      <td>2000-07-30 18:20:47</td>\n",
       "      <td>Grumpier Old Men (1995)</td>\n",
       "      <td>Comedy|Romance</td>\n",
       "    </tr>\n",
       "    <tr>\n",
       "      <th>2</th>\n",
       "      <td>2</td>\n",
       "      <td>1</td>\n",
       "      <td>6</td>\n",
       "      <td>4.0</td>\n",
       "      <td>2000-07-30 18:37:04</td>\n",
       "      <td>Heat (1995)</td>\n",
       "      <td>Action|Crime|Thriller</td>\n",
       "    </tr>\n",
       "  </tbody>\n",
       "</table>\n",
       "</div>"
      ],
      "text/plain": [
       "   Unnamed: 0  userId  movieId  rating                 date  \\\n",
       "0           0       1        1     4.0  2000-07-30 18:45:03   \n",
       "1           1       1        3     4.0  2000-07-30 18:20:47   \n",
       "2           2       1        6     4.0  2000-07-30 18:37:04   \n",
       "\n",
       "                     title                                       genres  \n",
       "0         Toy Story (1995)  Adventure|Animation|Children|Comedy|Fantasy  \n",
       "1  Grumpier Old Men (1995)                               Comedy|Romance  \n",
       "2              Heat (1995)                        Action|Crime|Thriller  "
      ]
     },
     "execution_count": 12,
     "metadata": {},
     "output_type": "execute_result"
    }
   ],
   "source": [
    "import pandas as pd\n",
    "\n",
    "rating = pd.read_csv('../data/movies_data/ratings_movies.csv')\n",
    "rating.head(3)"
   ]
  },
  {
   "cell_type": "code",
   "execution_count": 13,
   "metadata": {},
   "outputs": [],
   "source": [
    "# выделить из признака title год выпуска фильма\n",
    "import re \n",
    "def get_year_release(arg):\n",
    "    #находим все слова по шаблону \"(DDDD)\"\n",
    "    candidates = re.findall(r'\\(\\d{4}\\)', arg) \n",
    "    # проверяем число вхождений\n",
    "    if len(candidates) > 0:\n",
    "        #если число вхождений больше 0, очищаем строку от знаков \"(\" и \")\"\n",
    "        year = candidates[0].replace('(', '')\n",
    "        year = year.replace(')', '')\n",
    "        return int(year)\n",
    "    else:\n",
    "        #если год не указан, возвращаем None\n",
    "        return None"
   ]
  },
  {
   "cell_type": "code",
   "execution_count": 21,
   "metadata": {},
   "outputs": [
    {
     "data": {
      "text/plain": [
       "18"
      ]
     },
     "execution_count": 21,
     "metadata": {},
     "output_type": "execute_result"
    }
   ],
   "source": [
    "# Создайте в таблице новый признак year_release, который соответствует году выпуска фильма.\n",
    "# У скольких фильмов не указан год их выпуска?\n",
    "rating['year_release'] = rating['title'].apply(get_year_release)\n",
    "rating[rating['year_release'].notna() == False].shape[0]"
   ]
  },
  {
   "cell_type": "code",
   "execution_count": 33,
   "metadata": {},
   "outputs": [
    {
     "data": {
      "text/plain": [
       "'Bloodsport: The Dark Kumite (1999)'"
      ]
     },
     "execution_count": 33,
     "metadata": {},
     "output_type": "execute_result"
    }
   ],
   "source": [
    "# Какой фильм, выпущенный в 1999 году, получил наименьшую среднюю оценку зрителей?\n",
    "rating[rating['year_release'] == 1999].groupby('title')['rating'].mean().sort_values().index[0]"
   ]
  },
  {
   "cell_type": "code",
   "execution_count": 34,
   "metadata": {},
   "outputs": [
    {
     "data": {
      "text/plain": [
       "'Action|Sci-Fi'"
      ]
     },
     "execution_count": 34,
     "metadata": {},
     "output_type": "execute_result"
    }
   ],
   "source": [
    "# Какое сочетание жанров фильмов (genres), выпущенных в 2010 году, получило наименьшую среднюю оценку (rating)?\n",
    "rating[rating['year_release'] == 2010].groupby('genres')['rating'].mean().sort_values().index[0]"
   ]
  },
  {
   "cell_type": "code",
   "execution_count": 35,
   "metadata": {},
   "outputs": [
    {
     "data": {
      "text/plain": [
       "599"
      ]
     },
     "execution_count": 35,
     "metadata": {},
     "output_type": "execute_result"
    }
   ],
   "source": [
    "# Какой пользователь (userId) посмотрел наибольшее количество различных (уникальных) комбинаций жанров (genres) фильмов?\n",
    "rating.groupby('userId')['genres'].nunique().sort_values(ascending=False).index[0]"
   ]
  },
  {
   "cell_type": "code",
   "execution_count": 44,
   "metadata": {},
   "outputs": [
    {
     "data": {
      "text/plain": [
       "53"
      ]
     },
     "execution_count": 44,
     "metadata": {},
     "output_type": "execute_result"
    }
   ],
   "source": [
    "# Найдите пользователя, который выставил наименьшее количество оценок, но его средняя оценка фильмам наибольшая.\n",
    "rating.groupby('userId')['rating'].agg(['count', 'mean']).sort_values(by=['count', 'mean'], ascending=[True, False]).index[0]"
   ]
  },
  {
   "cell_type": "code",
   "execution_count": 50,
   "metadata": {},
   "outputs": [
    {
     "data": {
      "text/html": [
       "<div>\n",
       "<style scoped>\n",
       "    .dataframe tbody tr th:only-of-type {\n",
       "        vertical-align: middle;\n",
       "    }\n",
       "\n",
       "    .dataframe tbody tr th {\n",
       "        vertical-align: top;\n",
       "    }\n",
       "\n",
       "    .dataframe thead th {\n",
       "        text-align: right;\n",
       "    }\n",
       "</style>\n",
       "<table border=\"1\" class=\"dataframe\">\n",
       "  <thead>\n",
       "    <tr style=\"text-align: right;\">\n",
       "      <th></th>\n",
       "      <th>count</th>\n",
       "      <th>mean</th>\n",
       "    </tr>\n",
       "    <tr>\n",
       "      <th>genres</th>\n",
       "      <th></th>\n",
       "      <th></th>\n",
       "    </tr>\n",
       "  </thead>\n",
       "  <tbody>\n",
       "    <tr>\n",
       "      <th>Action|Adventure|Sci-Fi</th>\n",
       "      <td>14</td>\n",
       "      <td>3.928571</td>\n",
       "    </tr>\n",
       "    <tr>\n",
       "      <th>Action|Comedy|Sci-Fi</th>\n",
       "      <td>12</td>\n",
       "      <td>3.875000</td>\n",
       "    </tr>\n",
       "  </tbody>\n",
       "</table>\n",
       "</div>"
      ],
      "text/plain": [
       "                         count      mean\n",
       "genres                                  \n",
       "Action|Adventure|Sci-Fi     14  3.928571\n",
       "Action|Comedy|Sci-Fi        12  3.875000"
      ]
     },
     "execution_count": 50,
     "metadata": {},
     "output_type": "execute_result"
    }
   ],
   "source": [
    "# Найдите сочетание жанров (genres) за 2018 году, которое имеет наибольший средний рейтинг (среднее по столбцу rating), \n",
    "# и при этом число выставленных ему оценок (количество значений в столбце rating) больше 10.\n",
    "table = rating[rating['year_release'] == 2018].groupby('genres')['rating'].agg(['count', 'mean'])\n",
    "table[table['count']>10].sort_values('mean',ascending=False)"
   ]
  },
  {
   "cell_type": "code",
   "execution_count": 120,
   "metadata": {},
   "outputs": [
    {
     "data": {
      "text/html": [
       "<div>\n",
       "<style scoped>\n",
       "    .dataframe tbody tr th:only-of-type {\n",
       "        vertical-align: middle;\n",
       "    }\n",
       "\n",
       "    .dataframe tbody tr th {\n",
       "        vertical-align: top;\n",
       "    }\n",
       "\n",
       "    .dataframe thead th {\n",
       "        text-align: right;\n",
       "    }\n",
       "</style>\n",
       "<table border=\"1\" class=\"dataframe\">\n",
       "  <thead>\n",
       "    <tr style=\"text-align: right;\">\n",
       "      <th>genres</th>\n",
       "      <th>(no genres listed)</th>\n",
       "      <th>Action</th>\n",
       "      <th>Action|Adventure</th>\n",
       "      <th>Action|Adventure|Animation</th>\n",
       "      <th>Action|Adventure|Animation|Children</th>\n",
       "      <th>Action|Adventure|Animation|Children|Comedy</th>\n",
       "      <th>Action|Adventure|Animation|Children|Comedy|Fantasy</th>\n",
       "      <th>Action|Adventure|Animation|Children|Comedy|IMAX</th>\n",
       "      <th>Action|Adventure|Animation|Children|Comedy|Romance</th>\n",
       "      <th>Action|Adventure|Animation|Children|Comedy|Sci-Fi</th>\n",
       "      <th>...</th>\n",
       "      <th>Romance|Thriller</th>\n",
       "      <th>Romance|War</th>\n",
       "      <th>Romance|Western</th>\n",
       "      <th>Sci-Fi</th>\n",
       "      <th>Sci-Fi|IMAX</th>\n",
       "      <th>Sci-Fi|Thriller</th>\n",
       "      <th>Sci-Fi|Thriller|IMAX</th>\n",
       "      <th>Thriller</th>\n",
       "      <th>War</th>\n",
       "      <th>Western</th>\n",
       "    </tr>\n",
       "    <tr>\n",
       "      <th>year_rating</th>\n",
       "      <th></th>\n",
       "      <th></th>\n",
       "      <th></th>\n",
       "      <th></th>\n",
       "      <th></th>\n",
       "      <th></th>\n",
       "      <th></th>\n",
       "      <th></th>\n",
       "      <th></th>\n",
       "      <th></th>\n",
       "      <th></th>\n",
       "      <th></th>\n",
       "      <th></th>\n",
       "      <th></th>\n",
       "      <th></th>\n",
       "      <th></th>\n",
       "      <th></th>\n",
       "      <th></th>\n",
       "      <th></th>\n",
       "      <th></th>\n",
       "      <th></th>\n",
       "    </tr>\n",
       "  </thead>\n",
       "  <tbody>\n",
       "    <tr>\n",
       "      <th>1996</th>\n",
       "      <td>NaN</td>\n",
       "      <td>2.730769</td>\n",
       "      <td>3.454545</td>\n",
       "      <td>NaN</td>\n",
       "      <td>NaN</td>\n",
       "      <td>NaN</td>\n",
       "      <td>NaN</td>\n",
       "      <td>NaN</td>\n",
       "      <td>NaN</td>\n",
       "      <td>NaN</td>\n",
       "      <td>...</td>\n",
       "      <td>NaN</td>\n",
       "      <td>NaN</td>\n",
       "      <td>NaN</td>\n",
       "      <td>NaN</td>\n",
       "      <td>NaN</td>\n",
       "      <td>2.666667</td>\n",
       "      <td>NaN</td>\n",
       "      <td>3.838095</td>\n",
       "      <td>NaN</td>\n",
       "      <td>3.117647</td>\n",
       "    </tr>\n",
       "    <tr>\n",
       "      <th>1997</th>\n",
       "      <td>NaN</td>\n",
       "      <td>3.538462</td>\n",
       "      <td>4.150000</td>\n",
       "      <td>NaN</td>\n",
       "      <td>NaN</td>\n",
       "      <td>NaN</td>\n",
       "      <td>NaN</td>\n",
       "      <td>NaN</td>\n",
       "      <td>NaN</td>\n",
       "      <td>NaN</td>\n",
       "      <td>...</td>\n",
       "      <td>NaN</td>\n",
       "      <td>NaN</td>\n",
       "      <td>NaN</td>\n",
       "      <td>NaN</td>\n",
       "      <td>NaN</td>\n",
       "      <td>3.400000</td>\n",
       "      <td>NaN</td>\n",
       "      <td>3.923077</td>\n",
       "      <td>NaN</td>\n",
       "      <td>3.000000</td>\n",
       "    </tr>\n",
       "  </tbody>\n",
       "</table>\n",
       "<p>2 rows × 951 columns</p>\n",
       "</div>"
      ],
      "text/plain": [
       "genres       (no genres listed)    Action  Action|Adventure  \\\n",
       "year_rating                                                   \n",
       "1996                        NaN  2.730769          3.454545   \n",
       "1997                        NaN  3.538462          4.150000   \n",
       "\n",
       "genres       Action|Adventure|Animation  Action|Adventure|Animation|Children  \\\n",
       "year_rating                                                                    \n",
       "1996                                NaN                                  NaN   \n",
       "1997                                NaN                                  NaN   \n",
       "\n",
       "genres       Action|Adventure|Animation|Children|Comedy  \\\n",
       "year_rating                                               \n",
       "1996                                                NaN   \n",
       "1997                                                NaN   \n",
       "\n",
       "genres       Action|Adventure|Animation|Children|Comedy|Fantasy  \\\n",
       "year_rating                                                       \n",
       "1996                                                       NaN    \n",
       "1997                                                       NaN    \n",
       "\n",
       "genres       Action|Adventure|Animation|Children|Comedy|IMAX  \\\n",
       "year_rating                                                    \n",
       "1996                                                     NaN   \n",
       "1997                                                     NaN   \n",
       "\n",
       "genres       Action|Adventure|Animation|Children|Comedy|Romance  \\\n",
       "year_rating                                                       \n",
       "1996                                                       NaN    \n",
       "1997                                                       NaN    \n",
       "\n",
       "genres       Action|Adventure|Animation|Children|Comedy|Sci-Fi  ...  \\\n",
       "year_rating                                                     ...   \n",
       "1996                                                       NaN  ...   \n",
       "1997                                                       NaN  ...   \n",
       "\n",
       "genres       Romance|Thriller  Romance|War  Romance|Western  Sci-Fi  \\\n",
       "year_rating                                                           \n",
       "1996                      NaN          NaN              NaN     NaN   \n",
       "1997                      NaN          NaN              NaN     NaN   \n",
       "\n",
       "genres       Sci-Fi|IMAX  Sci-Fi|Thriller  Sci-Fi|Thriller|IMAX  Thriller  \\\n",
       "year_rating                                                                 \n",
       "1996                 NaN         2.666667                   NaN  3.838095   \n",
       "1997                 NaN         3.400000                   NaN  3.923077   \n",
       "\n",
       "genres       War   Western  \n",
       "year_rating                 \n",
       "1996         NaN  3.117647  \n",
       "1997         NaN  3.000000  \n",
       "\n",
       "[2 rows x 951 columns]"
      ]
     },
     "metadata": {},
     "output_type": "display_data"
    },
    {
     "name": "stdout",
     "output_type": "stream",
     "text": [
      "True\n",
      "False\n",
      "True\n",
      "False\n"
     ]
    }
   ],
   "source": [
    "# Создайте сводную таблицу, которая иллюстрирует зависимость среднего рейтинга фильма от года выставления оценки и жанра.\n",
    "rating['year_rating'] = pd.to_datetime(rating['date']).dt.year\n",
    "pivot = rating.pivot_table(values='rating', index='year_rating', columns='genres', aggfunc='mean')\n",
    "display(pivot.head(2))\n",
    "\n",
    "# Проверьте гипотезы\n",
    "# A За весь период (с 1996 по 2018 год) сочетание жанров Action|Adventure ни разу не получало среднюю оценку ниже 3.\n",
    "print(pivot[(pivot.index>=1996)]['Action|Adventure'].min()>=3)\n",
    "\n",
    "# B Наилучшую оценку жанр Action|Adventure|Animation|Children|Comedy|IMAX получил в 2010 году.\n",
    "print(pivot['Action|Adventure|Animation|Children|Comedy|IMAX'].sort_values(ascending=False).index[0] == 2010)\n",
    "\n",
    "# C Среди сочетаний жанров, получивших наивысшую среднюю оценку в 2018 году, есть сочетание Animation|Children|Mystery.\n",
    "pivot_2018 = pivot[pivot.index==2018]\n",
    "print(pivot_2018['Animation|Children|Mystery'].iloc[0] == pivot_2018.max().max())\n",
    "\n",
    "# D Для жанра Comedy прослеживается тенденция падения рейтинга с каждым годом (с 1996 по 2018).\n",
    "serie_comedy = pivot[(pivot.index>=1996)]['Comedy']\n",
    "print(all(serie_comedy.index == serie_comedy.sort_values(ascending=False).index))"
   ]
  }
 ],
 "metadata": {
  "kernelspec": {
   "display_name": "Python 3",
   "language": "python",
   "name": "python3"
  },
  "language_info": {
   "codemirror_mode": {
    "name": "ipython",
    "version": 3
   },
   "file_extension": ".py",
   "mimetype": "text/x-python",
   "name": "python",
   "nbconvert_exporter": "python",
   "pygments_lexer": "ipython3",
   "version": "3.9.10 (tags/v3.9.10:f2f3f53, Jan 17 2022, 15:14:21) [MSC v.1929 64 bit (AMD64)]"
  },
  "orig_nbformat": 4,
  "vscode": {
   "interpreter": {
    "hash": "e54c2f264ed7b124c7aa4ebd8a43964164d899d2ea608eb2fd3f3ea6d148e1f2"
   }
  }
 },
 "nbformat": 4,
 "nbformat_minor": 2
}
