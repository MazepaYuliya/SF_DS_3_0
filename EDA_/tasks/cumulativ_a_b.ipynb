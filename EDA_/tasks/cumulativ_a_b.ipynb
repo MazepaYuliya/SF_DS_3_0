{
 "cells": [
  {
   "attachments": {},
   "cell_type": "markdown",
   "metadata": {},
   "source": [
    "### Кумулятивные метрики для AB-тестирования"
   ]
  },
  {
   "cell_type": "code",
   "execution_count": 1,
   "metadata": {},
   "outputs": [],
   "source": [
    "import pandas as pd"
   ]
  },
  {
   "attachments": {},
   "cell_type": "markdown",
   "metadata": {},
   "source": [
    "* **date** — дата наблюдения;\n",
    "* **cid** — идентификатор посетителя;\n",
    "* **transactions** — количество совершённых целевых действий (транзакций);\n",
    "* **revenue** — сумма покупки;\n",
    "* **group** — группа (тестовая — А, контрольная — B)."
   ]
  },
  {
   "cell_type": "code",
   "execution_count": 6,
   "metadata": {},
   "outputs": [
    {
     "data": {
      "text/html": [
       "<div>\n",
       "<style scoped>\n",
       "    .dataframe tbody tr th:only-of-type {\n",
       "        vertical-align: middle;\n",
       "    }\n",
       "\n",
       "    .dataframe tbody tr th {\n",
       "        vertical-align: top;\n",
       "    }\n",
       "\n",
       "    .dataframe thead th {\n",
       "        text-align: right;\n",
       "    }\n",
       "</style>\n",
       "<table border=\"1\" class=\"dataframe\">\n",
       "  <thead>\n",
       "    <tr style=\"text-align: right;\">\n",
       "      <th></th>\n",
       "      <th>date</th>\n",
       "      <th>cid</th>\n",
       "      <th>transactions</th>\n",
       "      <th>revenue</th>\n",
       "      <th>group</th>\n",
       "    </tr>\n",
       "  </thead>\n",
       "  <tbody>\n",
       "    <tr>\n",
       "      <th>0</th>\n",
       "      <td>2020-11-06</td>\n",
       "      <td>1.001648e+09</td>\n",
       "      <td>0</td>\n",
       "      <td>0</td>\n",
       "      <td>A</td>\n",
       "    </tr>\n",
       "    <tr>\n",
       "      <th>1</th>\n",
       "      <td>2020-11-06</td>\n",
       "      <td>1.001936e+09</td>\n",
       "      <td>0</td>\n",
       "      <td>0</td>\n",
       "      <td>A</td>\n",
       "    </tr>\n",
       "    <tr>\n",
       "      <th>2</th>\n",
       "      <td>2020-11-06</td>\n",
       "      <td>1.003214e+08</td>\n",
       "      <td>0</td>\n",
       "      <td>0</td>\n",
       "      <td>A</td>\n",
       "    </tr>\n",
       "  </tbody>\n",
       "</table>\n",
       "</div>"
      ],
      "text/plain": [
       "         date           cid  transactions  revenue group\n",
       "0  2020-11-06  1.001648e+09             0        0     A\n",
       "1  2020-11-06  1.001936e+09             0        0     A\n",
       "2  2020-11-06  1.003214e+08             0        0     A"
      ]
     },
     "execution_count": 6,
     "metadata": {},
     "output_type": "execute_result"
    }
   ],
   "source": [
    "sample_a = pd.read_csv('../data/ab_test-redesign_sample_a.csv')\n",
    "sample_b = pd.read_csv('../data/ab_test-redesign_sample_b.csv')\n",
    "\n",
    "sample_a.head(3)"
   ]
  },
  {
   "cell_type": "code",
   "execution_count": 7,
   "metadata": {},
   "outputs": [
    {
     "name": "stdout",
     "output_type": "stream",
     "text": [
      "<class 'pandas.core.frame.DataFrame'>\n",
      "RangeIndex: 61571 entries, 0 to 61570\n",
      "Data columns (total 5 columns):\n",
      " #   Column        Non-Null Count  Dtype  \n",
      "---  ------        --------------  -----  \n",
      " 0   date          61571 non-null  object \n",
      " 1   cid           61571 non-null  float64\n",
      " 2   transactions  61571 non-null  int64  \n",
      " 3   revenue       61571 non-null  int64  \n",
      " 4   group         61571 non-null  object \n",
      "dtypes: float64(1), int64(2), object(2)\n",
      "memory usage: 2.3+ MB\n"
     ]
    }
   ],
   "source": [
    "sample_a.info()"
   ]
  },
  {
   "cell_type": "code",
   "execution_count": 67,
   "metadata": {},
   "outputs": [
    {
     "data": {
      "text/html": [
       "<div>\n",
       "<style scoped>\n",
       "    .dataframe tbody tr th:only-of-type {\n",
       "        vertical-align: middle;\n",
       "    }\n",
       "\n",
       "    .dataframe tbody tr th {\n",
       "        vertical-align: top;\n",
       "    }\n",
       "\n",
       "    .dataframe thead th {\n",
       "        text-align: right;\n",
       "    }\n",
       "</style>\n",
       "<table border=\"1\" class=\"dataframe\">\n",
       "  <thead>\n",
       "    <tr style=\"text-align: right;\">\n",
       "      <th></th>\n",
       "      <th>transactions_sum</th>\n",
       "      <th>revenue_sum</th>\n",
       "      <th>revenue_mean</th>\n",
       "      <th>cid_nunique</th>\n",
       "    </tr>\n",
       "    <tr>\n",
       "      <th>date</th>\n",
       "      <th></th>\n",
       "      <th></th>\n",
       "      <th></th>\n",
       "      <th></th>\n",
       "    </tr>\n",
       "  </thead>\n",
       "  <tbody>\n",
       "    <tr>\n",
       "      <th>2020-11-06</th>\n",
       "      <td>16</td>\n",
       "      <td>1577279</td>\n",
       "      <td>612.297748</td>\n",
       "      <td>2576</td>\n",
       "    </tr>\n",
       "    <tr>\n",
       "      <th>2020-11-07</th>\n",
       "      <td>23</td>\n",
       "      <td>1721886</td>\n",
       "      <td>636.792160</td>\n",
       "      <td>2704</td>\n",
       "    </tr>\n",
       "    <tr>\n",
       "      <th>2020-11-08</th>\n",
       "      <td>25</td>\n",
       "      <td>846051</td>\n",
       "      <td>252.251342</td>\n",
       "      <td>3354</td>\n",
       "    </tr>\n",
       "  </tbody>\n",
       "</table>\n",
       "</div>"
      ],
      "text/plain": [
       "            transactions_sum  revenue_sum  revenue_mean  cid_nunique\n",
       "date                                                                \n",
       "2020-11-06                16      1577279    612.297748         2576\n",
       "2020-11-07                23      1721886    636.792160         2704\n",
       "2020-11-08                25       846051    252.251342         3354"
      ]
     },
     "execution_count": 67,
     "metadata": {},
     "output_type": "execute_result"
    }
   ],
   "source": [
    "sample_a['date'] = pd.to_datetime(sample_a['date'])\n",
    "grouped_a = sample_a.groupby('date').agg({'transactions': 'sum', 'revenue': ['sum', 'mean'], 'cid': 'nunique'})\n",
    "\n",
    "grouped_a.columns = [\"_\".join(a) for a in grouped_a.columns.to_flat_index()]\n",
    "grouped_a.head(3)\n"
   ]
  },
  {
   "cell_type": "code",
   "execution_count": 90,
   "metadata": {},
   "outputs": [
    {
     "data": {
      "text/html": [
       "<div>\n",
       "<style scoped>\n",
       "    .dataframe tbody tr th:only-of-type {\n",
       "        vertical-align: middle;\n",
       "    }\n",
       "\n",
       "    .dataframe tbody tr th {\n",
       "        vertical-align: top;\n",
       "    }\n",
       "\n",
       "    .dataframe thead th {\n",
       "        text-align: right;\n",
       "    }\n",
       "</style>\n",
       "<table border=\"1\" class=\"dataframe\">\n",
       "  <thead>\n",
       "    <tr style=\"text-align: right;\">\n",
       "      <th></th>\n",
       "      <th>transactions_sum</th>\n",
       "      <th>revenue_sum</th>\n",
       "      <th>revenue_mean</th>\n",
       "      <th>cid_nunique</th>\n",
       "    </tr>\n",
       "    <tr>\n",
       "      <th>date</th>\n",
       "      <th></th>\n",
       "      <th></th>\n",
       "      <th></th>\n",
       "      <th></th>\n",
       "    </tr>\n",
       "  </thead>\n",
       "  <tbody>\n",
       "    <tr>\n",
       "      <th>2020-11-06</th>\n",
       "      <td>19</td>\n",
       "      <td>996645</td>\n",
       "      <td>398.817527</td>\n",
       "      <td>2499</td>\n",
       "    </tr>\n",
       "    <tr>\n",
       "      <th>2020-11-07</th>\n",
       "      <td>19</td>\n",
       "      <td>555499</td>\n",
       "      <td>198.109486</td>\n",
       "      <td>2804</td>\n",
       "    </tr>\n",
       "    <tr>\n",
       "      <th>2020-11-08</th>\n",
       "      <td>24</td>\n",
       "      <td>3044842</td>\n",
       "      <td>925.202674</td>\n",
       "      <td>3291</td>\n",
       "    </tr>\n",
       "  </tbody>\n",
       "</table>\n",
       "</div>"
      ],
      "text/plain": [
       "            transactions_sum  revenue_sum  revenue_mean  cid_nunique\n",
       "date                                                                \n",
       "2020-11-06                19       996645    398.817527         2499\n",
       "2020-11-07                19       555499    198.109486         2804\n",
       "2020-11-08                24      3044842    925.202674         3291"
      ]
     },
     "execution_count": 90,
     "metadata": {},
     "output_type": "execute_result"
    }
   ],
   "source": [
    "sample_b['date'] = pd.to_datetime(sample_b['date'])\n",
    "grouped_b = sample_b.groupby('date').agg({'transactions': 'sum', 'revenue': ['sum', 'mean'], 'cid': 'nunique'}, as_index=False)\n",
    "\n",
    "grouped_b.columns = [\"_\".join(a) for a in grouped_b.columns.to_flat_index()]\n",
    "grouped_b.head(3)"
   ]
  },
  {
   "cell_type": "code",
   "execution_count": 69,
   "metadata": {},
   "outputs": [
    {
     "data": {
      "text/html": [
       "<div>\n",
       "<style scoped>\n",
       "    .dataframe tbody tr th:only-of-type {\n",
       "        vertical-align: middle;\n",
       "    }\n",
       "\n",
       "    .dataframe tbody tr th {\n",
       "        vertical-align: top;\n",
       "    }\n",
       "\n",
       "    .dataframe thead th {\n",
       "        text-align: right;\n",
       "    }\n",
       "</style>\n",
       "<table border=\"1\" class=\"dataframe\">\n",
       "  <thead>\n",
       "    <tr style=\"text-align: right;\">\n",
       "      <th></th>\n",
       "      <th>transactions_sum</th>\n",
       "      <th>revenue_sum</th>\n",
       "      <th>revenue_mean</th>\n",
       "      <th>cid_nunique</th>\n",
       "      <th>cum_users_count</th>\n",
       "      <th>cum_transactions</th>\n",
       "      <th>cum_revenue</th>\n",
       "      <th>cum_mean_revenue</th>\n",
       "      <th>cum_conversion</th>\n",
       "    </tr>\n",
       "    <tr>\n",
       "      <th>date</th>\n",
       "      <th></th>\n",
       "      <th></th>\n",
       "      <th></th>\n",
       "      <th></th>\n",
       "      <th></th>\n",
       "      <th></th>\n",
       "      <th></th>\n",
       "      <th></th>\n",
       "      <th></th>\n",
       "    </tr>\n",
       "  </thead>\n",
       "  <tbody>\n",
       "    <tr>\n",
       "      <th>2020-11-06</th>\n",
       "      <td>16</td>\n",
       "      <td>1577279</td>\n",
       "      <td>612.297748</td>\n",
       "      <td>2576</td>\n",
       "      <td>2576</td>\n",
       "      <td>16</td>\n",
       "      <td>1577279</td>\n",
       "      <td>612.297748</td>\n",
       "      <td>0.621118</td>\n",
       "    </tr>\n",
       "    <tr>\n",
       "      <th>2020-11-07</th>\n",
       "      <td>23</td>\n",
       "      <td>1721886</td>\n",
       "      <td>636.792160</td>\n",
       "      <td>2704</td>\n",
       "      <td>5280</td>\n",
       "      <td>39</td>\n",
       "      <td>3299165</td>\n",
       "      <td>1249.089908</td>\n",
       "      <td>0.738636</td>\n",
       "    </tr>\n",
       "    <tr>\n",
       "      <th>2020-11-08</th>\n",
       "      <td>25</td>\n",
       "      <td>846051</td>\n",
       "      <td>252.251342</td>\n",
       "      <td>3354</td>\n",
       "      <td>8634</td>\n",
       "      <td>64</td>\n",
       "      <td>4145216</td>\n",
       "      <td>1501.341250</td>\n",
       "      <td>0.741256</td>\n",
       "    </tr>\n",
       "    <tr>\n",
       "      <th>2020-11-09</th>\n",
       "      <td>18</td>\n",
       "      <td>708830</td>\n",
       "      <td>219.180581</td>\n",
       "      <td>3234</td>\n",
       "      <td>11868</td>\n",
       "      <td>82</td>\n",
       "      <td>4854046</td>\n",
       "      <td>1720.521831</td>\n",
       "      <td>0.690934</td>\n",
       "    </tr>\n",
       "  </tbody>\n",
       "</table>\n",
       "</div>"
      ],
      "text/plain": [
       "            transactions_sum  revenue_sum  revenue_mean  cid_nunique  \\\n",
       "date                                                                   \n",
       "2020-11-06                16      1577279    612.297748         2576   \n",
       "2020-11-07                23      1721886    636.792160         2704   \n",
       "2020-11-08                25       846051    252.251342         3354   \n",
       "2020-11-09                18       708830    219.180581         3234   \n",
       "\n",
       "            cum_users_count  cum_transactions  cum_revenue  cum_mean_revenue  \\\n",
       "date                                                                           \n",
       "2020-11-06             2576                16      1577279        612.297748   \n",
       "2020-11-07             5280                39      3299165       1249.089908   \n",
       "2020-11-08             8634                64      4145216       1501.341250   \n",
       "2020-11-09            11868                82      4854046       1720.521831   \n",
       "\n",
       "            cum_conversion  \n",
       "date                        \n",
       "2020-11-06        0.621118  \n",
       "2020-11-07        0.738636  \n",
       "2020-11-08        0.741256  \n",
       "2020-11-09        0.690934  "
      ]
     },
     "execution_count": 69,
     "metadata": {},
     "output_type": "execute_result"
    }
   ],
   "source": [
    "# вычисляем кумулятивную сумму количества посетителей\n",
    "grouped_a['cum_users_count'] = grouped_a['cid_nunique'].cumsum()\n",
    "# вычисляем кумулятивную сумму количества совершённых целевых действий\n",
    "grouped_a['cum_transactions'] = grouped_a['transactions_sum'].cumsum()\n",
    "# вычисляем кумулятивную сумму трат\n",
    "grouped_a['cum_revenue'] = grouped_a['revenue_sum'].cumsum()\n",
    "grouped_a['cum_mean_revenue'] = grouped_a['revenue_mean'].cumsum()\n",
    "grouped_a['cum_conversion'] = grouped_a['cum_transactions']/grouped_a['cum_users_count'] * 100\n",
    "grouped_a.head(4)"
   ]
  },
  {
   "cell_type": "code",
   "execution_count": 70,
   "metadata": {},
   "outputs": [
    {
     "data": {
      "text/html": [
       "<div>\n",
       "<style scoped>\n",
       "    .dataframe tbody tr th:only-of-type {\n",
       "        vertical-align: middle;\n",
       "    }\n",
       "\n",
       "    .dataframe tbody tr th {\n",
       "        vertical-align: top;\n",
       "    }\n",
       "\n",
       "    .dataframe thead th {\n",
       "        text-align: right;\n",
       "    }\n",
       "</style>\n",
       "<table border=\"1\" class=\"dataframe\">\n",
       "  <thead>\n",
       "    <tr style=\"text-align: right;\">\n",
       "      <th></th>\n",
       "      <th>transactions_sum</th>\n",
       "      <th>revenue_sum</th>\n",
       "      <th>revenue_mean</th>\n",
       "      <th>cid_nunique</th>\n",
       "      <th>cum_users_count</th>\n",
       "      <th>cum_transactions</th>\n",
       "      <th>cum_revenue</th>\n",
       "      <th>cum_mean_revenue</th>\n",
       "      <th>cum_conversion</th>\n",
       "    </tr>\n",
       "    <tr>\n",
       "      <th>date</th>\n",
       "      <th></th>\n",
       "      <th></th>\n",
       "      <th></th>\n",
       "      <th></th>\n",
       "      <th></th>\n",
       "      <th></th>\n",
       "      <th></th>\n",
       "      <th></th>\n",
       "      <th></th>\n",
       "    </tr>\n",
       "  </thead>\n",
       "  <tbody>\n",
       "    <tr>\n",
       "      <th>2020-11-06</th>\n",
       "      <td>19</td>\n",
       "      <td>996645</td>\n",
       "      <td>398.817527</td>\n",
       "      <td>2499</td>\n",
       "      <td>2499</td>\n",
       "      <td>19</td>\n",
       "      <td>996645</td>\n",
       "      <td>398.817527</td>\n",
       "      <td>0.760304</td>\n",
       "    </tr>\n",
       "    <tr>\n",
       "      <th>2020-11-07</th>\n",
       "      <td>19</td>\n",
       "      <td>555499</td>\n",
       "      <td>198.109486</td>\n",
       "      <td>2804</td>\n",
       "      <td>5303</td>\n",
       "      <td>38</td>\n",
       "      <td>1552144</td>\n",
       "      <td>596.927013</td>\n",
       "      <td>0.716576</td>\n",
       "    </tr>\n",
       "    <tr>\n",
       "      <th>2020-11-08</th>\n",
       "      <td>24</td>\n",
       "      <td>3044842</td>\n",
       "      <td>925.202674</td>\n",
       "      <td>3291</td>\n",
       "      <td>8594</td>\n",
       "      <td>62</td>\n",
       "      <td>4596986</td>\n",
       "      <td>1522.129687</td>\n",
       "      <td>0.721434</td>\n",
       "    </tr>\n",
       "    <tr>\n",
       "      <th>2020-11-09</th>\n",
       "      <td>25</td>\n",
       "      <td>1285836</td>\n",
       "      <td>419.933377</td>\n",
       "      <td>3062</td>\n",
       "      <td>11656</td>\n",
       "      <td>87</td>\n",
       "      <td>5882822</td>\n",
       "      <td>1942.063064</td>\n",
       "      <td>0.746397</td>\n",
       "    </tr>\n",
       "  </tbody>\n",
       "</table>\n",
       "</div>"
      ],
      "text/plain": [
       "            transactions_sum  revenue_sum  revenue_mean  cid_nunique  \\\n",
       "date                                                                   \n",
       "2020-11-06                19       996645    398.817527         2499   \n",
       "2020-11-07                19       555499    198.109486         2804   \n",
       "2020-11-08                24      3044842    925.202674         3291   \n",
       "2020-11-09                25      1285836    419.933377         3062   \n",
       "\n",
       "            cum_users_count  cum_transactions  cum_revenue  cum_mean_revenue  \\\n",
       "date                                                                           \n",
       "2020-11-06             2499                19       996645        398.817527   \n",
       "2020-11-07             5303                38      1552144        596.927013   \n",
       "2020-11-08             8594                62      4596986       1522.129687   \n",
       "2020-11-09            11656                87      5882822       1942.063064   \n",
       "\n",
       "            cum_conversion  \n",
       "date                        \n",
       "2020-11-06        0.760304  \n",
       "2020-11-07        0.716576  \n",
       "2020-11-08        0.721434  \n",
       "2020-11-09        0.746397  "
      ]
     },
     "execution_count": 70,
     "metadata": {},
     "output_type": "execute_result"
    }
   ],
   "source": [
    "# вычисляем кумулятивную сумму количества посетителей\n",
    "grouped_b['cum_users_count'] = grouped_b['cid_nunique'].cumsum()\n",
    "# вычисляем кумулятивную сумму количества совершённых целевых действий\n",
    "grouped_b['cum_transactions'] = grouped_b['transactions_sum'].cumsum()\n",
    "# вычисляем кумулятивную сумму трат\n",
    "grouped_b['cum_revenue'] = grouped_b['revenue_sum'].cumsum()\n",
    "grouped_b['cum_mean_revenue'] = grouped_b['revenue_mean'].cumsum()\n",
    "grouped_b['cum_conversion'] = grouped_b['cum_transactions']/grouped_b['cum_users_count'] * 100\n",
    "grouped_b.head(4)"
   ]
  },
  {
   "cell_type": "code",
   "execution_count": 71,
   "metadata": {},
   "outputs": [
    {
     "name": "stdout",
     "output_type": "stream",
     "text": [
      "Средняя кумулятивная конверсия в группе A: 0.71\n",
      "Средняя кумулятивная конверсия в группе B: 0.76\n"
     ]
    }
   ],
   "source": [
    "print(f'Средняя кумулятивная конверсия в группе A: {grouped_a[\"cum_conversion\"].mean().round(2)}')\n",
    "print(f'Средняя кумулятивная конверсия в группе B: {grouped_b[\"cum_conversion\"].mean().round(2)}')"
   ]
  },
  {
   "cell_type": "code",
   "execution_count": 72,
   "metadata": {},
   "outputs": [
    {
     "data": {
      "image/png": "[encoded data removed]",
      "text/plain": [
       "<Figure size 800x400 with 1 Axes>"
      ]
     },
     "metadata": {},
     "output_type": "display_data"
    }
   ],
   "source": [
    "import matplotlib.pyplot as plt\n",
    "import seaborn as sns\n",
    "\n",
    "# создаём фигуру размером 8x4\n",
    "fig = plt.figure(figsize=(8, 4))\n",
    "# добавляем систему координат\n",
    "ax = fig.add_axes([1, 1, 1, 1])\n",
    "# строим lineplot для кумулятивной конверсии во времени в каждой группе\n",
    "sns.lineplot(x='date', y='cum_conversion', data=grouped_a, ax=ax, label='A')\n",
    "sns.lineplot(x='date', y='cum_conversion', data=grouped_b, ax=ax, label='B')\n",
    "# задаём подпись к графику\n",
    "ax.set_title('График кумулятивной конверсии по дням')\n",
    "# задаём поворот меток на оси абсцисс\n",
    "ax.xaxis.set_tick_params(rotation = 45)\n",
    "# задаём отображение сетки\n",
    "ax.grid(True);"
   ]
  },
  {
   "cell_type": "code",
   "execution_count": 74,
   "metadata": {},
   "outputs": [
    {
     "data": {
      "image/png": "[encoded data removed]",
      "text/plain": [
       "<Figure size 800x400 with 1 Axes>"
      ]
     },
     "metadata": {},
     "output_type": "display_data"
    }
   ],
   "source": [
    "# создаём фигуру размером 8x4\n",
    "fig = plt.figure(figsize=(8, 4))\n",
    "# добавляем систему координат\n",
    "ax = fig.add_axes([1, 1, 1, 1])\n",
    "# строим lineplot для кумулятивного среднего чека во времени в каждой группе\n",
    "sns.lineplot(x='date', y='cum_mean_revenue', data=grouped_a, ax=ax, label='A')\n",
    "sns.lineplot(x='date', y='cum_mean_revenue', data=grouped_b, ax=ax, label='B')\n",
    "# задаём подпись к графику\n",
    "ax.set_title('График кумулятивного среднего чека по дням')\n",
    "# задаём поворот меток на оси абсцисс\n",
    "ax.xaxis.set_tick_params(rotation = 45)\n",
    "# задаём отображение сетки\n",
    "ax.grid(True);"
   ]
  },
  {
   "attachments": {},
   "cell_type": "markdown",
   "metadata": {},
   "source": [
    "Проверим гипотезу о равенстве конверсий в группах А и B при альтернативной гипотезе: Конверсия в группе А меньше, чем конверсия в группе B."
   ]
  },
  {
   "cell_type": "code",
   "execution_count": 117,
   "metadata": {},
   "outputs": [
    {
     "data": {
      "text/html": [
       "<div>\n",
       "<style scoped>\n",
       "    .dataframe tbody tr th:only-of-type {\n",
       "        vertical-align: middle;\n",
       "    }\n",
       "\n",
       "    .dataframe tbody tr th {\n",
       "        vertical-align: top;\n",
       "    }\n",
       "\n",
       "    .dataframe thead th {\n",
       "        text-align: right;\n",
       "    }\n",
       "</style>\n",
       "<table border=\"1\" class=\"dataframe\">\n",
       "  <thead>\n",
       "    <tr style=\"text-align: right;\">\n",
       "      <th></th>\n",
       "      <th>group</th>\n",
       "      <th>transactions_sum</th>\n",
       "      <th>cid_nunique</th>\n",
       "    </tr>\n",
       "  </thead>\n",
       "  <tbody>\n",
       "    <tr>\n",
       "      <th>0</th>\n",
       "      <td>A</td>\n",
       "      <td>441</td>\n",
       "      <td>61571</td>\n",
       "    </tr>\n",
       "    <tr>\n",
       "      <th>0</th>\n",
       "      <td>B</td>\n",
       "      <td>463</td>\n",
       "      <td>61383</td>\n",
       "    </tr>\n",
       "  </tbody>\n",
       "</table>\n",
       "</div>"
      ],
      "text/plain": [
       "  group  transactions_sum  cid_nunique\n",
       "0     A               441        61571\n",
       "0     B               463        61383"
      ]
     },
     "execution_count": 117,
     "metadata": {},
     "output_type": "execute_result"
    }
   ],
   "source": [
    "total_a = grouped_a.groupby('group').agg({'transactions_sum': 'sum', 'cid_nunique': 'sum'}).reset_index()\n",
    "total_b = grouped_b.groupby('group').agg({'transactions_sum': 'sum', 'cid_nunique': 'sum'}).reset_index()\n",
    "total_a['group'] = 'A'\n",
    "total_b['group'] = 'B'\n",
    "converted_piv = pd.concat([total_a, total_b], axis=0)\n",
    "\n",
    "converted_piv"
   ]
  },
  {
   "cell_type": "code",
   "execution_count": 119,
   "metadata": {},
   "outputs": [
    {
     "name": "stdout",
     "output_type": "stream",
     "text": [
      "p-value:  0.22\n",
      "Принимаем нулевую гипотезу. Конверсии в группах А и B равны\n"
     ]
    }
   ],
   "source": [
    "from statsmodels.stats.proportion import proportions_ztest\n",
    "\n",
    "# нулевая и альтернативная гипотезы\n",
    "H0 = 'Конверсии в группах А и B равны'\n",
    "H1 = 'Конверсия в группе А меньше, чем конверсия в группе B'\n",
    "alpha = 0.05 # уровень значимости\n",
    "# вычисляем значение p-value для z-теста для пропорций\n",
    "_, p_value = proportions_ztest(\n",
    "    count=converted_piv['transactions_sum'], #число \"успехов\"\n",
    "    nobs=converted_piv['cid_nunique'], #общее число наблюдений\n",
    "    alternative='smaller',\n",
    ")\n",
    "# выводим результат на экран\n",
    "print('p-value: ', round(p_value, 2))\n",
    "# сравниваем полученное p-value с уровнем значимости\n",
    "if (p_value < alpha): \n",
    "    print(\"Отвергаем нулевую гипотезу. {}\".format(H0))\n",
    "    print(\"Альтернативная гипотеза. H1: {}\".format(H1))\n",
    "else:\n",
    "    print(\"Принимаем нулевую гипотезу. {}\".format(H0))\n",
    " "
   ]
  },
  {
   "attachments": {},
   "cell_type": "markdown",
   "metadata": {},
   "source": [
    "Проверим гипотезу о нормальности распределений ежедневного среднего чека с помощью критерия Шапиро-Уилка"
   ]
  },
  {
   "cell_type": "code",
   "execution_count": 120,
   "metadata": {},
   "outputs": [
    {
     "name": "stdout",
     "output_type": "stream",
     "text": [
      "p-value группы А 0.01\n",
      "p-value группы B 0.15\n",
      "Отвергаем нулевую гипотезу. Распределения в обеих группах нормальные\n",
      "Альтернативная гипотеза. H1: Распределение в одной или обеих группах отлично от нормального\n"
     ]
    }
   ],
   "source": [
    "from scipy.stats import shapiro\n",
    "# нулевая и альтернативная гипотезы\n",
    "H0 = 'Распределения в обеих группах нормальные'\n",
    "H1 = 'Распределение в одной или обеих группах отлично от нормального'\n",
    "alpha = 0.05 # уровень значимости\n",
    "# вычисляем результат теста Шапиро-Уилка для выборок\n",
    "shapiro_result_a = shapiro(grouped_a['revenue_mean'])\n",
    "shapiro_result_b = shapiro(grouped_b['revenue_mean'])\n",
    "print('p-value группы А', round(shapiro_result_a.pvalue, 2))\n",
    "print('p-value группы B', round(shapiro_result_b.pvalue, 2))\n",
    "# сравниваем полученное p-value с уровнем значимости\n",
    "if shapiro_result_a.pvalue < alpha or shapiro_result_b.pvalue < alpha:\n",
    "    print(\"Отвергаем нулевую гипотезу. {}\".format(H0))\n",
    "    print(\"Альтернативная гипотеза. H1: {}\".format(H1))\n",
    "else:\n",
    "    print(\"Принимаем нулевую гипотезу. {}\".format(H0))\n",
    " \n",
    "# p-value группы А 0.43\n",
    "# p-value группы B 0.12\n",
    "# Принимаем нулевую гипотезу. Распределения в обеих группах нормальные"
   ]
  },
  {
   "attachments": {},
   "cell_type": "markdown",
   "metadata": {},
   "source": [
    "Проверим гипотезу о равенстве ежедневных средних чеков с помощью критерия Манна-Уитни при альтернативной гипотезе: Ежедневный средний чек в группе А меньше, чем в группе B"
   ]
  },
  {
   "cell_type": "code",
   "execution_count": 122,
   "metadata": {},
   "outputs": [
    {
     "name": "stdout",
     "output_type": "stream",
     "text": [
      "p-value:  0.07\n",
      "Отвергаем нулевую гипотезу. Ежедневные средние чеки в группах А и B равны\n",
      "Альтернативная гипотеза. H1: Ежедневный средний чек в группе А меньше, чем в группе B\n"
     ]
    }
   ],
   "source": [
    "from scipy.stats import mannwhitneyu\n",
    "\n",
    "# нулевая и альтернативная гипотезы\n",
    "H0 = 'Ежедневные средние чеки в группах А и B равны'\n",
    "H1 = 'Ежедневный средний чек в группе А меньше, чем в группе B'\n",
    "alpha = 0.1 # уровень значимости\n",
    "# вычисляем значение p-value \n",
    "_, p_value = mannwhitneyu(\n",
    "    grouped_a['revenue_mean'], \n",
    "    grouped_b['revenue_mean'], \n",
    "    alternative='less',\n",
    ")\n",
    "# выводим результат на экран\n",
    "print('p-value: ', round(p_value, 2))\n",
    "# сравниваем полученное p-value с уровнем значимости\n",
    "if (p_value < alpha): \n",
    "    print(\"Отвергаем нулевую гипотезу. {}\".format(H0))\n",
    "    print(\"Альтернативная гипотеза. H1: {}\".format(H1))\n",
    "else:\n",
    "    print(\"Принимаем нулевую гипотезу. {}\".format(H0))\n",
    " "
   ]
  }
 ],
 "metadata": {
  "kernelspec": {
   "display_name": "Python 3",
   "language": "python",
   "name": "python3"
  },
  "language_info": {
   "codemirror_mode": {
    "name": "ipython",
    "version": 3
   },
   "file_extension": ".py",
   "mimetype": "text/x-python",
   "name": "python",
   "nbconvert_exporter": "python",
   "pygments_lexer": "ipython3",
   "version": "3.9.10"
  },
  "orig_nbformat": 4,
  "vscode": {
   "interpreter": {
    "hash": "e54c2f264ed7b124c7aa4ebd8a43964164d899d2ea608eb2fd3f3ea6d148e1f2"
   }
  }
 },
 "nbformat": 4,
 "nbformat_minor": 2
}
