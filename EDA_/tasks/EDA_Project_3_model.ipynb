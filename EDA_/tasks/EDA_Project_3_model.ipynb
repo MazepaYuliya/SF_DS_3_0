{
 "cells": [
  {
   "cell_type": "code",
   "execution_count": null,
   "metadata": {},
   "outputs": [],
   "source": [
    "import pandas as pd\n",
    "import category_encoders as ce\n",
    "from geopy.distance import geodesic"
   ]
  },
  {
   "attachments": {},
   "cell_type": "markdown",
   "metadata": {},
   "source": [
    "hotel_address — адрес отеля;\n",
    "review_date — дата, когда рецензент разместил соответствующий отзыв;\n",
    "average_score — средний балл отеля, рассчитанный на основе последнего комментария за последний год;\n",
    "hotel_name — название отеля;\n",
    "reviewer_nationality — страна рецензента;\n",
    "negative_review — отрицательный отзыв, который рецензент дал отелю;\n",
    "review_total_negative_word_counts — общее количество слов в отрицательном отзыв;\n",
    "positive_review — положительный отзыв, который рецензент дал отелю;\n",
    "review_total_positive_word_counts — общее количество слов в положительном отзыве.\n",
    "reviewer_score — оценка, которую рецензент поставил отелю на основе своего опыта;\n",
    "total_number_of_reviews_reviewer_has_given — количество отзывов, которые рецензенты дали в прошлом;\n",
    "total_number_of_reviews — общее количество действительных отзывов об отеле;\n",
    "tags — теги, которые рецензент дал отелю;\n",
    "days_since_review — количество дней между датой проверки и датой очистки;\n",
    "additional_number_of_scoring — есть также некоторые гости, которые просто поставили оценку сервису, но не оставили отзыв. Это число указывает, сколько там действительных оценок без проверки.\n",
    "lat — географическая широта отеля;\n",
    "lng — географическая долгота отеля."
   ]
  },
  {
   "cell_type": "code",
   "execution_count": null,
   "metadata": {},
   "outputs": [],
   "source": [
    "hotels = pd.read_csv('..\\data\\hotels.csv')\n",
    "hotels.head(3)"
   ]
  },
  {
   "cell_type": "markdown",
   "metadata": {},
   "source": []
  },
  {
   "cell_type": "code",
   "execution_count": null,
   "metadata": {},
   "outputs": [],
   "source": [
    "hotels.info()"
   ]
  },
  {
   "cell_type": "code",
   "execution_count": null,
   "metadata": {},
   "outputs": [],
   "source": [
    "hotels['review_year'] = pd.to_datetime(hotels['review_date']).dt.year\n",
    "hotels['review_month'] = pd.to_datetime(hotels['review_date']).dt.month\n",
    "\n",
    "hotels['days_since_review'] = hotels['days_since_review'].str.replace('days', '').str.replace('day', '').astype('int32')\n",
    "hotels.drop('review_date', axis=1, inplace=True);\n"
   ]
  },
  {
   "cell_type": "code",
   "execution_count": null,
   "metadata": {},
   "outputs": [],
   "source": [
    "def clear_empty_review(x, list_empty_words):\n",
    "    striped_x = x.strip()\n",
    "    lower_x = striped_x.lower()\n",
    "    for word in list_empty_words:\n",
    "        if lower_x.startswith(word):\n",
    "            return ''\n",
    "    return striped_x\n",
    "\n",
    "def clear_negative_review(x):\n",
    "    list_empty_words = ['nothing', 'n a', 'no negative', 'none', 'all good', 'everything was perfect', 'everything was great',\n",
    "                        'everything was good', 'na', 'i liked everything', 'no complaints', 'can t think of anything', 'nil',\n",
    "                        'liked everything', 'no', 'absolutely nothing', 'everything was fine', 'all was good', \n",
    "                        'there was nothing i didn t like', 'there was nothing to dislike', 'we liked everything',\n",
    "                        'it was all good', 'loved everything', 'loved everything', 'all ok', 'liked it all', 'not much',\n",
    "                        'there was nothing we didn t like']\n",
    "    return clear_empty_review(x, list_empty_words)\n",
    " \n",
    "def clear_positive_review(x):\n",
    "    list_empty_words = ['nothing', 'n a', 'no positive', 'none', 'na',  'not much', ]\n",
    "    return clear_empty_review(x, list_empty_words)   \n",
    "        \n",
    "hotels['negative_review'] = hotels['negative_review'].apply(clear_negative_review)\n",
    "hotels['review_total_negative_word_counts'] = hotels['negative_review'].apply(lambda x: 0 if x=='' else x)\n",
    "hotels['positive_review'] = hotels['positive_review'].apply(clear_positive_review)\n",
    "hotels['review_total_positive_word_counts'] = hotels['positive_review'].apply(lambda x: 0 if x=='' else x)"
   ]
  },
  {
   "cell_type": "code",
   "execution_count": null,
   "metadata": {},
   "outputs": [],
   "source": [
    "hotels['breakfast'] = hotels.apply(lambda x: -1 if 'breakfast' in x.negative_review else 1 if 'breakfast' in x.positive_review else 0, axis=1)\n",
    "hotels['staff'] = hotels.apply(lambda x: -1 if 'staff' in x.negative_review else 1 if 'staff' in x.positive_review else 0, axis=1)\n",
    "hotels['room'] = hotels.apply(lambda x: -1 if 'room' in x.negative_review else 1 if 'room' in x.positive_review else 0, axis=1)\n",
    "hotels['restaurant'] = hotels.apply(lambda x: -1 if 'restaurant' in x.negative_review else 1 if 'restaurant' in x.positive_review else 0, axis=1)\n",
    "hotels['expensive'] = hotels.apply(lambda x: -1 if 'expensive' in x.negative_review or 'price' in x.negative_review or 'cost' in x.negative_review else 1 if 'cheap' in x.positive_review else 0, axis=1)\n",
    "hotels['location'] = hotels.apply(lambda x: -1 if 'location' in x.negative_review else 1 if 'location' in x.positive_review else 0, axis=1)\n",
    "hotels['parking'] = hotels.apply(lambda x: -1 if 'parking' in x.negative_review else 1 if 'parking' in x.positive_review else 0, axis=1)\n",
    "\n",
    "hotels.drop(['negative_review', 'positive_review'], axis=1, inplace=True);"
   ]
  },
  {
   "cell_type": "code",
   "execution_count": null,
   "metadata": {},
   "outputs": [],
   "source": [
    "hotels['business_trip'] = hotels['tags'].apply(lambda x: 1 if 'Business trip' in x else 0)\n",
    "hotels['leisure_trip'] = hotels['tags'].apply(lambda x: 1 if 'Leisure trip' in x else 0)\n",
    "hotels['with_pet'] = hotels['tags'].apply(lambda x: 1 if 'With a pet' in x else 0)\n",
    "hotels['tags'] = hotels['tags'].apply(lambda x: x.replace(\"' Business trip ',\", '').replace(\"' Leisure trip ',\", '').replace(\"' With a pet ',\", ''))\n",
    "hotels['tags_list'] = hotels['tags'].apply(lambda x: x.replace('[', '').replace(']', '').split(\" ', ' \"))\n",
    "hotels['company_type'] = hotels['tags_list'].apply(lambda x: x[0].replace(\"'\", '').strip() if x else '')\n",
    "hotels['room_type'] = hotels['tags_list'].apply(lambda x: x[1].strip() if len(x)>1 else '')\n",
    "hotels['nights_count'] = hotels['tags_list'].apply(lambda x: int(x[2].strip()[7:9]) if len(x)>2 else 0)\n",
    "\n",
    "hotels.drop(['tags', 'tags_list'], axis=1, inplace=True);\n"
   ]
  },
  {
   "cell_type": "code",
   "execution_count": null,
   "metadata": {},
   "outputs": [],
   "source": [
    "encoder = ce.OneHotEncoder(cols=['company_type']) # указываем столбец для кодирования\n",
    "type_bin = encoder.fit_transform(hotels['company_type'])\n",
    "# jj = encoder.get_feature_names_out()\n",
    "type_bin = type_bin.rename(columns={'company_type_1':'Couple','company_type_2':'Solo_traveler','company_type_3':'family_with_young_children','company_type_4':'Group','company_type_5':'family_with_old_children','company_type_6':'travelers_with_friends'})\n",
    "hotels = pd.concat([hotels, type_bin], axis=1)\n",
    "hotels.drop(['company_type'], axis=1, inplace=True);"
   ]
  },
  {
   "cell_type": "code",
   "execution_count": null,
   "metadata": {},
   "outputs": [],
   "source": [
    "hotels['country'] = hotels['hotel_address'].apply(\n",
    "    lambda x: x.split()[-1] \n",
    "        if x.split()[-1] != 'Kingdom'\n",
    "        else ' '.join(x.split()[-2:])\n",
    ")\n",
    "    \n",
    "hotels['city'] = hotels.apply(\n",
    "    lambda x: x['hotel_address'].split()[-5] \n",
    "        if x['country'] == 'United Kingdom'\n",
    "        else x['hotel_address'].split()[-2], axis=1\n",
    ")"
   ]
  },
  {
   "cell_type": "code",
   "execution_count": null,
   "metadata": {},
   "outputs": [],
   "source": [
    "population_df = pd.DataFrame(\n",
    "    [\n",
    "        ['London', 8.982, 51.50735, -0.12776], \n",
    "        ['Barcelona', 1.62, 41.3888, 2.15899], \n",
    "        ['Paris', 2.161, 48.85661, 2.35222], \n",
    "        ['Amsterdam', 0.822, 52.37022, 4.89517], \n",
    "        ['Vienna', 1.897, 48.20817, 48.20817], \n",
    "        ['Milan', 1.352, 45.45863, 9.18187]\n",
    "    ], \n",
    "    columns=['city', 'city_population', 'center_lat', 'center_lng']\n",
    ")\n",
    "hotels = hotels.merge(population_df, how='left', on='city')\n",
    "hotels['center_distance'] = hotels.apply(lambda x: x if pd.isna(x.lat) else geodesic((x.lat, x.lng), (x.center_lat, x.center_lng), ellipsoid='WGS-84').km, axis=1)\n",
    "median_distance_df = hotels.groupby('city', as_index=False)['center_distance'].median()\n",
    "hotels = hotels.merge(median_distance_df, how='left', on='city', suffixes=('', 'median'))\n",
    "hotels['center_distance'] = hotels['center_distance'].fillna(hotels['center_distance_median'])\n",
    "hotels.drop(['lat', 'lng', 'center_lat', 'center_lng'], axis=1, inplace=True);"
   ]
  },
  {
   "cell_type": "code",
   "execution_count": null,
   "metadata": {},
   "outputs": [],
   "source": [
    "encoder = ce.OneHotEncoder(cols=['city']) # указываем столбец для кодирования\n",
    "type_bin = encoder.fit_transform(hotels['city'])\n",
    "type_bin = type_bin.rename(columns={'city_1':'London','city_2':'Paris','city_3':'Amsterdam','city_4':'Milan','city_5':'Vienna','city_6':'Barcelona'})\n",
    "hotels = pd.concat([hotels, type_bin], axis=1)\n",
    "hotels.drop(['city', 'country'], axis=1, inplace=True);"
   ]
  },
  {
   "cell_type": "code",
   "execution_count": null,
   "metadata": {},
   "outputs": [],
   "source": [
    "nationality_df = hotels.groupby('hotel_name', as_index=False)['reviewer_nationality'].nunique()\n",
    "nationality_df = nationality_df.rename(columns={'reviewer_nationality': 'reviewer_nationality_count'})\n",
    "hotels = hotels.merge(nationality_df, how='left', on='hotel_name')\n",
    "hotels.drop(['reviewer_nationality'], axis=1, inplace=True);"
   ]
  },
  {
   "cell_type": "code",
   "execution_count": null,
   "metadata": {},
   "outputs": [],
   "source": [
    "hotels.info()"
   ]
  },
  {
   "cell_type": "code",
   "execution_count": null,
   "metadata": {},
   "outputs": [],
   "source": [
    "# убираем признаки которые еще не успели обработать, \n",
    "# модель на признаках с dtypes \"object\" обучаться не будет, просто выберем их и удалим\n",
    "object_columns = [s for s in hotels.columns if hotels[s].dtypes == 'object']\n",
    "hotels.drop(object_columns, axis = 1, inplace=True)\n",
    "\n",
    "# заполняем пропуски самым простым способом\n",
    "hotels = hotels.fillna(0)"
   ]
  },
  {
   "cell_type": "code",
   "execution_count": null,
   "metadata": {},
   "outputs": [],
   "source": [
    "# Разбиваем датафрейм на части, необходимые для обучения и тестирования модели  \n",
    "# Х - данные с информацией об отелях, у - целевая переменная (рейтинги отелей)  \n",
    "X = hotels.drop(['reviewer_score'], axis = 1)  \n",
    "y = hotels['reviewer_score'] "
   ]
  },
  {
   "cell_type": "code",
   "execution_count": null,
   "metadata": {},
   "outputs": [],
   "source": [
    "# Загружаем специальный инструмент для разбивки:  \n",
    "from sklearn.model_selection import train_test_split  "
   ]
  },
  {
   "cell_type": "code",
   "execution_count": null,
   "metadata": {},
   "outputs": [],
   "source": [
    "# Наборы данных с меткой \"train\" будут использоваться для обучения модели, \"test\" - для тестирования.  \n",
    "# Для тестирования мы будем использовать 25% от исходного датасета.  \n",
    "X_train, X_test, y_train, y_test = train_test_split(X, y, test_size=0.25, random_state=42)"
   ]
  },
  {
   "cell_type": "code",
   "execution_count": null,
   "metadata": {},
   "outputs": [],
   "source": [
    "# Импортируем необходимые библиотеки:  \n",
    "from sklearn.ensemble import RandomForestRegressor # инструмент для создания и обучения модели  \n",
    "from sklearn import metrics # инструменты для оценки точности модели  \n",
    "  \n",
    "# Создаём модель  \n",
    "regr = RandomForestRegressor(n_estimators=100)  \n",
    "      \n",
    "# Обучаем модель на тестовом наборе данных  \n",
    "regr.fit(X_train, y_train)  \n",
    "      \n",
    "# Используем обученную модель для предсказания рейтинга отелей в тестовой выборке.  \n",
    "# Предсказанные значения записываем в переменную y_pred  \n",
    "y_pred = regr.predict(X_test)  \n"
   ]
  },
  {
   "cell_type": "code",
   "execution_count": null,
   "metadata": {},
   "outputs": [],
   "source": [
    "# Сравниваем предсказанные значения (y_pred) с реальными (y_test), и смотрим насколько они отличаются  \n",
    "# Метрика называется Mean Absolute Percentage Error (MAPE) и показывает среднюю абсолютную процентную ошибку предсказанных значений от фактических.  \n",
    "print('MAPE:', metrics.mean_absolute_percentage_error(y_test, y_pred))"
   ]
  },
  {
   "cell_type": "markdown",
   "metadata": {},
   "source": [
    "Небольшой бонус:\n"
   ]
  },
  {
   "cell_type": "code",
   "execution_count": null,
   "metadata": {},
   "outputs": [],
   "source": [
    "# # убираем признаки которые еще не успели обработать, \n",
    "# # модель на признаках с dtypes \"object\" обучаться не будет, просто выберим их и удалим\n",
    "# object_columns = [s for s in hotels.columns if hotels[s].dtypes == 'object']\n",
    "# hotels.drop(object_columns, axis = 1, inplace=True)\n",
    "\n",
    "# # заполняем пропуски самым простым способом\n",
    "# hotels = hotels.fillna(0)"
   ]
  }
 ],
 "metadata": {
  "kernelspec": {
   "display_name": "Python 3",
   "language": "python",
   "name": "python3"
  },
  "language_info": {
   "codemirror_mode": {
    "name": "ipython",
    "version": 3
   },
   "file_extension": ".py",
   "mimetype": "text/x-python",
   "name": "python",
   "nbconvert_exporter": "python",
   "pygments_lexer": "ipython3",
   "version": "3.9.10"
  },
  "vscode": {
   "interpreter": {
    "hash": "e54c2f264ed7b124c7aa4ebd8a43964164d899d2ea608eb2fd3f3ea6d148e1f2"
   }
  }
 },
 "nbformat": 4,
 "nbformat_minor": 2
}
