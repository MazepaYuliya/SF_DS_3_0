{
 "cells": [
  {
   "attachments": {},
   "cell_type": "markdown",
   "metadata": {},
   "source": [
    "## Статистические тесты для анализа размеров мидий в городах"
   ]
  },
  {
   "attachments": {},
   "cell_type": "markdown",
   "metadata": {},
   "source": [
    "В качестве данных возьмем информацию о размерах раковины мидий, выращенных в Санкт-Петербурге и Магадане.\n",
    "\n",
    "Необходимо узнать, есть ли различия в среднем размере мидии в зависимости от города-производителя. А также проверить данные на наличие корреляции.\n",
    "\n",
    "Для выбора подходящего теста необходимо проверить данные на нормальность"
   ]
  },
  {
   "cell_type": "code",
   "execution_count": 127,
   "metadata": {},
   "outputs": [],
   "source": [
    "import pandas as pd\n",
    "import numpy as np"
   ]
  },
  {
   "attachments": {},
   "cell_type": "markdown",
   "metadata": {
    "id": "W7hG5sEM2lmb"
   },
   "source": [
    "### 1. Загрузка данных\n"
   ]
  },
  {
   "cell_type": "code",
   "execution_count": 128,
   "metadata": {},
   "outputs": [],
   "source": [
    "petersburg = [0.0974, 0.1352, 0.0817, 0.1016, 0.0968, 0.1064, 0.105]\n",
    "magadan = [0.1033, 0.0915, 0.0781, 0.0685, 0.0677, 0.0697, 0.0764, 0.0689]"
   ]
  },
  {
   "cell_type": "code",
   "execution_count": 129,
   "metadata": {},
   "outputs": [
    {
     "data": {
      "text/html": [
       "<div>\n",
       "<style scoped>\n",
       "    .dataframe tbody tr th:only-of-type {\n",
       "        vertical-align: middle;\n",
       "    }\n",
       "\n",
       "    .dataframe tbody tr th {\n",
       "        vertical-align: top;\n",
       "    }\n",
       "\n",
       "    .dataframe thead th {\n",
       "        text-align: right;\n",
       "    }\n",
       "</style>\n",
       "<table border=\"1\" class=\"dataframe\">\n",
       "  <thead>\n",
       "    <tr style=\"text-align: right;\">\n",
       "      <th></th>\n",
       "      <th>petersburg</th>\n",
       "      <th>magadan</th>\n",
       "    </tr>\n",
       "  </thead>\n",
       "  <tbody>\n",
       "    <tr>\n",
       "      <th>0</th>\n",
       "      <td>0.0974</td>\n",
       "      <td>0.1033</td>\n",
       "    </tr>\n",
       "    <tr>\n",
       "      <th>1</th>\n",
       "      <td>0.1352</td>\n",
       "      <td>0.0915</td>\n",
       "    </tr>\n",
       "    <tr>\n",
       "      <th>2</th>\n",
       "      <td>0.0817</td>\n",
       "      <td>0.0781</td>\n",
       "    </tr>\n",
       "    <tr>\n",
       "      <th>3</th>\n",
       "      <td>0.1016</td>\n",
       "      <td>0.0685</td>\n",
       "    </tr>\n",
       "    <tr>\n",
       "      <th>4</th>\n",
       "      <td>0.0968</td>\n",
       "      <td>0.0677</td>\n",
       "    </tr>\n",
       "    <tr>\n",
       "      <th>5</th>\n",
       "      <td>0.1064</td>\n",
       "      <td>0.0697</td>\n",
       "    </tr>\n",
       "    <tr>\n",
       "      <th>6</th>\n",
       "      <td>0.1050</td>\n",
       "      <td>0.0764</td>\n",
       "    </tr>\n",
       "  </tbody>\n",
       "</table>\n",
       "</div>"
      ],
      "text/plain": [
       "   petersburg  magadan\n",
       "0      0.0974   0.1033\n",
       "1      0.1352   0.0915\n",
       "2      0.0817   0.0781\n",
       "3      0.1016   0.0685\n",
       "4      0.0968   0.0677\n",
       "5      0.1064   0.0697\n",
       "6      0.1050   0.0764"
      ]
     },
     "execution_count": 129,
     "metadata": {},
     "output_type": "execute_result"
    }
   ],
   "source": [
    "# массивы имеют разную размерность. Для корректного выполнения тестов исключим лишнее значение большего массива\n",
    "mussels_data = pd.DataFrame({'petersburg': petersburg, 'magadan': magadan[:-1]})\n",
    "mussels_data"
   ]
  },
  {
   "attachments": {},
   "cell_type": "markdown",
   "metadata": {
    "id": "W7hG5sEM2lmb"
   },
   "source": [
    "________________________________________________________________________________________________________________________\n",
    "### 2. Проверка данных на нормальность\n"
   ]
  },
  {
   "cell_type": "code",
   "execution_count": 130,
   "metadata": {
    "id": "I9M0a3qn2QIw"
   },
   "outputs": [],
   "source": [
    "H0 = 'Данные распределены нормально'\n",
    "Ha = 'Данные не распределены нормально (мы отвергаем H0)'\n",
    "\n",
    "alpha = 0.05"
   ]
  },
  {
   "attachments": {},
   "cell_type": "markdown",
   "metadata": {
    "id": "pCXYmT6Ix2H1"
   },
   "source": [
    "#### 2.1. Тест Шапиро-Уилка"
   ]
  },
  {
   "cell_type": "code",
   "execution_count": 131,
   "metadata": {},
   "outputs": [
    {
     "name": "stdout",
     "output_type": "stream",
     "text": [
      "petersburg: \n",
      "p=0.242. Данные распределены нормально\n",
      "magadan: \n",
      "p=0.133. Данные распределены нормально\n"
     ]
    }
   ],
   "source": [
    "from scipy.stats import shapiro\n",
    "\n",
    "def check_norm(column_name):\n",
    "\t_, p = shapiro(mussels_data[column_name])\n",
    "\tresult = H0 if p > alpha else Ha\n",
    "\tprint('%s: \\np=%.3f. %s' % (column_name, p, result))\n",
    "  \n",
    "check_norm('petersburg')\n",
    "check_norm('magadan')"
   ]
  },
  {
   "attachments": {},
   "cell_type": "markdown",
   "metadata": {},
   "source": [
    "$p_{petersburg} > \\alpha$  $(p_{petersburg} = 0.242, \\alpha = 0.05)$\n",
    "\n",
    "$p_{magadan} > \\alpha$  $(p_{magadan} = 0.133, \\alpha = 0.05)$\n",
    "\n",
    "Т.о. размеры мидий в обоих городах распределены нормально."
   ]
  },
  {
   "attachments": {},
   "cell_type": "markdown",
   "metadata": {},
   "source": [
    "Заметим, что если бы мы не обрезали последнее значение массива magadan из-за разности в размерностях массивов, данные по Магадану не были бы распределены нормально. И мы бы использовали другие тесты."
   ]
  },
  {
   "cell_type": "code",
   "execution_count": 132,
   "metadata": {},
   "outputs": [
    {
     "name": "stdout",
     "output_type": "stream",
     "text": [
      "magadan: \n",
      "p=0.036. Данные не распределены нормально (мы отвергаем H0)\n"
     ]
    }
   ],
   "source": [
    "_, p = shapiro(magadan)\n",
    "result = H0 if p > alpha else Ha\n",
    "print('magadan: \\np=%.3f. %s' % (p, result))"
   ]
  },
  {
   "attachments": {},
   "cell_type": "markdown",
   "metadata": {
    "id": "ZUTL3OctykmR"
   },
   "source": [
    "#### 2.2. Тест Д’Агостино\n",
    "\n",
    "Не может быть выполнен из-за слишком малого числа экспериментов"
   ]
  },
  {
   "attachments": {},
   "cell_type": "markdown",
   "metadata": {},
   "source": [
    "__________________________________________________________________________________________________________________________\n",
    "### 3. Проверка наличия корреляции"
   ]
  },
  {
   "attachments": {},
   "cell_type": "markdown",
   "metadata": {},
   "source": [
    "Для проверки корреляции выберем тест Пирсона, т.к. данные распределены нормально.\n",
    "\n",
    "Если бы использовали полный массив данных по Магадану, следовало бы использовать тест Спирмена."
   ]
  },
  {
   "cell_type": "code",
   "execution_count": 133,
   "metadata": {},
   "outputs": [],
   "source": [
    "H0 = 'Мы не можем отвергнуть нулевую гипотезу об отсутствии зависимости между переменными.'\n",
    "Ha = 'Мы отвергаем нулевую гипотезу об отсутствии зависимости между переменными'\n",
    "\n",
    "alpha = 0.05"
   ]
  },
  {
   "cell_type": "code",
   "execution_count": 134,
   "metadata": {},
   "outputs": [
    {
     "name": "stdout",
     "output_type": "stream",
     "text": [
      "Коэффициент корреляции = 0.255, p = 0.581.\n",
      "Мы не можем отвергнуть нулевую гипотезу об отсутствии зависимости между переменными.\n"
     ]
    }
   ],
   "source": [
    "from scipy.stats import pearsonr\n",
    "\n",
    "corr, p = pearsonr(mussels_data['petersburg'], mussels_data['magadan'])\n",
    "\n",
    "result = H0 if p > alpha else Ha\n",
    "print('Коэффициент корреляции = %.3f, p = %.3f.\\n%s' % (corr, p, result))\n"
   ]
  },
  {
   "attachments": {},
   "cell_type": "markdown",
   "metadata": {},
   "source": [
    "$p > \\alpha$ $(p = 0.581, \\alpha = 0.05)$\n",
    "\n",
    "Т.о. мы не смогли убедиться в наличии зависимости между размерами мидий в разных городах. \n",
    "\n",
    "Также об этом свидетельствует коэффициент корреляции. Он довольно низкий и соответствует силе связи **отсутствие связи или очень слабая связь**."
   ]
  },
  {
   "attachments": {},
   "cell_type": "markdown",
   "metadata": {},
   "source": [
    "_________________________________________________________________________________________________________________\n",
    "### 4. Проверка гипотезы о разнице между размерами мидий"
   ]
  },
  {
   "cell_type": "code",
   "execution_count": 135,
   "metadata": {},
   "outputs": [],
   "source": [
    "H0 = 'Нет значимой разницы между средним размером раковины мидий в Петербурге и Магадане.'\n",
    "Ha = 'Есть значимая разница между средним размером раковины мидий в Петербурге и Магадане.'\n",
    "\n",
    "alpha = 0.05"
   ]
  },
  {
   "attachments": {},
   "cell_type": "markdown",
   "metadata": {},
   "source": [
    "Данные нормально распределены, группы происходят из разных совокупностей, объектов в выборке 7 (< 30). \n",
    "\n",
    "Значит, мы используем независимый T-тест."
   ]
  },
  {
   "cell_type": "code",
   "execution_count": 136,
   "metadata": {},
   "outputs": [
    {
     "name": "stdout",
     "output_type": "stream",
     "text": [
      "p = 0.010.\n",
      "Есть значимая разница между средним размером раковины мидий в Петербурге и Магадане.\n"
     ]
    }
   ],
   "source": [
    "from scipy.stats import ttest_ind\n",
    "\n",
    "_, p = ttest_ind(mussels_data['petersburg'], mussels_data['magadan'], equal_var=True)\n",
    "result = H0 if p > alpha else Ha\n",
    "\n",
    "print('p = %.3f.\\n%s' % (p, result))\n"
   ]
  },
  {
   "attachments": {},
   "cell_type": "markdown",
   "metadata": {},
   "source": [
    "$p < \\alpha$ $(p = 0.01, \\alpha = 0.05)$\n",
    "\n",
    "При уровне значимости 0.05 мы приняли альтернативную гипотезу о том, что средний размер мидий в Магадане и Санкт-Петербурге отличается."
   ]
  },
  {
   "attachments": {},
   "cell_type": "markdown",
   "metadata": {},
   "source": [
    "Отметим, что пример является учебным. И в реальности объединение данных не имеет смысла, т.к. эксперименты в разных городах никак не связаны между собой. "
   ]
  }
 ],
 "metadata": {
  "kernelspec": {
   "display_name": "Python 3",
   "language": "python",
   "name": "python3"
  },
  "language_info": {
   "codemirror_mode": {
    "name": "ipython",
    "version": 3
   },
   "file_extension": ".py",
   "mimetype": "text/x-python",
   "name": "python",
   "nbconvert_exporter": "python",
   "pygments_lexer": "ipython3",
   "version": "3.9.10"
  },
  "orig_nbformat": 4,
  "vscode": {
   "interpreter": {
    "hash": "e54c2f264ed7b124c7aa4ebd8a43964164d899d2ea608eb2fd3f3ea6d148e1f2"
   }
  }
 },
 "nbformat": 4,
 "nbformat_minor": 2
}
