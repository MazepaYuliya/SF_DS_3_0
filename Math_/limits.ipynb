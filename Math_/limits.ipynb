{
 "cells": [
  {
   "attachments": {},
   "cell_type": "markdown",
   "metadata": {},
   "source": [
    "## Пределы\n",
    "\n",
    "Оновные способы решения:\n",
    "\n",
    "* **Деление дроби на степень неизвестной**:\n",
    "    \n",
    "    Если $x -> \\infty$, то делить нужно на наибольшую степень.\n",
    "\n",
    "    Если $x -> 0$, то делить нужно на наименьшую степень.\n",
    "\n",
    "* **Метод замены переменной**\n",
    "\n",
    "* **I замечательный предел:**\n",
    "\n",
    "    $lim_{x \\to \\infty} \\cfrac{sin x}{x} = 1$\n",
    "\n",
    "* **II замечательный предел:**\n",
    "\n",
    "    $lim_{x \\to \\infty} (1 + \\frac{1}{x})^x = e$\n",
    "\n",
    "* **Правило Лопиталя:**\n",
    "\n",
    "    Используется для решения неопределенностей вида $\\cfrac{0}{0}$ и $\\cfrac{\\infty}{\\infty}$\n",
    "\n",
    "    $lim_{x->x_0}\\cfrac{f(x)}{g(x)} = lim_{x->x_0}\\cfrac{f'(x)}{g'(x)}$, $g'(x) <> 0$\n",
    "\n",
    "* **Экспонента и логарифм предела:**\n",
    "\n",
    "    Используется для решения неопределенностей вида $1^{\\infty}, 0^0, \\infty^0$\n",
    "\n",
    "    $lim_{x->x_0}e^{f(x)} = e^{lim_{x->x_0}f(x)}$\n",
    "\n",
    "    $lim_{x->x_0}ln\\ f(x) = ln\\ lim_{x->x_0}f(x)$\n",
    "\n",
    "    $ln\\ a^b = b\\ ln\\ a$\n",
    "\n",
    "    $a = e^{ln\\ a}$\n",
    "\n",
    "* **Домножение на сопряженное выражение**"
   ]
  },
  {
   "attachments": {},
   "cell_type": "markdown",
   "metadata": {},
   "source": [
    "### Эквивалентные бесконечно малые\n",
    "\n",
    "| | | \n",
    "|--|--|\n",
    "$sin(\\alpha)$ | $\\alpha$\n",
    "$tg(\\alpha)$ | $\\alpha$\n",
    "$arcsin(\\alpha)$ | $\\alpha$\n",
    "$arctg(\\alpha)$ | $\\alpha$\n",
    "$1−cos(\\alpha)$ | $\\cfrac{\\alpha^2}{2}$\n",
    "$log_a(1+\\alpha)$ | $\\cfrac{\\alpha}{ln\\alpha}$\n",
    "$ln(1+\\alpha)$ | $\\alpha$\n",
    "$\\alpha^{\\alpha}−1$ | $\\alpha ln\\alpha$\n",
    "$e^{\\alpha}−1$ | $\\alpha$\n",
    "$(1+\\alpha)^p−1$ | $p\\alpha$\n",
    "$\\sqrt[n]{1+\\alpha}−1$ | $\\cfrac{\\alpha}{n}$\n"
   ]
  },
  {
   "attachments": {},
   "cell_type": "markdown",
   "metadata": {},
   "source": [
    "### Пределы последовательностей\n",
    "\n",
    "Примеры:\n",
    "\n",
    "Последовательность |  | Предел\n",
    "--|--|--\n",
    "$1, 2, 3, 4, ...$ | $a = n$ | $lim_{n->\\infty}n = \\infty$\n",
    "$\\frac{1}{1}, \\frac{1}{2}, \\frac{1}{3}, \\frac{1}{4}, ...$ | $a = \\frac{1}{n}$ | $lim_{n->\\infty}\\frac{1}{n} = 0$\n",
    "$1, -1, 1, -1, ...$ | $a = (-1)^{n+1}$ | не существует\n",
    "$2 + \\frac{1}{3}, 2+\\frac{1}{9}, 2+\\frac{1}{27}, ...$ | $a = 2 + \\frac{1}{3^n}$ | $lim_{n->\\infty}2 + \\frac{1}{3^n} = 2$"
   ]
  },
  {
   "attachments": {},
   "cell_type": "markdown",
   "metadata": {},
   "source": [
    "#### Пример 1\n",
    "\n",
    "Найти предел функции $f(x) = \\cfrac{x^2 - 3x - 6}{1 - 2x + 3x^2}$ при $x -> \\infty$\n",
    "\n",
    "Разделим числитель и знаменатель на наибольшую степень. Предел слагаемых вида $\\frac{a}{x}$ равен 0\n",
    "\n",
    "$lim_{x->+\\infty}\\cfrac{x^2 - 3x - 6}{1 - 2x + 3x^2} = lim_{x->+\\infty}\\cfrac{1 - \\frac{3}{x} - \\frac{6}{x^2}}{\\frac{1}{x^2} - \\frac{2}{x} + 3} = \\cfrac{1}{3}$"
   ]
  },
  {
   "attachments": {},
   "cell_type": "markdown",
   "metadata": {},
   "source": [
    "#### Пример 2\n",
    "\n",
    "Найти предел функции $f(x) = \\cfrac{x^3 - 5x}{7x + 8x^5}$ при $x -> 0$\n",
    "\n",
    "Разделим числитель и знаменатель на наименьшую степень. Предел слагаемых вида $ax$ равен 0\n",
    "\n",
    "$lim_{x->0}\\cfrac{x^3 - 5x}{7x + 8x^5} = lim_{x->0}\\cfrac{x^2 - 5}{7 + 8x^4} = -\\cfrac{5}{7}$"
   ]
  },
  {
   "attachments": {},
   "cell_type": "markdown",
   "metadata": {},
   "source": [
    "#### Пример 3\n",
    "\n",
    "Найти предел функции $f(x) = \\cfrac{cos(5x)}{x}$ при $x -> \\infty$\n",
    "\n",
    "В числителе ограниченная величина, $-1 <= cos(5x) <= 1 $, а в знаменателе бесконечно большое значение\n",
    "\n",
    "$lim_{x->+\\infty}\\cfrac{cos(5x)}{x} = 0$"
   ]
  },
  {
   "attachments": {},
   "cell_type": "markdown",
   "metadata": {},
   "source": [
    "#### Пример 4\n",
    "\n",
    "Найти предел функции $f(x) = \\cfrac{7x^2}{sin^2x}$ при $x -> 0$\n",
    "\n",
    "Воспользуемся формулой 1-го замечательного предела\n",
    "\n",
    "$lim_{x->0}\\cfrac{7x^2}{sin^2x} = lim_{x->0}7*(\\cfrac{x}{sinx})^2 = 7$"
   ]
  },
  {
   "attachments": {},
   "cell_type": "markdown",
   "metadata": {},
   "source": [
    "#### Пример 5\n",
    "\n",
    "Найти предел функции $f(x) = (\\cfrac{x-3}{x+1})^{2x+2}$ при $x -> \\infty$\n",
    "\n",
    "\n",
    "Воспользуемся формулой 2-го замечательного предела\n",
    "\n",
    "$lim_{x->+\\infty}\\Big(\\cfrac{x-3}{x+1}\\Big)^{2x+2} \n",
    "= lim_{x->+\\infty}\\Big(\\cfrac{x+1-4}{x+1}\\Big)^{2(x+1)} \n",
    "= lim_{x->+\\infty}\\Big(1 + (-\\cfrac{4}{x+1})\\Big)^{2(x+1)} \n",
    "= lim_{x->+\\infty}\\bigg(\\Big(1 + (-\\cfrac{4}{x+1})\\Big)^{-\\frac{x+1}{4}}\\bigg)^{-8} = e^{-8}$"
   ]
  },
  {
   "attachments": {},
   "cell_type": "markdown",
   "metadata": {},
   "source": [
    "#### Пример 6\n",
    "\n",
    "Найти предел функции $f(x) = \\cfrac{arctg(3x)}{7x}$ при $x -> 0$\n",
    "\n",
    "Воспользуемся методом замены переменной.\n",
    "\n",
    "$t = arctg(3x)$, $x = \\cfrac{tg(t)}{3}$\n",
    "\n",
    "$x -> 0$, $t -> 0$\n",
    "\n",
    "$lim_{x->0}\\cfrac{arctg(3x)}{7x} = lim_{x->0}\\cfrac{t}{7\\cfrac{tg(t)}{3}} = lim_{x->0}\\cfrac{3t}{7 tg(t)} = lim_{x->0}\\cfrac{3 cos(t)}{7}*\\cfrac{t}{sin(t)} = \\cfrac{3}{7}$"
   ]
  },
  {
   "attachments": {},
   "cell_type": "markdown",
   "metadata": {},
   "source": [
    "#### Пример 7\n",
    "\n",
    "Найти предел функции $f(x) = \\cfrac{1 + cos(x)}{(x - \\pi)^2}$ при $x -> \\pi$\n",
    "\n",
    "Воспользуемся методом замены переменной и тригонометрическими тождествами\n",
    "\n",
    "$t = x - \\pi$, $x = t + \\pi$\n",
    "\n",
    "$x -> \\pi$, $t -> 2\\pi$\n",
    "\n",
    "$1 - cos(2\\alpha) = 2 sin^2\\alpha$\n",
    "\n",
    "$lim_{x->0}\\cfrac{1 + cos(x)}{(x - \\pi)^2} = lim_{x->0}\\cfrac{1 + cos(t + \\pi)}{t^2} = lim_{x->0}\\cfrac{1 - cos(t)}{t^2} = lim_{x->0}\\cfrac{2 sin^2\\frac{t}{2}}{t^2} = lim_{x->0}0.5 * \\cfrac{sin^2\\frac{t}{2}}{(\\frac{t}{2})^2} = 0.5$"
   ]
  },
  {
   "attachments": {},
   "cell_type": "markdown",
   "metadata": {},
   "source": [
    "#### Пример 8\n",
    "\n",
    "Найти предел функции $f(x) = \\cfrac{2x^3 - 3x^2 + 1}{3x^3 + x^2 - 11x + 7}$ при $x -> 0$\n",
    "\n",
    "Используем правило Лопиталя. Найдем производные числителя и знаменателя \n",
    "\n",
    "$lim_{x->0}\\cfrac{2x^3 - 3x^2 + 1}{3x^3 + x^2 - 11x + 7} = lim_{x->0}\\cfrac{6x^2 - 6x}{9x^2 + 2x - 11} = lim_{x->0}\\cfrac{12x - 6}{18x + 2} = 0.3$"
   ]
  },
  {
   "attachments": {},
   "cell_type": "markdown",
   "metadata": {},
   "source": [
    "#### Пример 9\n",
    "\n",
    "Найти предел функции $f(x) = x^4 lnx$ при $x -> 0$\n",
    "\n",
    "Используем правило Лопиталя. Найдем производные числителя и знаменателя \n",
    "\n",
    "$lim_{x->0}x^4 lnx = lim_{x->0}\\cfrac{lnx}{x^{-4}} = lim_{x->0}\\cfrac{1/x}{-4/x^5} = lim_{x->0}-\\cfrac{x^4}{4} = 0$"
   ]
  },
  {
   "attachments": {},
   "cell_type": "markdown",
   "metadata": {},
   "source": [
    "#### Пример 10\n",
    "\n",
    "Найти предел функции $f(x) = x^x$ при $x -> 0$\n",
    "\n",
    "Воспользуемся свойством $lim_{x->x_0}e^{f(x)} = e^{lim_{x->x_0}f(x)}$ и $a = e^{ln\\ a}$\n",
    "\n",
    "Далее найдем производные числителя и знаменателя\n",
    "\n",
    "$lim_{x->0}x^x = lim_{x->0}e^{ln x^x} = lim_{x->0}e^{x\\ ln x} = exp(lim_{x->0}x\\ ln x) = exp(lim_{x->0}\\cfrac{ln x}{1/x}) = exp(lim_{x->0}-\\cfrac{1/x}{1/x^2}) = exp(lim_{x->0}-x) = 1$"
   ]
  },
  {
   "attachments": {},
   "cell_type": "markdown",
   "metadata": {},
   "source": [
    "#### Пример 11\n",
    "\n",
    "Найти предел функции $f(x) = (x^3 + 2x + 1)^{\\cfrac{3}{2(x^3 + x)}}$ при $x -> 0$\n",
    "\n",
    "Воспользуемся свойством $lim_{x->x_0}e^{f(x)} = e^{lim_{x->x_0}f(x)}$ и $a = e^{ln\\ a}$\n",
    "\n",
    "Далее найдем производные числителя и знаменателя\n",
    "\n",
    "$lim_{x->0}(x^3 + 2x + 1)^{\\cfrac{3}{2(x^3 + x)}} = lim_{x->0}exp(ln(x^3 + 2x + 1)^{\\cfrac{3}{2(x^3 + x)}}) = exp(lim_{x->0}\\cfrac{3}{2(x^3 + x)}*ln(x^3 + 2x + 1)) = exp(lim_{x->0}\\cfrac{3(3x^2 + 2)}{2(3x^2 + 1)(x^3 + 2x + 1)}) = e^3$"
   ]
  },
  {
   "attachments": {},
   "cell_type": "markdown",
   "metadata": {},
   "source": [
    "#### Пример 12\n",
    "\n",
    "Найти предел функции $f(x) = (cos\\sqrt{x})^{\\frac{1}{x}}$ при $x -> 0$\n",
    "\n",
    "Воспользуемся свойством $lim_{x->x_0}e^{f(x)} = e^{lim_{x->x_0}f(x)}$ и $a = e^{ln\\ a}$\n",
    "\n",
    "Далее найдем производные числителя и знаменателя\n",
    "\n",
    "$lim_{x->0}(cos\\sqrt{x})^{\\frac{1}{x}} = lim_{x->0}exp(ln(cos\\sqrt{x})^{\\frac{1}{x}}) = lim_{x->0}exp(\\cfrac{ln(cos\\sqrt{x})}{x}) = exp(lim_{x->0}\\cfrac{ln(cos\\sqrt{x})}{x}) = exp(lim_{x->0}\\cfrac{-sin\\sqrt{x}}{2\\sqrt{x}\\ cos\\sqrt{x}}) = exp(lim_{x->0}\\cfrac{sin\\sqrt{x}}{\\sqrt{x}}*\\cfrac{-1}{2cos\\sqrt{x}}) = e^{-\\frac{1}{2}} = \\cfrac{1}{\\sqrt{e}}$"
   ]
  },
  {
   "attachments": {},
   "cell_type": "markdown",
   "metadata": {},
   "source": [
    "#### Пример 13\n",
    "\n",
    "Найти предел функции $f(x) = \\cfrac{\\sqrt[3]{x + 8} - 2}{\\sqrt{1 + 2x} - 1}$ при $x -> 0$\n",
    "\n",
    "Домножим на сопряженное выражение\n",
    "\n",
    "$lim_{x->0}\\cfrac{\\sqrt[3]{x + 8} - 2}{\\sqrt{1 + 2x} - 1} = lim_{x->0}\\cfrac{(\\sqrt[3]{x + 8} - 2)(\\sqrt{1 + 2x} + 1)}{(\\sqrt{1 + 2x} - 1)(\\sqrt{1 + 2x} + 1)} = lim_{x->0}\\cfrac{(\\sqrt[3]{x + 8} - 2)(\\sqrt{1 + 2x} + 1)}{2x} = $\n",
    "\n",
    "Уберем множитель, стремящийся к 1\n",
    "\n",
    "$= lim_{x->0}\\cfrac{(\\sqrt[3]{x + 8} - 2)}{x}$\n",
    "\n",
    "Снова домножим на сопряженное, чтобы получить формулу разности кубов\n",
    "\n",
    "$= lim_{x->0}\\cfrac{(\\sqrt[3]{x + 8} - 2)(\\sqrt[3]{x + 8}^2 + 2\\sqrt[3]{x + 8} + 4)}{x(\\sqrt[3]{x + 8}^2 + 2\\sqrt[3]{x + 8} + 4)} = lim_{x->0}\\cfrac{x + 8 - 8}{x(\\sqrt[3]{x + 8}^2 + 2\\sqrt[3]{x + 8} + 4)} = lim_{x->0}\\cfrac{1}{\\sqrt[3]{x + 8}^2 + 2\\sqrt[3]{x + 8} + 4} = 1/12$"
   ]
  },
  {
   "attachments": {},
   "cell_type": "markdown",
   "metadata": {},
   "source": [
    "#### Пример 14\n",
    "\n",
    "Найти предел функции $f(x) = \\Big((1-3n^2)arctg\\cfrac{n}{3n^2-1}\\Big)$ при $x -> \\infty$\n",
    "\n",
    "Воспользуемся таблицей эквивалентности бесконечно малых:\n",
    "\n",
    "$arctg \\alpha \\sim \\alpha$\n",
    "\n",
    "Тогда\n",
    "\n",
    "$lim_{x->\\infty}\\Big((1-3n^2)arctg\\cfrac{n}{3n^2-1}\\Big) = lim_{x->\\infty}\\cfrac{n^2}{1-3n^2} = lim_{x->\\infty}\\cfrac{1}{\\frac{1}{n}-3} = \\cfrac{1}{3}$"
   ]
  },
  {
   "attachments": {},
   "cell_type": "markdown",
   "metadata": {},
   "source": [
    "#### Пример 15\n",
    "\n",
    "Найти предел функции $f(x) = n^2\\ tg(\\cfrac{1}{2n+1})$ при $x -> \\infty$\n",
    "\n",
    "Воспользуемся таблицей эквивалентности бесконечно малых:\n",
    "\n",
    "$tg \\alpha \\sim \\alpha$\n",
    "\n",
    "Тогда\n",
    "\n",
    "$lim_{x->\\infty}n^2\\ tg(\\cfrac{1}{2n+1}) = lim_{x->\\infty}\\cfrac{n^2}{2n+1} = lim_{x->\\infty}\\cfrac{1}{\\frac{2}{n}+\\frac{1}{n^2}} = +\\infty$"
   ]
  },
  {
   "attachments": {},
   "cell_type": "markdown",
   "metadata": {},
   "source": [
    "#### Пример 16\n",
    "\n",
    "Найти предел функции $f(x) = \\cfrac{3^{n+1}+2*4^n}{4^{n+1}-5}$ при $x -> \\infty$\n",
    "\n",
    "Поделим на $4^{n+1}$:\n",
    "\n",
    "$lim_{x->\\infty}\\cfrac{3^{n+1}+2*4^n}{4^{n+1}-5} = lim_{x->\\infty}\\cfrac{(\\frac{3}{4})^{n+1} + 0.5}{1 - \\frac{5}{4^{n+1}}} = 0.5$"
   ]
  },
  {
   "attachments": {},
   "cell_type": "markdown",
   "metadata": {},
   "source": [
    "#### Пример 17\n",
    "\n",
    "Найти предел функции $f(x) = \\sqrt{n^2+n} - \\sqrt[3]{n^3+n^2}$ при $x -> \\infty$\n",
    "\n",
    "Поделим на $4^{n+1}$:\n",
    "\n",
    "$lim_{x->\\infty}\\sqrt{n^2+n} - \\sqrt[3]{n^3+n^2} = lim_{x->\\infty}n^{1/2}(n+1)^{1/2} + n^{2/3}(n+1)^{1/3} = lim_{x->\\infty}n^{1/2}(n+1)^{1/3}((n+1)^{1/6} - n^{1/6}) = $\n",
    "\n",
    "Пусть $t = \\cfrac{1}{n}$, тогда $n = \\cfrac{1}{t}$, $n + 1 = \\cfrac{t+1}{t}$, $t\\ ->\\ 0$\n",
    "\n",
    "$= lim_{x->\\infty}\\cfrac{1}{t^{1/2}}*\\cfrac{(t+1)^{1/3}}{t^{1/3}}*(\\cfrac{(t+1)^{1/6}}{t^{1/6}} - \\cfrac{1}{t^{1/6}}) = lim_{x->\\infty}\\cfrac{(t+1)^{1/3}((t+1)^{1/6} - 1)}{t} = $\n",
    "\n",
    "По свойству бесконечно малых: $(\\alpha + 1)^n = n\\alpha + 1$\n",
    "\n",
    "$= lim_{x->\\infty}\\cfrac{(t+3)t}{18t} = lim_{x->\\infty}\\cfrac{t+3}{18} = 1/6$"
   ]
  },
  {
   "attachments": {},
   "cell_type": "markdown",
   "metadata": {},
   "source": [
    "#### Пример 18\n",
    "\n",
    "Найти предел функции $f(x) = \\cfrac{\\sqrt[n]{n!}}{n}$ при $x -> \\infty$\n",
    "\n",
    "Чтобы избавиться от степени, прологарифмируем:\n",
    "\n",
    "$ln\\ f(x) = \\cfrac{1}{n}(ln(n!)-nln(n)) = \\cfrac{1}{n}(ln\\ 1 + ln\\ 2 + ... - ln\\ n - ln\\ n - ...) = \\cfrac{1}{n}(ln\\cfrac{1}{n} + ln\\cfrac{2}{n} + ...) = \\int^1_0 ln(x) dx = xlnx - x \\Big|^1_0 = -1$\n",
    "\n",
    "Тогда $f(x) = e^{-1} = \\cfrac{1}{e}$"
   ]
  },
  {
   "attachments": {},
   "cell_type": "markdown",
   "metadata": {},
   "source": [
    "#### Пример 19\n",
    "\n",
    "Найти предел $x_n = \\Big(\\cfrac{1}{2} + \\cfrac{3}{2^2} + \\cfrac{5}{2^3} + ... + \\cfrac{2n-1}{2^n}\\Big)$ при $x -> \\infty$\n",
    "\n",
    "$x_n = 2x_n - x_n = \\Big(1 + \\cfrac{3}{2} + \\cfrac{5}{2^2} + \\cfrac{7}{2^3} + ... + \\cfrac{2n-1}{2^{n-1}}\\Big) - \\Big(\\cfrac{1}{2} + \\cfrac{3}{2^2} + \\cfrac{5}{2^3} + ... + \\cfrac{2n-3}{2^{n-1}} + \\cfrac{2n-1}{2^n}\\Big) = 1 + (\\cfrac{2}{2} + \\cfrac{2}{2^2} + \\cfrac{2}{2^3} + ... + \\cfrac{2}{2^{n-1}}) + \\cfrac{2n-1}{2^n} = 1 + 2*1 + 0 = 3$"
   ]
  },
  {
   "cell_type": "markdown",
   "metadata": {},
   "source": [
    "#### Пример 20\n",
    "\n",
    "Найти сумму ряда $\\sum^{\\infty}_{n=1}\\cfrac{1}{n(n+1)(n+2)}$\n",
    "\n",
    "Разложим на слагаемые:\n",
    "\n",
    "$\\cfrac{1}{n(n+1)(n+2)} = \\cfrac{A}{n} + \\cfrac{B}{n+1} + \\cfrac{C}{n+2} = \\cfrac{A(n^2+3n+2)+B(n^2+2n) + C(n^2+n)}{n(n+1)(n+2)} =$\n",
    "\n",
    "$A(n^2+3n+2)+B(n^2+2n) + C(n^2+n) = 1$\n",
    "\n",
    "$(A+B+C)n^2 + (3A+2B+C)n+(2A-1)=0$\n",
    "\n",
    "$\\begin{cases}\n",
    "   A+B+C=0\\\\\n",
    "   3A+2B+C=0\\\\\n",
    "   2A-1=0\n",
    "\\end{cases} => \\begin{cases}\n",
    "   A=0.5\\\\\n",
    "   B = -1\\\\\n",
    "   C = 0.5\n",
    "\\end{cases}$ \n",
    "\n",
    "$= \\cfrac{0.5}{n} - \\cfrac{1}{n+1} + \\cfrac{0.5}{n+2}$\n",
    "\n",
    "Посчитаем сумму ряда:\n",
    "\n",
    "$\\sum^{\\infty}_{n=1}\\cfrac{1}{n(n+1)(n+2)} =$\n",
    "\n",
    "$\\frac{0.5}{1}-\\frac{1}{2}+\\bcancel{\\frac{0.5}{3}} +$\n",
    "\n",
    "$\\frac{0.5}{2}-\\bcancel{\\frac{1}{3}}\\ + \\bcancel{\\frac{0.5}{4}} +$\n",
    "\n",
    "$\\bcancel{\\frac{0.5}{3}} - \\bcancel{\\frac{1}{4}} + \\bcancel{\\frac{0.5}{5}} +\\\\\n",
    "\\ \\ \\ ...\\\\\n",
    "\\bcancel{\\frac{0.5}{n-2}} - \\bcancel{\\frac{1}{n-1}} + \\bcancel{\\frac{0.5}{n}} +$\n",
    "\n",
    "$\\bcancel{\\frac{0.5}{n-1}} - \\bcancel{\\frac{1}{n}} + \\frac{0.5}{n+1} +$\n",
    "\n",
    "$\\bcancel{\\frac{0.5}{n}} - \\frac{1}{n+1} + \\frac{0.5}{n+2} =$\n",
    "\n",
    "$= \\frac{0.5}{1}-\\frac{1}{2} + \\frac{0.5}{2} + \\frac{0.5}{n+1} - \\frac{1}{n+1} + \\frac{0.5}{n+2} = \\cfrac{1}{4}$"
   ]
  },
  {
   "cell_type": "markdown",
   "metadata": {},
   "source": [
    "Вычислить радиус сходимости ряда $x + \\cfrac{x^2}{2*4} + \\cfrac{x^3}{3*4^2}$\n",
    "\n",
    "Решение:\n",
    "\n",
    "Общий вид степенного ряда $\\sum a_n(x-x_0)^n$. В нашем случае $x_0=0,\\ a_n = \\cfrac{1}{n*4^{n-1}}$\n",
    "\n",
    "Известно, что область сходимости степенного ряда определяется величиной радиуса сходимости R:\n",
    "\n",
    "$|x-x0|<R$ или $x_0-R<x<x_0+R$\n",
    "\n",
    "Сходимость ряда на границах (при x=x0±R) необходимо исследовать дополнительно.\n",
    "\n",
    "Найдем радиус сходимости ряда, используя формулу Даламбера:\n",
    "\n",
    "$R = \\cfrac{1}{lim_{n->\\infty}\\Big|\\cfrac{a_{n+1}}{a_n}\\Big|} = \\cfrac{1}{lim_{n->\\infty}\\Big|\\cfrac{\\cfrac{1}{(n+1)*4^{n}}}{\\cfrac{1}{n*4^{n-1}}}\\Big|} = \\cfrac{1}{lim_{n->\\infty}\\Big|\\cfrac{n*4^{n-1}}{(n+1)*4^{n}}\\Big|} = \\cfrac{1}{lim_{n->\\infty}\\Big|\\cfrac{n}{4n+4}\\Big|} = 4$"
   ]
  }
 ],
 "metadata": {
  "language_info": {
   "name": "python"
  },
  "orig_nbformat": 4
 },
 "nbformat": 4,
 "nbformat_minor": 2
}
