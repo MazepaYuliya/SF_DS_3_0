{
 "cells": [
  {
   "attachments": {},
   "cell_type": "markdown",
   "metadata": {},
   "source": [
    "### Пределы\n",
    "\n",
    "Оновные способы решения:\n",
    "\n",
    "* **Деление дроби на степень неизвестной**:\n",
    "    \n",
    "    Если $x -> \\infty$, то делить нужно на наибольшую степень.\n",
    "\n",
    "    Если $x -> 0$, то делить нужно на наименьшую степень.\n",
    "\n",
    "* **Метод замены переменной**\n",
    "\n",
    "* **I замечательный предел:**\n",
    "\n",
    "    $lim_{x \\to \\infty} \\cfrac{sin x}{x} = 1$\n",
    "\n",
    "* **II замечательный предел:**\n",
    "\n",
    "    $lim_{x \\to \\infty} (1 + \\frac{1}{x})^x = e$\n",
    "\n",
    "* **Правило Лопиталя:**\n",
    "\n",
    "    Используется для решения неопределенностей вида $\\cfrac{0}{0}$ и $\\cfrac{\\infty}{\\infty}$\n",
    "\n",
    "    $lim_{x->x_0}\\cfrac{f(x)}{g(x)} = lim_{x->x_0}\\cfrac{f'(x)}{g'(x)}$, $g'(x) <> 0$\n",
    "\n",
    "* **Экспонента и логарифм предела:**\n",
    "\n",
    "    Используется для решения неопределенностей вида $1^{\\infty}, 0^0, \\infty^0$\n",
    "\n",
    "    $lim_{x->x_0}e^{f(x)} = e^{lim_{x->x_0}f(x)}$\n",
    "\n",
    "    $lim_{x->x_0}ln\\ f(x) = ln\\ lim_{x->x_0}f(x)$\n",
    "\n",
    "    $ln\\ a^b = b\\ ln\\ a$\n",
    "\n",
    "    $a = e^{ln\\ a}$"
   ]
  },
  {
   "attachments": {},
   "cell_type": "markdown",
   "metadata": {},
   "source": [
    "#### Пример 1\n",
    "\n",
    "Найти предел функции $f(x) = \\cfrac{x^2 - 3x - 6}{1 - 2x + 3x^2}$ при $x -> \\infty$\n",
    "\n",
    "Разделим числитель и знаменатель на наибольшую степень. Предел слагаемых вида $\\frac{a}{x}$ равен 0\n",
    "\n",
    "$lim_{x->+\\infty}\\cfrac{x^2 - 3x - 6}{1 - 2x + 3x^2} = lim_{x->+\\infty}\\cfrac{1 - \\frac{3}{x} - \\frac{6}{x^2}}{\\frac{1}{x^2} - \\frac{2}{x} + 3} = \\cfrac{1}{3}$"
   ]
  },
  {
   "attachments": {},
   "cell_type": "markdown",
   "metadata": {},
   "source": [
    "#### Пример 2\n",
    "\n",
    "Найти предел функции $f(x) = \\cfrac{x^3 - 5x}{7x + 8x^5}$ при $x -> 0$\n",
    "\n",
    "Разделим числитель и знаменатель на наименьшую степень. Предел слагаемых вида $ax$ равен 0\n",
    "\n",
    "$lim_{x->0}\\cfrac{x^3 - 5x}{7x + 8x^5} = lim_{x->0}\\cfrac{x^2 - 5}{7 + 8x^4} = -\\cfrac{5}{7}$"
   ]
  },
  {
   "attachments": {},
   "cell_type": "markdown",
   "metadata": {},
   "source": [
    "#### Пример 3\n",
    "\n",
    "Найти предел функции $f(x) = \\cfrac{cos(5x)}{x}$ при $x -> \\infty$\n",
    "\n",
    "В числителе ограниченная величина, $-1 <= cos(5x) <= 1 $, а в знаменателе бесконечно большое значение\n",
    "\n",
    "$lim_{x->+\\infty}\\cfrac{cos(5x)}{x} = 0$"
   ]
  },
  {
   "attachments": {},
   "cell_type": "markdown",
   "metadata": {},
   "source": [
    "#### Пример 4\n",
    "\n",
    "Найти предел функции $f(x) = \\cfrac{7x^2}{sin^2x}$ при $x -> 0$\n",
    "\n",
    "Воспользуемся формулой 1-го замечательного предела\n",
    "\n",
    "$lim_{x->0}\\cfrac{7x^2}{sin^2x} = lim_{x->0}7*(\\cfrac{x}{sinx})^2 = 7$"
   ]
  },
  {
   "attachments": {},
   "cell_type": "markdown",
   "metadata": {},
   "source": [
    "#### Пример 5\n",
    "\n",
    "Найти предел функции $f(x) = (\\cfrac{x-3}{x+1})^{2x+2}$ при $x -> \\infty$\n",
    "\n",
    "\n",
    "Воспользуемся формулой 2-го замечательного предела\n",
    "\n",
    "$lim_{x->+\\infty}\\Big(\\cfrac{x-3}{x+1}\\Big)^{2x+2} \n",
    "= lim_{x->+\\infty}\\Big(\\cfrac{x+1-4}{x+1}\\Big)^{2(x+1)} \n",
    "= lim_{x->+\\infty}\\Big(1 + (-\\cfrac{4}{x+1})\\Big)^{2(x+1)} \n",
    "= lim_{x->+\\infty}\\bigg(\\Big(1 + (-\\cfrac{4}{x+1})\\Big)^{-\\frac{x+1}{4}}\\bigg)^{-8} = e^{-8}$"
   ]
  },
  {
   "attachments": {},
   "cell_type": "markdown",
   "metadata": {},
   "source": [
    "#### Пример 6\n",
    "\n",
    "Найти предел функции $f(x) = \\cfrac{arctg(3x)}{7x}$ при $x -> 0$\n",
    "\n",
    "Воспользуемся методом замены переменной.\n",
    "\n",
    "$t = arctg(3x)$, $x = \\cfrac{tg(t)}{3}$\n",
    "\n",
    "$x -> 0$, $t -> 0$\n",
    "\n",
    "$lim_{x->0}\\cfrac{arctg(3x)}{7x} = lim_{x->0}\\cfrac{t}{7\\cfrac{tg(t)}{3}} = lim_{x->0}\\cfrac{3t}{7 tg(t)} = lim_{x->0}\\cfrac{3 cos(t)}{7}*\\cfrac{t}{sin(t)} = \\cfrac{3}{7}$"
   ]
  },
  {
   "attachments": {},
   "cell_type": "markdown",
   "metadata": {},
   "source": [
    "#### Пример 7\n",
    "\n",
    "Найти предел функции $f(x) = \\cfrac{1 + cos(x)}{(x - \\pi)^2}$ при $x -> \\pi$\n",
    "\n",
    "Воспользуемся методом замены переменной и тригонометрическими тождествами\n",
    "\n",
    "$t = x - \\pi$, $x = t + \\pi$\n",
    "\n",
    "$x -> \\pi$, $t -> 2\\pi$\n",
    "\n",
    "$1 - cos(2\\alpha) = 2 sin^2\\alpha$\n",
    "\n",
    "$lim_{x->0}\\cfrac{1 + cos(x)}{(x - \\pi)^2} = lim_{x->0}\\cfrac{1 + cos(t + \\pi)}{t^2} = lim_{x->0}\\cfrac{1 - cos(t)}{t^2} = lim_{x->0}\\cfrac{2 sin^2\\frac{t}{2}}{t^2} = lim_{x->0}0.5 * \\cfrac{sin^2\\frac{t}{2}}{(\\frac{t}{2})^2} = 0.5$"
   ]
  },
  {
   "attachments": {},
   "cell_type": "markdown",
   "metadata": {},
   "source": [
    "#### Пример 8\n",
    "\n",
    "Найти предел функции $f(x) = \\cfrac{2x^3 - 3x^2 + 1}{3x^3 + x^2 - 11x + 7}$ при $x -> 0$\n",
    "\n",
    "Используем правило Лопиталя. Найдем производные числителя и знаменателя \n",
    "\n",
    "$lim_{x->0}\\cfrac{2x^3 - 3x^2 + 1}{3x^3 + x^2 - 11x + 7} = lim_{x->0}\\cfrac{6x^2 - 6x}{9x^2 + 2x - 11} = lim_{x->0}\\cfrac{12x - 6}{18x + 2} = 0.3$"
   ]
  },
  {
   "attachments": {},
   "cell_type": "markdown",
   "metadata": {},
   "source": [
    "#### Пример 9\n",
    "\n",
    "Найти предел функции $f(x) = x^4 lnx$ при $x -> 0$\n",
    "\n",
    "Используем правило Лопиталя. Найдем производные числителя и знаменателя \n",
    "\n",
    "$lim_{x->0}x^4 lnx = lim_{x->0}\\cfrac{lnx}{x^{-4}} = lim_{x->0}\\cfrac{1/x}{-4/x^5} = lim_{x->0}-\\cfrac{x^4}{4} = 0$"
   ]
  }
 ],
 "metadata": {
  "language_info": {
   "name": "python"
  },
  "orig_nbformat": 4
 },
 "nbformat": 4,
 "nbformat_minor": 2
}
