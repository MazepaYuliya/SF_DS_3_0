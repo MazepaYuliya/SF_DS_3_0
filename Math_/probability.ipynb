{
 "cells": [
  {
   "attachments": {},
   "cell_type": "markdown",
   "metadata": {},
   "source": [
    "## Теория вероятностей\n",
    "\n",
    "Если события могут быть совместными, то есть происходить одновременно:\n",
    "    \n",
    "$P(A\\ \\cup\\ B) = P(A) + P(B) - P(A\\ \\cap B)$\n",
    "\n",
    "Вероятность пересечения событий:\n",
    "\n",
    "$P(A\\ \\cap B) = P(A) * P(B)$"
   ]
  }
 ],
 "metadata": {
  "language_info": {
   "name": "python"
  },
  "orig_nbformat": 4
 },
 "nbformat": 4,
 "nbformat_minor": 2
}
