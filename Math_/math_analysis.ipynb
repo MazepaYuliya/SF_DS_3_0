{
 "cells": [
  {
   "attachments": {},
   "cell_type": "markdown",
   "metadata": {},
   "source": [
    "## Математический анализ"
   ]
  },
  {
   "cell_type": "markdown",
   "metadata": {},
   "source": [
    "### Множества\n",
    "\n",
    "Операции:\n",
    "* $A \\cup B$ - объединение (дизъюнкция)\n",
    "* $A \\cap B$ - пересечение (конъюнкция)\n",
    "* $A \\setminus B$ - разность\n",
    "* $A \\Delta B$ - симметрическая разность ($A \\cup B$ без $A \\cap B$)\n",
    "* $\\=A$ - инверсия\n",
    "\n",
    "**Универсальное множество** — это совокупность всех существующих в мире объектов\n",
    "\n",
    "* $\\=A = U \\setminus A$ - дополнение A\n",
    "\n",
    "**Мощность множества** ($|A|$) - количество уникальных элементов множества\n",
    "\n",
    "$B \\sub W$ - множество B является подмножеством множества W\n",
    "\n",
    "**Количество подмножеств**: $N_{подмножеств} = 2^n$, где n - мощность множества\n",
    "\n",
    "**Счётное** бесконечное множество — это бесконечное множество, элементы которого возможно пронумеровать натуральными числами (натуральные, целые, рациональные числа).\n",
    "\n",
    "**Несчётное** множество — это бесконечное множество, не являющееся счётным (вещественные числа, точки числового отрезка)."
   ]
  },
  {
   "cell_type": "code",
   "execution_count": null,
   "metadata": {},
   "outputs": [],
   "source": [
    "# объединение множеств\n",
    "from sympy import FiniteSet, Union\n",
    "l1 = [1, 3, 7, 10] \n",
    "l2 = [9, 7, 1] \n",
    "a = FiniteSet(*l1) \n",
    "b = FiniteSet(*l2) \n",
    "Union(a, b)"
   ]
  },
  {
   "cell_type": "code",
   "execution_count": null,
   "metadata": {},
   "outputs": [],
   "source": [
    "# все числа из отрезка от 2 до 9, для которых верно, что они являются корнями уравнения x^2-5x=0.\n",
    "from sympy import ConditionSet, Eq, Symbol, Interval\n",
    "x=Symbol('x')\n",
    "s=ConditionSet(x, Eq(x**2-5*x,0), Interval(2,9))\n",
    "s"
   ]
  }
 ],
 "metadata": {
  "kernelspec": {
   "display_name": "Python 3",
   "language": "python",
   "name": "python3"
  },
  "language_info": {
   "name": "python",
   "version": "3.9.10"
  },
  "orig_nbformat": 4,
  "vscode": {
   "interpreter": {
    "hash": "e54c2f264ed7b124c7aa4ebd8a43964164d899d2ea608eb2fd3f3ea6d148e1f2"
   }
  }
 },
 "nbformat": 4,
 "nbformat_minor": 2
}
