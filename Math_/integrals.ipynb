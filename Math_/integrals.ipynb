{
 "cells": [
  {
   "attachments": {},
   "cell_type": "markdown",
   "metadata": {},
   "source": [
    "## Интегралы\n",
    "\n",
    "Чтобы найти скорость V(t), зная расстояние S(t):\n",
    "\n",
    "$V(t) = \\cfrac{dS}{dt} = S'(t)$\n",
    "\n",
    "Чтобы найти расстояние, зная скорость:\n",
    "\n",
    "$dS = V(t)dt$\n",
    "\n",
    "$S(t) = \\sum dS = \\int dS = \\int S'(t)dt$\n",
    "\n",
    "\n",
    "$\\Large \\int f(x)x = F(x) + C$, где $\\Large F'(x) = f(x)$\n",
    "\n",
    "Функция | Интеграл | | Функция | Интеграл\n",
    "--|--|--|--|--\n",
    "$\\int 0\\ dx$ | $C$ |  | $\\int \\cfrac{dx}{x}$ | $ln\\ \\|x\\| + C$ \n",
    "$\\int dx$ | $x + C$ | | $\\int \\cfrac{dx}{\\sqrt{a^2 - x^2}}$ | $arcsin\\cfrac{x}{a} + C$\n",
    "$\\int x^n\\ dx$ | $\\cfrac{x^{n+1}}{n+1} + C$ | | $\\int \\cfrac{dx}{a^2 + x^2}$ | $\\cfrac{1}{a}arctg\\cfrac{x}{a} + C$\n",
    "$\\int a^x\\ dx$ | $\\cfrac{a^x}{ln a} + C$ |  | $\\int \\cfrac{dx}{a^2 - x^2}$ | $\\cfrac{1}{2a}ln\\Big\\|\\cfrac{a + x}{a - x}\\Big\\| + C$\n",
    "$\\int e^x\\ dx$ | $e^x + C$ | | $\\int \\cfrac{dx}{\\sqrt{x^2 \\pm a^2}}$ | $ln\\Big\\|x + \\sqrt{x^2 \\pm a^2}\\Big\\| + C$\n",
    "$\\int sin\\ x\\ dx$ | $-cos\\ x + C$ |  | $\\int \\cfrac{dx}{sin^2x}$ | $-ctg\\ x + C$\n",
    "$\\int cos\\ x\\ dx$ | $sin\\ x + C$ | | $\\int \\cfrac{dx}{cos^2x}$ | $tg\\ x + C$\n",
    "$\\int \\cfrac{dx}{sin\\ x}$ | $ln\\|tg\\cfrac{x}{2}\\| + C$ | | $\\int \\cfrac{dx}{cos\\ x}$ | $ln\\|tg\\Big(\\cfrac{x}{2} + \\cfrac{\\pi}{4}\\Big)\\| + C$\n"
   ]
  },
  {
   "attachments": {},
   "cell_type": "markdown",
   "metadata": {},
   "source": [
    "Свойства интеграла:\n",
    "\n",
    "$\\int (f(x) + g(x))\\ dx = \\int f(x)\\ dx + \\int g(x)\\ dx$\n",
    "\n",
    "$\\int k*f(x)\\ dx = k*\\int f(x)\\ dx$"
   ]
  },
  {
   "attachments": {},
   "cell_type": "markdown",
   "metadata": {},
   "source": [
    "Способы решения:\n",
    "* По таблице производных;\n",
    "* Используя свойства интеграла;\n",
    "* Метод замены переменной;\n",
    "* Интегрирование по частям:\n",
    "\n",
    "    $\\int u\\ dv = u*v - \\int v\\ du$\n",
    "\n",
    "* Универсальная подстановка:\n",
    "\n",
    "    $sin\\ x = \\cfrac{2tg\\cfrac{x}{2}}{1 + tg^2\\cfrac{x}{2}},\\ \\ cos\\ x = \\cfrac{1 - tg^2\\cfrac{x}{2}}{1 + tg^2\\cfrac{x}{2}}$\n",
    "\n",
    "    $z = tg\\cfrac{x}{2},\\ \\ dx = \\cfrac{2dz}{1 + z^2}$\n",
    "\n",
    "    $sin\\ x = \\cfrac{2z}{1 + z^2},\\ \\ cos\\ x = \\cfrac{1 - z^2}{1 + z^2}$"
   ]
  },
  {
   "attachments": {},
   "cell_type": "markdown",
   "metadata": {},
   "source": [
    "#### Пример 1\n",
    "\n",
    "Найти интеграл $\\int \\cfrac{\\sqrt{ln\\ 5x}}{5x}\\ dx$\n",
    "\n",
    "Используем метод замены переменной\n",
    "\n",
    "$t = ln\\ 5x, dt = \\cfrac{dx}{x}$\n",
    "\n",
    "$\\int \\cfrac{\\sqrt{ln\\ 5x}}{5x}\\ dx = \\int \\cfrac{\\sqrt{t}}{5}\\ dt = \\cfrac{2t^{3/2}}{15} + C = \\cfrac{2(ln\\ 5x)^{3/2}}{15} + C$"
   ]
  },
  {
   "attachments": {},
   "cell_type": "markdown",
   "metadata": {},
   "source": [
    "#### Пример 2\n",
    "\n",
    "Найти интеграл $\\int ln\\ x\\ dx$\n",
    "\n",
    "Используем интегрирование по частям\n",
    "\n",
    "$u = ln\\ x, v = x$\n",
    "\n",
    "$\\int ln\\ x\\ dx = x\\ ln\\ x - \\int x\\ dln\\ x = x\\ ln\\ x - \\int 1\\ dx = x\\ ln\\ x - x + C$"
   ]
  },
  {
   "attachments": {},
   "cell_type": "markdown",
   "metadata": {},
   "source": [
    "#### Пример 3\n",
    "\n",
    "Найти интеграл $\\int x\\ sin\\ x\\ cos\\ x\\ dx$\n",
    "\n",
    "$\\int x\\ sin\\ x\\ cos\\ x\\ dx = \\cfrac{1}{2}\\int x\\ sin\\ 2x\\ dx =$\n",
    "\n",
    "Используем интегрирование по частям\n",
    "\n",
    "$u = x, dv = sin\\ 2x\\ dx = d-\\cfrac{1}{2} cos\\ 2x, v = -\\cfrac{1}{2} cos\\ 2x$\n",
    "\n",
    "$= -\\cfrac{x}{4} cos\\ 2x - \\int -\\cfrac{1}{4} cos\\ 2x dx = -\\cfrac{x}{4} cos\\ 2x + \\cfrac{1}{8}sin \\ 2x + C$"
   ]
  },
  {
   "attachments": {},
   "cell_type": "markdown",
   "metadata": {},
   "source": [
    "#### Пример 3\n",
    "\n",
    "Найти интеграл $\\int sin^3x\\ dx$\n",
    "\n",
    "$\\int sin^3x\\ dx = -\\int sin^2x\\ dcos\\ x = -\\int (1- cos^2x)\\ dcos\\ x = $\n",
    "\n",
    "$t = cos x$\n",
    "\n",
    "$-\\int (1- t^2)\\ dt = -t + \\cfrac{t^3}{3} + C = - cos\\ x + \\cfrac{cos^3x}{3} + C$"
   ]
  },
  {
   "attachments": {},
   "cell_type": "markdown",
   "metadata": {},
   "source": [
    "#### Пример 3\n",
    "\n",
    "Найти интеграл $\\int \\cfrac{dx}{4sin^2x - 5cos^2x} dx$\n",
    "\n",
    "$\\int sin^3x\\ dx = -\\int sin^2x\\ dcos\\ x = -\\int (1- cos^2x)\\ dcos\\ x = $\n",
    "\n",
    "$t = cos x$\n",
    "\n",
    "$-\\int (1- t^2)\\ dt = -t + \\cfrac{t^3}{3} + C = - cos\\ x + \\cfrac{cos^3x}{3} + C$"
   ]
  },
  {
   "attachments": {},
   "cell_type": "markdown",
   "metadata": {},
   "source": [
    "#### Пример 4\n",
    "\n",
    "Найти интеграл $\\int e^{2x+1}sinx dx$\n",
    "\n",
    "Используем интегрирование по частям\n",
    "\n",
    "$u = sin\\ x, dv = e^{2x+1} dx = d\\cfrac{1}{2}e^{2x+1}, v = \\cfrac{1}{2}e^{2x+1}$\n",
    "\n",
    "$\\int e^{2x+1}sinx\\ dx = \\cfrac{1}{2}e^{2x+1}sin\\ x + \\cfrac{1}{2}\\int e^{2x+1} dsinx = \\cfrac{1}{2}e^{2x+1}sin\\ x + \\cfrac{1}{2}\\int e^{2x+1} cosx dx = $\n",
    "\n",
    "Снова используем интегрирование по частям\n",
    "\n",
    "$u = cos\\ x, dv = e^{2x+1} dx = d\\cfrac{1}{2}e^{2x+1}, v = \\cfrac{1}{2}e^{2x+1}$\n",
    "\n",
    "$\\cfrac{1}{2}e^{2x+1} sinx + \\cfrac{1}{2}(\\cfrac{1}{2}e^{2x+1} cosx + \\cfrac{1}{2}\\int e^{2x+1} d cosx) = \\cfrac{1}{2}e^{2x+1} sinx + \\cfrac{1}{4}e^{2x+1} cosx - \\cfrac{1}{4}\\int e^{2x+1} sin x dx$\n",
    "\n",
    "Мы получили последним слагаемым исходный интеграл.\n",
    "\n",
    "Пусть $t = \\int e^{2x+1}sinx dx$\n",
    "\n",
    "Тогда $t = \\cfrac{1}{2}e^{2x+1} sinx + \\cfrac{1}{4}e^{2x+1} cosx - \\cfrac{1}{4}t$\n",
    "\n",
    "$t = \\cfrac{1}{5}(2e^{2x+1} sinx + e^{2x+1} cosx)$"
   ]
  }
 ],
 "metadata": {
  "language_info": {
   "name": "python"
  },
  "orig_nbformat": 4
 },
 "nbformat": 4,
 "nbformat_minor": 2
}
