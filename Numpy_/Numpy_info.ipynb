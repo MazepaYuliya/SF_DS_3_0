{
 "cells": [
  {
   "attachments": {},
   "cell_type": "markdown",
   "metadata": {},
   "source": [
    "## Numpy"
   ]
  },
  {
   "cell_type": "code",
   "execution_count": 2,
   "metadata": {},
   "outputs": [],
   "source": [
    "import numpy as np"
   ]
  },
  {
   "attachments": {},
   "cell_type": "markdown",
   "metadata": {},
   "source": [
    "### Типы данных в numpy\n",
    "\n",
    "**Целочисленные**: int8, int16, int32, int64 \\\n",
    "**Беззнаковые целочисленные типы данных**: uint8, uint16, uint32, uint64 \\\n",
    "**Типы данных с плавающей точкой**: float16, float32, float64 (по умолчанию), float128 \\\n",
    "**Булево**: bool_ \\\n",
    "**Строковый**: str_ "
   ]
  },
  {
   "cell_type": "code",
   "execution_count": 3,
   "metadata": {},
   "outputs": [
    {
     "data": {
      "text/plain": [
       "25"
      ]
     },
     "execution_count": 3,
     "metadata": {},
     "output_type": "execute_result"
    }
   ],
   "source": [
    "a = np.int8(25) # объявление переменной нужного типа\n",
    "a"
   ]
  },
  {
   "cell_type": "code",
   "execution_count": 5,
   "metadata": {},
   "outputs": [
    {
     "data": {
      "text/plain": [
       "iinfo(min=-128, max=127, dtype=int8)"
      ]
     },
     "execution_count": 5,
     "metadata": {},
     "output_type": "execute_result"
    }
   ],
   "source": [
    "np.iinfo(np.int8) # описание типа данных"
   ]
  },
  {
   "cell_type": "code",
   "execution_count": 6,
   "metadata": {},
   "outputs": [
    {
     "data": {
      "text/plain": [
       "iinfo(min=-128, max=127, dtype=int8)"
      ]
     },
     "execution_count": 6,
     "metadata": {},
     "output_type": "execute_result"
    }
   ],
   "source": [
    "np.iinfo(a) # описание типа данных"
   ]
  },
  {
   "attachments": {},
   "cell_type": "markdown",
   "metadata": {},
   "source": [
    "### Массивы\n",
    "\n",
    "**Массив** — это структура данных, в которой:\n",
    "\n",
    "* Элементы хранятся в указанном порядке.\n",
    "* Каждый элемент можно получить по индексу за одинаковое время.\n",
    "* Все элементы приведены к одному и тому же типу данных.\n",
    "* Максимальное число элементов и объём выделенной памяти заданы заранее.\n",
    "\n",
    "**Размерность массива** - число индексов, которое необходимо для однозначного получения элемента из массива \\\n",
    "**Форма (структура) массива** — протяжённость массива по каждой из размерностей"
   ]
  },
  {
   "cell_type": "code",
   "execution_count": 9,
   "metadata": {},
   "outputs": [
    {
     "name": "stdout",
     "output_type": "stream",
     "text": [
      "Размерность: 2\n",
      "Число элементов: 9\n",
      "Форма: (3, 3)\n",
      "вес элемента в байтах: 2\n"
     ]
    }
   ],
   "source": [
    "arr = np.array([    # создание массива\n",
    "               [12, 45, 78],\n",
    "               [34, 56, 13],\n",
    "               [12, 98, 76]\n",
    "               ], dtype=np.int8) \n",
    "arr = np.int16(arr) # изменение типа элементов в массиве\n",
    "print('Размерность:', arr.ndim) \n",
    "print('Число элементов:', arr.size) \n",
    "print('Форма:', arr.shape) \n",
    "print('вес элемента в байтах:', arr.itemsize) "
   ]
  },
  {
   "attachments": {},
   "cell_type": "markdown",
   "metadata": {},
   "source": [
    "### Заполнение массивов\n",
    "\n",
    "Методы: \n",
    "* **np.zeros**(shape, dtype=None) - нулевой массив; \n",
    "* **np.arange**([start,] stop, [step,], dtype=None) - аналог range для массивов; \n",
    "* **np.linspace**(start, stop, num=50, endpoint=True, retstep=False, dtype=None) - массив из чисел, расположенных на равном удалении друг от друга между началом и концом диапазона, где \n",
    "    + num - кол-во элементов в диапазоне; \n",
    "    + endpoint — включён или исключён конец диапазона (по умолчанию включён); \n",
    "    + retstep (по умолчанию False) - возвращать ли использованный шаг между значениями, помимо самого массива; "
   ]
  },
  {
   "cell_type": "code",
   "execution_count": 10,
   "metadata": {},
   "outputs": [
    {
     "data": {
      "text/plain": [
       "array([[0., 0.],\n",
       "       [0., 0.]], dtype=float16)"
      ]
     },
     "execution_count": 10,
     "metadata": {},
     "output_type": "execute_result"
    }
   ],
   "source": [
    "zeros_2d = np.zeros((2, 2), dtype=np.float16) # нулевой массив\n",
    "zeros_2d"
   ]
  },
  {
   "cell_type": "code",
   "execution_count": 11,
   "metadata": {},
   "outputs": [
    {
     "data": {
      "text/plain": [
       "array([2.5, 3. , 3.5, 4. , 4.5], dtype=float16)"
      ]
     },
     "execution_count": 11,
     "metadata": {},
     "output_type": "execute_result"
    }
   ],
   "source": [
    "# Массив чисел от 2.5 до 5 (не включительно) с шагом 0.5 и типом float16\n",
    "arr = np.arange(2.5, 5, 0.5, dtype=np.float16) \n",
    "arr"
   ]
  },
  {
   "cell_type": "code",
   "execution_count": 13,
   "metadata": {},
   "outputs": [
    {
     "name": "stdout",
     "output_type": "stream",
     "text": [
      "Массив: [1.  1.1 1.2 1.3 1.4 1.5 1.6 1.7 1.8 1.9]\n",
      "Шаг: 0.1\n"
     ]
    }
   ],
   "source": [
    "arr, step = np.linspace(1, 2, 10, endpoint=False, retstep=True)\n",
    "print('Массив:', arr)\n",
    "print('Шаг:', step)"
   ]
  },
  {
   "attachments": {},
   "cell_type": "markdown",
   "metadata": {},
   "source": [
    "### Действия с массивами\n",
    "\n",
    "#### Изменение массивов"
   ]
  },
  {
   "cell_type": "code",
   "execution_count": 14,
   "metadata": {},
   "outputs": [
    {
     "data": {
      "text/plain": [
       "array([[0, 1, 2, 3],\n",
       "       [4, 5, 6, 7]])"
      ]
     },
     "execution_count": 14,
     "metadata": {},
     "output_type": "execute_result"
    }
   ],
   "source": [
    "arr = np.arange(8)\n",
    "arr.shape = (2, 4) # изменение формы массива\n",
    "arr"
   ]
  },
  {
   "cell_type": "code",
   "execution_count": 16,
   "metadata": {},
   "outputs": [
    {
     "data": {
      "text/plain": [
       "array([[0, 2, 4, 6],\n",
       "       [1, 3, 5, 7]])"
      ]
     },
     "execution_count": 16,
     "metadata": {},
     "output_type": "execute_result"
    }
   ],
   "source": [
    "arr = np.arange(8)\n",
    "# создание нового массива нужной формы из исходного с заполнением по столбцам (по умолчанию по строкам)\n",
    "arr_new = arr.reshape((2, 4), order='F') \n",
    "arr_new"
   ]
  },
  {
   "cell_type": "code",
   "execution_count": 17,
   "metadata": {},
   "outputs": [
    {
     "name": "stdout",
     "output_type": "stream",
     "text": [
      "[[0 1 2 3]\n",
      " [4 5 6 7]]\n",
      "[[0 4]\n",
      " [1 5]\n",
      " [2 6]\n",
      " [3 7]]\n"
     ]
    }
   ],
   "source": [
    "arr = np.array([[0, 1, 2, 3], [4, 5, 6, 7]])\n",
    "print(arr)\n",
    "arr_new = arr.transpose() # транспонирование массива\n",
    "print(arr_new)"
   ]
  },
  {
   "attachments": {},
   "cell_type": "markdown",
   "metadata": {},
   "source": [
    "#### Артифметические операции с массивами\n",
    "\n",
    "* **np.min(arr)** - минимальное значение (= arr.min())\n",
    "* **np.max(arr)** - максимальное значение \n",
    "* **np.mean(arr)** - среднее значение \n",
    "* **np.sum(arr)** - сумма элементов массива\n",
    "* **np.sqrt(arr)** - квадратный корень из элементов массива  \n",
    "\n",
    "\n",
    "#### Индексы и срезы в массивах"
   ]
  },
  {
   "cell_type": "code",
   "execution_count": 19,
   "metadata": {},
   "outputs": [
    {
     "name": "stdout",
     "output_type": "stream",
     "text": [
      "[0 1 2 3]\n",
      "[3 2 1 0]\n"
     ]
    }
   ],
   "source": [
    "arr = np.array([0, 1, 2, 3])\n",
    "print(arr)\n",
    "print(arr[::-1]) # вывод в обратном порядке"
   ]
  },
  {
   "cell_type": "code",
   "execution_count": 27,
   "metadata": {},
   "outputs": [
    {
     "data": {
      "text/plain": [
       "array([[ 1,  3],\n",
       "       [ 5,  7],\n",
       "       [ 9, 11]])"
      ]
     },
     "execution_count": 27,
     "metadata": {},
     "output_type": "execute_result"
    }
   ],
   "source": [
    "arr = np.array([[0, 1, 2, 3],\n",
    "       [4, 5, 6, 7],\n",
    "       [8, 9, 10, 11]])\n",
    "arr[::, 1::2] # все строки, стобцы со 2-го через один"
   ]
  },
  {
   "cell_type": "code",
   "execution_count": 28,
   "metadata": {},
   "outputs": [
    {
     "name": "stdout",
     "output_type": "stream",
     "text": [
      "11\n",
      "11\n"
     ]
    }
   ],
   "source": [
    "# Элемент в последней строке, последней колонке\n",
    "# Записи идентичны\n",
    "print(arr[-1][-1])\n",
    "print(arr[-1, -1])"
   ]
  },
  {
   "attachments": {},
   "cell_type": "markdown",
   "metadata": {},
   "source": [
    "#### Сортировка одномерных массивов\n",
    "\n",
    "* **np.sort(arr)** - создание нового отсортированного массива\n",
    "* **arr.sort()** - сортировка исходного массива\n",
    "\n",
    "#### Работа с пропущенными данными"
   ]
  },
  {
   "cell_type": "code",
   "execution_count": 29,
   "metadata": {},
   "outputs": [
    {
     "name": "stderr",
     "output_type": "stream",
     "text": [
      "C:\\Users\\lm137\\AppData\\Local\\Temp\\ipykernel_10664\\502892121.py:2: RuntimeWarning: invalid value encountered in sqrt\n",
      "  roots = np.sqrt(data)\n"
     ]
    },
    {
     "data": {
      "text/plain": [
       "array([2.        , 3.        ,        nan, 1.73205081])"
      ]
     },
     "execution_count": 29,
     "metadata": {},
     "output_type": "execute_result"
    }
   ],
   "source": [
    "data = np.array([4, 9, -4, 3])\n",
    "roots = np.sqrt(data)\n",
    "roots # третий элемент nan, т.к. нельзя извлечь корень из 4"
   ]
  },
  {
   "cell_type": "code",
   "execution_count": 30,
   "metadata": {},
   "outputs": [
    {
     "data": {
      "text/plain": [
       "array([False, False,  True, False])"
      ]
     },
     "execution_count": 30,
     "metadata": {},
     "output_type": "execute_result"
    }
   ],
   "source": [
    "np.isnan(roots) # массив с признаками, какие элементы nan"
   ]
  },
  {
   "cell_type": "code",
   "execution_count": 31,
   "metadata": {},
   "outputs": [
    {
     "data": {
      "text/plain": [
       "array([2.        , 3.        , 0.        , 1.73205081])"
      ]
     },
     "execution_count": 31,
     "metadata": {},
     "output_type": "execute_result"
    }
   ],
   "source": [
    "roots[np.isnan(roots)] = 0 # присваиваем 0 элементам с nan\n",
    "roots"
   ]
  },
  {
   "attachments": {
    "image-2.png": {
     "image/png": "[encoded data removed]"
    },
    "image-3.png": {
     "image/png": "[encoded data removed]"
    },
    "image.png": {
     "image/png": "[encoded data removed]"
    }
   },
   "cell_type": "markdown",
   "metadata": {},
   "source": [
    "### Операции с векторами\n",
    "\n",
    "**Вектор** — одномерный массив\n",
    "\n",
    "* **vec1 +(-,*,/) vec2** - поэлементное сложение (вычитание, произведение, частное)\n",
    "\n",
    "**Длина вектора** (расстояние между началом и концом) - квадратный корень из суммы квадратов всех его координат:\n",
    "\n",
    "![image.png](attachment:image.png)\n",
    "\n",
    "**Расстояние между 2-мя векторами** (расстояние между их концами) - квадратный корень из суммы квадратов разностей соответствующих координат:\n",
    "\n",
    "![image.png](attachment:image-2.png)\n",
    "\n",
    "**Скалярное произведение 2-х векторов** - сумма произведений их соответствующих координат. Скаляр = число, т.е. результат - 1 число:\n",
    "\n",
    "![image.png](attachment:image-3.png)\n",
    "\n",
    "Если скалярное произведение = 0, значит векторы перпендикулярны.\n",
    "Скалярное произведение часто используется для определения угла между векторами\n",
    "\n",
    "**Коллинеарные векторы** — это ненулевые векторы, лежащие на одной прямой или на параллельных прямых. \n",
    "\n",
    "**Сонаправленные векторы** - коллинеарные векторы, у которых совпадает направление. \n",
    "Сумма длин сонаправленных векторов должна быть равной длине суммы двух векторов\n"
   ]
  },
  {
   "cell_type": "code",
   "execution_count": 33,
   "metadata": {},
   "outputs": [
    {
     "name": "stdout",
     "output_type": "stream",
     "text": [
      "Длина 1-го вектора: 5.830951894845301\n",
      "Расстояние между векторами: 12.206555615733702\n",
      "Скалярное произведение векторов: 47\n"
     ]
    }
   ],
   "source": [
    "vec1 = np.array([0, 3, 5])\n",
    "vec2 = np.array([12, 4, 7])\n",
    "print('Длина 1-го вектора:', np.linalg.norm(vec1))\n",
    "print('Расстояние между векторами:', np.linalg.norm(vec1 - vec2))\n",
    "print('Скалярное произведение векторов:', np.dot(vec1, vec2))"
   ]
  },
  {
   "attachments": {},
   "cell_type": "markdown",
   "metadata": {},
   "source": [
    "### Случайные числа в Numpy\n",
    "\n",
    "#### Генерация случайных чисел\n",
    "\n",
    "**Псевдослучайные числа** — это последовательность чисел, которая возникает с помощью применения математических формул к какому-то исходному числу. Элементы, получаемые таким образом, почти не зависят друг от друга: например, при генерации следующего 0 или 1 не имеет значения, что выпало ранее — 0 или 1.\n",
    "\n",
    "Обычно компьютер берёт число для генерации случайных чисел автоматически, например, из текущего времени в микросекундах (на самом деле используются другие ещё менее предсказуемые числа). Такое число называют **seed**.\n",
    "\n",
    "При этом запуск одной и той же функции генерации случайных чисел несколько раз после задания seed не приводит к генерации одних и тех же чисел. Однако итоговый результат работы всегда будет одинаковый в совокупности.\n",
    "\n",
    "Методы:\n",
    "* **np.random.rand()** - число с плавающей точкой между 0 (включительно) и 1 (не включительно). Принимает на вход размеры массива через запятую;\n",
    "* **np.random.sample()** - число с плавающей точкой между 0 (включительно) и 1 (не включительно). Принимает на вход кортеж с размерами массива);\n",
    "* **np.random.uniform(low=0.0, high=1.0, size=None)** - число с плавающей точкой между low и high;\n",
    "* **np.random.randint(low, high=None, size=None, dtype=int)** - целое число между low и high\n",
    "* **np.random.seed** - фиксация seed для воспроизводимости результата"
   ]
  },
  {
   "cell_type": "code",
   "execution_count": 34,
   "metadata": {},
   "outputs": [
    {
     "data": {
      "text/plain": [
       "array([[0.30754021, 0.30459057, 0.77188886],\n",
       "       [0.26449186, 0.81879389, 0.14485618]])"
      ]
     },
     "execution_count": 34,
     "metadata": {},
     "output_type": "execute_result"
    }
   ],
   "source": [
    "np.random.rand(2, 3) # массив 2х3 с рандомными числами"
   ]
  },
  {
   "cell_type": "code",
   "execution_count": 35,
   "metadata": {},
   "outputs": [
    {
     "data": {
      "text/plain": [
       "array([[0.37453432, 0.12730991, 0.63982528],\n",
       "       [0.43145219, 0.64632389, 0.69071513]])"
      ]
     },
     "execution_count": 35,
     "metadata": {},
     "output_type": "execute_result"
    }
   ],
   "source": [
    "np.random.sample((2, 3)) # массив 2х3 с рандомными числами"
   ]
  },
  {
   "cell_type": "code",
   "execution_count": 38,
   "metadata": {},
   "outputs": [
    {
     "data": {
      "text/plain": [
       "array([[ 1.63368529, -0.01516265, -0.93843627],\n",
       "       [ 2.11725458, -1.61179921,  3.31901149]])"
      ]
     },
     "execution_count": 38,
     "metadata": {},
     "output_type": "execute_result"
    }
   ],
   "source": [
    "np.random.uniform(-2, 4, size=(2,3))"
   ]
  },
  {
   "cell_type": "code",
   "execution_count": 40,
   "metadata": {},
   "outputs": [
    {
     "data": {
      "text/plain": [
       "array([[-2, -2, -1],\n",
       "       [ 3,  1, -2]])"
      ]
     },
     "execution_count": 40,
     "metadata": {},
     "output_type": "execute_result"
    }
   ],
   "source": [
    "np.random.randint(-2, 4, size=(2,3))"
   ]
  },
  {
   "cell_type": "code",
   "execution_count": 49,
   "metadata": {},
   "outputs": [
    {
     "data": {
      "text/plain": [
       "array([[3, 6, 8, 9],\n",
       "       [6, 8, 7, 9],\n",
       "       [3, 6, 1, 2]])"
      ]
     },
     "execution_count": 49,
     "metadata": {},
     "output_type": "execute_result"
    }
   ],
   "source": [
    "np.random.seed(23) #фиксируем seed\n",
    "np.random.randint(10, size=(3,4)) # на разных компьютерах результат получится одинаковым"
   ]
  },
  {
   "attachments": {},
   "cell_type": "markdown",
   "metadata": {},
   "source": [
    "#### Генерация выборок"
   ]
  },
  {
   "cell_type": "code",
   "execution_count": 42,
   "metadata": {},
   "outputs": [
    {
     "name": "stdout",
     "output_type": "stream",
     "text": [
      "[0 1 2 3 4 5]\n"
     ]
    },
    {
     "data": {
      "text/plain": [
       "array([1, 3, 0, 2, 5, 4])"
      ]
     },
     "execution_count": 42,
     "metadata": {},
     "output_type": "execute_result"
    }
   ],
   "source": [
    "arr = np.arange(6)\n",
    "print(arr)\n",
    "np.random.shuffle(arr) # перемешивает эл-ты массива, возвращает None\n",
    "arr"
   ]
  },
  {
   "cell_type": "code",
   "execution_count": 44,
   "metadata": {},
   "outputs": [
    {
     "name": "stdout",
     "output_type": "stream",
     "text": [
      "['The Beatles', 'Pink Floyd', 'ACDC', 'Deep Purple']\n",
      "['Pink Floyd' 'Deep Purple' 'The Beatles' 'ACDC']\n"
     ]
    }
   ],
   "source": [
    "playlist = [\"The Beatles\", \"Pink Floyd\", \"ACDC\", \"Deep Purple\"]\n",
    "print(playlist)\n",
    "shuffled = np.random.permutation(playlist) # создает новый перемешанный массив из исходного\n",
    "print(shuffled)\n"
   ]
  },
  {
   "cell_type": "code",
   "execution_count": 45,
   "metadata": {},
   "outputs": [
    {
     "data": {
      "text/plain": [
       "array([0, 6, 1, 8, 9, 7, 5, 3, 4, 2])"
      ]
     },
     "execution_count": 45,
     "metadata": {},
     "output_type": "execute_result"
    }
   ],
   "source": [
    "np.random.permutation(10) # создаем новый перемешанный список чисел от 0 до 10"
   ]
  },
  {
   "cell_type": "code",
   "execution_count": 48,
   "metadata": {},
   "outputs": [
    {
     "name": "stdout",
     "output_type": "stream",
     "text": [
      "['Ivan' 'Kate' 'John']\n"
     ]
    }
   ],
   "source": [
    "workers = ['Ivan', 'Nikita', 'Maria', 'John', 'Kate']\n",
    "# создаем рандомный список нужной длины из эл-в исходного. replace - могут ли элементы повторяться \n",
    "choice = np.random.choice(workers, size=3, replace=False) \n",
    "print(choice)"
   ]
  }
 ],
 "metadata": {
  "kernelspec": {
   "display_name": "Python 3",
   "language": "python",
   "name": "python3"
  },
  "language_info": {
   "codemirror_mode": {
    "name": "ipython",
    "version": 3
   },
   "file_extension": ".py",
   "mimetype": "text/x-python",
   "name": "python",
   "nbconvert_exporter": "python",
   "pygments_lexer": "ipython3",
   "version": "3.9.10 (tags/v3.9.10:f2f3f53, Jan 17 2022, 15:14:21) [MSC v.1929 64 bit (AMD64)]"
  },
  "orig_nbformat": 4,
  "vscode": {
   "interpreter": {
    "hash": "e54c2f264ed7b124c7aa4ebd8a43964164d899d2ea608eb2fd3f3ea6d148e1f2"
   }
  }
 },
 "nbformat": 4,
 "nbformat_minor": 2
}
