{
 "cells": [
  {
   "attachments": {},
   "cell_type": "markdown",
   "metadata": {},
   "source": [
    "HTTP-запросы"
   ]
  },
  {
   "cell_type": "code",
   "execution_count": 5,
   "metadata": {},
   "outputs": [
    {
     "name": "stdout",
     "output_type": "stream",
     "text": [
      "{'Date': '2023-01-17T11:30:00+03:00',\n",
      " 'PreviousDate': '2023-01-14T11:30:00+03:00',\n",
      " 'PreviousURL': '//www.cbr-xml-daily.ru/archive/2023/01/14/daily_json.js',\n",
      " 'Timestamp': '2023-01-17T15:00:00+03:00',\n",
      " 'Valute': {'AMD': {'CharCode': 'AMD',\n",
      "                    'ID': 'R01060',\n",
      "                    'Name': 'Армянских драмов',\n",
      "                    'Nominal': 100,\n",
      "                    'NumCode': '051',\n",
      "                    'Previous': 17.0401,\n",
      "                    'Value': 17.21},\n",
      "            'AUD': {'CharCode': 'AUD',\n",
      "                    'ID': 'R01010',\n",
      "                    'Name': 'Австралийский доллар',\n",
      "                    'Nominal': 1,\n",
      "                    'NumCode': '036',\n",
      "                    'Previous': 46.998,\n",
      "                    'Value': 47.7205},\n",
      "            'AZN': {'CharCode': 'AZN',\n",
      "                    'ID': 'R01020A',\n",
      "                    'Name': 'Азербайджанский манат',\n",
      "                    'Nominal': 1,\n",
      "                    'NumCode': '944',\n",
      "                    'Previous': 39.7496,\n",
      "                    'Value': 40.1701},\n",
      "            'BGN': {'CharCode': 'BGN',\n",
      "                    'ID': 'R01100',\n",
      "                    'Name': 'Болгарский лев',\n",
      "                    'Nominal': 1,\n",
      "                    'NumCode': '975',\n",
      "                    'Previous': 37.2167,\n",
      "                    'Value': 37.758},\n",
      "            'BRL': {'CharCode': 'BRL',\n",
      "                    'ID': 'R01115',\n",
      "                    'Name': 'Бразильский реал',\n",
      "                    'Nominal': 1,\n",
      "                    'NumCode': '986',\n",
      "                    'Previous': 13.1475,\n",
      "                    'Value': 13.3526},\n",
      "            'BYN': {'CharCode': 'BYN',\n",
      "                    'ID': 'R01090B',\n",
      "                    'Name': 'Белорусский рубль',\n",
      "                    'Nominal': 1,\n",
      "                    'NumCode': '933',\n",
      "                    'Previous': 25.9353,\n",
      "                    'Value': 26.1024},\n",
      "            'CAD': {'CharCode': 'CAD',\n",
      "                    'ID': 'R01350',\n",
      "                    'Name': 'Канадский доллар',\n",
      "                    'Nominal': 1,\n",
      "                    'NumCode': '124',\n",
      "                    'Previous': 50.5116,\n",
      "                    'Value': 50.9393},\n",
      "            'CHF': {'CharCode': 'CHF',\n",
      "                    'ID': 'R01775',\n",
      "                    'Name': 'Швейцарский франк',\n",
      "                    'Nominal': 1,\n",
      "                    'NumCode': '756',\n",
      "                    'Previous': 72.7702,\n",
      "                    'Value': 73.8182},\n",
      "            'CNY': {'CharCode': 'CNY',\n",
      "                    'ID': 'R01375',\n",
      "                    'Name': 'Китайский юань',\n",
      "                    'Nominal': 1,\n",
      "                    'NumCode': '156',\n",
      "                    'Previous': 10.0307,\n",
      "                    'Value': 10.1368},\n",
      "            'CZK': {'CharCode': 'CZK',\n",
      "                    'ID': 'R01760',\n",
      "                    'Name': 'Чешских крон',\n",
      "                    'Nominal': 10,\n",
      "                    'NumCode': '203',\n",
      "                    'Previous': 30.2861,\n",
      "                    'Value': 30.7526},\n",
      "            'DKK': {'CharCode': 'DKK',\n",
      "                    'ID': 'R01215',\n",
      "                    'Name': 'Датских крон',\n",
      "                    'Nominal': 10,\n",
      "                    'NumCode': '208',\n",
      "                    'Previous': 97.8573,\n",
      "                    'Value': 99.2749},\n",
      "            'EUR': {'CharCode': 'EUR',\n",
      "                    'ID': 'R01239',\n",
      "                    'Name': 'Евро',\n",
      "                    'Nominal': 1,\n",
      "                    'NumCode': '978',\n",
      "                    'Previous': 73.1131,\n",
      "                    'Value': 73.8298},\n",
      "            'GBP': {'CharCode': 'GBP',\n",
      "                    'ID': 'R01035',\n",
      "                    'Name': 'Фунт стерлингов Соединенного королевства',\n",
      "                    'Nominal': 1,\n",
      "                    'NumCode': '826',\n",
      "                    'Previous': 82.2853,\n",
      "                    'Value': 83.4153},\n",
      "            'HKD': {'CharCode': 'HKD',\n",
      "                    'ID': 'R01200',\n",
      "                    'Name': 'Гонконгских долларов',\n",
      "                    'Nominal': 10,\n",
      "                    'NumCode': '344',\n",
      "                    'Previous': 86.6672,\n",
      "                    'Value': 87.5839},\n",
      "            'HUF': {'CharCode': 'HUF',\n",
      "                    'ID': 'R01135',\n",
      "                    'Name': 'Венгерских форинтов',\n",
      "                    'Nominal': 100,\n",
      "                    'NumCode': '348',\n",
      "                    'Previous': 18.4938,\n",
      "                    'Value': 18.5211},\n",
      "            'INR': {'CharCode': 'INR',\n",
      "                    'ID': 'R01270',\n",
      "                    'Name': 'Индийских рупий',\n",
      "                    'Nominal': 100,\n",
      "                    'NumCode': '356',\n",
      "                    'Previous': 81.7747,\n",
      "                    'Value': 82.9093},\n",
      "            'JPY': {'CharCode': 'JPY',\n",
      "                    'ID': 'R01820',\n",
      "                    'Name': 'Японских иен',\n",
      "                    'Nominal': 100,\n",
      "                    'NumCode': '392',\n",
      "                    'Previous': 52.29,\n",
      "                    'Value': 53.4972},\n",
      "            'KGS': {'CharCode': 'KGS',\n",
      "                    'ID': 'R01370',\n",
      "                    'Name': 'Киргизских сомов',\n",
      "                    'Nominal': 100,\n",
      "                    'NumCode': '417',\n",
      "                    'Previous': 78.8683,\n",
      "                    'Value': 79.7026},\n",
      "            'KRW': {'CharCode': 'KRW',\n",
      "                    'ID': 'R01815',\n",
      "                    'Name': 'Вон Республики Корея',\n",
      "                    'Nominal': 1000,\n",
      "                    'NumCode': '410',\n",
      "                    'Previous': 54.4384,\n",
      "                    'Value': 55.2815},\n",
      "            'KZT': {'CharCode': 'KZT',\n",
      "                    'ID': 'R01335',\n",
      "                    'Name': 'Казахстанских тенге',\n",
      "                    'Nominal': 100,\n",
      "                    'NumCode': '398',\n",
      "                    'Previous': 14.6082,\n",
      "                    'Value': 14.7719},\n",
      "            'MDL': {'CharCode': 'MDL',\n",
      "                    'ID': 'R01500',\n",
      "                    'Name': 'Молдавских леев',\n",
      "                    'Nominal': 10,\n",
      "                    'NumCode': '498',\n",
      "                    'Previous': 35.2589,\n",
      "                    'Value': 35.6836},\n",
      "            'NOK': {'CharCode': 'NOK',\n",
      "                    'ID': 'R01535',\n",
      "                    'Name': 'Норвежских крон',\n",
      "                    'Nominal': 10,\n",
      "                    'NumCode': '578',\n",
      "                    'Previous': 68.3502,\n",
      "                    'Value': 69.0257},\n",
      "            'PLN': {'CharCode': 'PLN',\n",
      "                    'ID': 'R01565',\n",
      "                    'Name': 'Польский злотый',\n",
      "                    'Nominal': 1,\n",
      "                    'NumCode': '985',\n",
      "                    'Previous': 15.5809,\n",
      "                    'Value': 15.753},\n",
      "            'RON': {'CharCode': 'RON',\n",
      "                    'ID': 'R01585F',\n",
      "                    'Name': 'Румынский лей',\n",
      "                    'Nominal': 1,\n",
      "                    'NumCode': '946',\n",
      "                    'Previous': 14.8228,\n",
      "                    'Value': 14.9711},\n",
      "            'SEK': {'CharCode': 'SEK',\n",
      "                    'ID': 'R01770',\n",
      "                    'Name': 'Шведских крон',\n",
      "                    'Nominal': 10,\n",
      "                    'NumCode': '752',\n",
      "                    'Previous': 65.0442,\n",
      "                    'Value': 65.5134},\n",
      "            'SGD': {'CharCode': 'SGD',\n",
      "                    'ID': 'R01625',\n",
      "                    'Name': 'Сингапурский доллар',\n",
      "                    'Nominal': 1,\n",
      "                    'NumCode': '702',\n",
      "                    'Previous': 51.0766,\n",
      "                    'Value': 51.8757},\n",
      "            'TJS': {'CharCode': 'TJS',\n",
      "                    'ID': 'R01670',\n",
      "                    'Name': 'Таджикских сомони',\n",
      "                    'Nominal': 10,\n",
      "                    'NumCode': '972',\n",
      "                    'Previous': 65.9874,\n",
      "                    'Value': 66.6789},\n",
      "            'TMT': {'CharCode': 'TMT',\n",
      "                    'ID': 'R01710A',\n",
      "                    'Name': 'Новый туркменский манат',\n",
      "                    'Nominal': 1,\n",
      "                    'NumCode': '934',\n",
      "                    'Previous': 19.307,\n",
      "                    'Value': 19.5112},\n",
      "            'TRY': {'CharCode': 'TRY',\n",
      "                    'ID': 'R01700J',\n",
      "                    'Name': 'Турецких лир',\n",
      "                    'Nominal': 10,\n",
      "                    'NumCode': '949',\n",
      "                    'Previous': 35.9865,\n",
      "                    'Value': 36.3703},\n",
      "            'UAH': {'CharCode': 'UAH',\n",
      "                    'ID': 'R01720',\n",
      "                    'Name': 'Украинских гривен',\n",
      "                    'Nominal': 10,\n",
      "                    'NumCode': '980',\n",
      "                    'Previous': 18.3043,\n",
      "                    'Value': 18.4979},\n",
      "            'USD': {'CharCode': 'USD',\n",
      "                    'ID': 'R01235',\n",
      "                    'Name': 'Доллар США',\n",
      "                    'Nominal': 1,\n",
      "                    'NumCode': '840',\n",
      "                    'Previous': 67.5744,\n",
      "                    'Value': 68.2892},\n",
      "            'UZS': {'CharCode': 'UZS',\n",
      "                    'ID': 'R01717',\n",
      "                    'Name': 'Узбекских сумов',\n",
      "                    'Nominal': 10000,\n",
      "                    'NumCode': '860',\n",
      "                    'Previous': 59.7983,\n",
      "                    'Value': 60.3415},\n",
      "            'XDR': {'CharCode': 'XDR',\n",
      "                    'ID': 'R01589',\n",
      "                    'Name': 'СДР (специальные права заимствования)',\n",
      "                    'Nominal': 1,\n",
      "                    'NumCode': '960',\n",
      "                    'Previous': 90.8342,\n",
      "                    'Value': 92.0818},\n",
      "            'ZAR': {'CharCode': 'ZAR',\n",
      "                    'ID': 'R01810',\n",
      "                    'Name': 'Южноафриканских рэндов',\n",
      "                    'Nominal': 10,\n",
      "                    'NumCode': '710',\n",
      "                    'Previous': 40.3996,\n",
      "                    'Value': 40.1272}}}\n"
     ]
    }
   ],
   "source": [
    "import requests # Импортируем библиотеку requests\n",
    "from pprint import pprint\n",
    "url = 'https://www.cbr-xml-daily.ru/daily_json.js' # Определяем значение URL страницы для запроса\n",
    "response = requests.get(url) # Делаем GET-запрос к ресурсу и результат ответа сохраняем в переменной response\n",
    "pprint(response.json())"
   ]
  },
  {
   "attachments": {},
   "cell_type": "markdown",
   "metadata": {},
   "source": [
    "Парсинг сайтов"
   ]
  },
  {
   "cell_type": "code",
   "execution_count": 11,
   "metadata": {},
   "outputs": [
    {
     "name": "stdout",
     "output_type": "stream",
     "text": [
      "<!DOCTYPE html>\n",
      "<html prefix=\"og: http://ogp.me/ns#\" lang=\"ru\">\n",
      "<head>\n",
      "  <meta charset=\"utf-8\">\n",
      "  <meta name=\"viewport\" content=\"width=device-width, initial-scale=1\">\n",
      "  <title>Премию Нобеля по экономике присудили за исследования экономики труда и причинно-следственных связей</title>\n",
      "  <link href=\"/front-build/css/main.css?v=6\" rel=\"stylesheet\">\n",
      "  <link href=\"/front-build/css/app.css?v=6\" rel=\"stylesheet\">\n",
      "  \n",
      "\n",
      "  <link rel=\"apple-touch-icon\" sizes=\"180x180\" href=\"/apple-touch-icon.png\">\n",
      "  <link rel=\"icon\" type=\"image/png\" sizes=\"32x32\" href=\"/favicon-32x32.png\">\n",
      "  <link rel=\"icon\" type=\"image/png\" sizes=\"16x16\" href=\"/favicon-16x16.png\">\n",
      "  <link rel=\"manifest\" href=\"/site.webmanifest\">\n",
      "  <link\n"
     ]
    }
   ],
   "source": [
    "import requests # Импортируем библиотеку requests\n",
    "url = 'https://nplus1.ru/news/2021/10/11/econobel2021' # Определяем адрес страницы\n",
    "response = requests.get(url)  # Выполняем GET-запрос\n",
    "print(response.text[:700])  # Выводим содержимое атрибута text"
   ]
  },
  {
   "cell_type": "code",
   "execution_count": 1,
   "metadata": {},
   "outputs": [
    {
     "name": "stdout",
     "output_type": "stream",
     "text": [
      "<title>Премию Нобеля по экономике присудили за исследования экономики труда и причинно-следственных связей</title>\n",
      "Премию Нобеля по экономике присудили за исследования экономики труда и причинно-следственных связей\n"
     ]
    }
   ],
   "source": [
    "import requests # Импортируем библиотеку requests\n",
    "from bs4 import BeautifulSoup # Импортируем библиотеку BeautifulSoup\n",
    "url = 'https://nplus1.ru/news/2021/10/11/econobel2021' # Определяем адрес страницы\n",
    "response = requests.get(url) # Выполняем GET-запрос, содержимое ответа присваивается переменной response\n",
    "page = BeautifulSoup(response.text, 'html.parser') # Создаём объект BeautifulSoup, указывая html-парсер\n",
    "print(page.title) # Получаем тег title, отображающийся на вкладке браузера\n",
    "print(page.title.text) # Выводим текст из полученного тега, который содержится в атрибуте text\n",
    "\n",
    "# Если выдается капча, requests.get(url, headers={'User-Agent': 'Mozilla/5.0'}) "
   ]
  },
  {
   "cell_type": "code",
   "execution_count": 2,
   "metadata": {},
   "outputs": [
    {
     "name": "stdout",
     "output_type": "stream",
     "text": [
      "\n",
      "            Премию Нобеля по экономике присудили за исследования экономики труда и причинно-следственных связей\n",
      "          \n",
      "Премия Шведского национального банка по экономическим наукам памяти Альфреда Нобеля за 2021 год присуждена Дэвиду Карду (David Card) за его вклад в эмпирические исследования экономики рынка труда, а также Джошуа Энгристу (Joshua Angrist) и Гвидо Имбенсу (Guido Imbens) за их вклад в методологию анализа причинно-следственных связей. Прямая трансляция церемонии объявления лауреатов шла на официальном сайте Нобелевской премии.\n"
     ]
    }
   ],
   "source": [
    "print(page.find('h1').text)\n",
    "print(page.find('div', class_='n1_material text-18').text) # Выводим содержимое атрибута text тега div класса n1_material text-18"
   ]
  },
  {
   "cell_type": "code",
   "execution_count": 11,
   "metadata": {},
   "outputs": [
    {
     "name": "stdout",
     "output_type": "stream",
     "text": [
      "165\n"
     ]
    }
   ],
   "source": [
    "links = page.find_all('a') # Ищем все ссылки на странице и сохраняем в переменной links в виде списка\n",
    "print(len(links)) # Выводим количество найденных ссылок"
   ]
  },
  {
   "attachments": {},
   "cell_type": "markdown",
   "metadata": {},
   "source": [
    "Получение данных API"
   ]
  },
  {
   "cell_type": "code",
   "execution_count": 43,
   "metadata": {},
   "outputs": [],
   "source": [
    "token = '' # Указываем свой сервисный токен от vk"
   ]
  },
  {
   "cell_type": "code",
   "execution_count": 20,
   "metadata": {},
   "outputs": [
    {
     "name": "stdout",
     "output_type": "stream",
     "text": [
      "{'response': [{'bdate': '10.10.1984',\n",
      "               'can_access_closed': True,\n",
      "               'first_name': 'Павел',\n",
      "               'id': 1,\n",
      "               'is_closed': False,\n",
      "               'last_name': 'Дуров',\n",
      "               'sex': 2}]}\n"
     ]
    }
   ],
   "source": [
    "import requests # Импортируем модуль requests\n",
    "url = 'https://api.vk.com/method/users.get' # Указываем адрес страницы к которой делаем запрос\n",
    "params = {'user_id': 1, 'v': 5.95, 'fields': 'sex,bdate', 'access_token': token, 'lang': 'ru'} # Перечисляем параметры нашего запроса в словаре params\n",
    "response = requests.get(url, params=params) # Отправляем запрос\n",
    "pprint(response.json()) # Выводим текст ответа на экран"
   ]
  },
  {
   "cell_type": "code",
   "execution_count": 37,
   "metadata": {},
   "outputs": [
    {
     "name": "stdout",
     "output_type": "stream",
     "text": [
      "Участников группы: 13101130\n",
      "Участников получили за раз: 1000\n"
     ]
    }
   ],
   "source": [
    "# получим пользователей группы vk\n",
    "url = 'https://api.vk.com/method/groups.getMembers' # Указываем адрес обращения\n",
    "params = {'group_id': 'vk', 'v': 5.95, 'access_token': token} # Формируем строку параметров\n",
    "response = requests.get(url, params = params) # Посылаем запрос\n",
    "data = response.json() # Ответ сохраняем в переменной data в формате словаря\n",
    "print('Участников группы:', data['response']['count'])  \n",
    "print('Участников получили за раз:', len(data['response']['items'])) "
   ]
  },
  {
   "cell_type": "code",
   "execution_count": 41,
   "metadata": {},
   "outputs": [
    {
     "name": "stdout",
     "output_type": "stream",
     "text": [
      "Выгружаю 5 пользователей с offset = 0\n",
      "Ожидаю 0.5 секунды...\n",
      "Выгружаю 5 пользователей с offset = 5\n",
      "Ожидаю 0.5 секунды...\n",
      "Выгружаю 5 пользователей с offset = 10\n",
      "Ожидаю 0.5 секунды...\n",
      "Выгружаю 5 пользователей с offset = 15\n",
      "Ожидаю 0.5 секунды...\n",
      "[6, 19, 47, 54, 79, 177, 198, 212, 219, 239, 243, 345, 407, 450, 467, 485, 510, 550, 619, 640]\n"
     ]
    }
   ],
   "source": [
    "import time # Импортируем модуль time\n",
    "url = 'https://api.vk.com/method/groups.getMembers' # Указываем адрес обращения\n",
    "count = 5 \n",
    "offset = 0 \n",
    "user_ids = [] \n",
    "max_count = 20 \n",
    "while offset < max_count: \n",
    "    # Будем выгружать по count=5 пользователей, \n",
    "    # начиная с того места, где закончили на предыдущей итерации (offset) \n",
    "    print('Выгружаю {} пользователей с offset = {}'.format(count, offset))   \n",
    "    params = {'group_id': 'vk', 'v': 5.95, 'count': count, 'offset': offset, 'access_token': token} \n",
    "    response = requests.get(url, params = params) \n",
    "    data = response.json() \n",
    "    user_ids += data['response']['items'] \n",
    "    # Увеличиваем смещение на количество строк, которое мы уже выгрузили \n",
    "    offset += count \n",
    "    print('Ожидаю 0.5 секунды...') \n",
    "    time.sleep(0.5) \n",
    "print(user_ids) "
   ]
  },
  {
   "cell_type": "code",
   "execution_count": 47,
   "metadata": {},
   "outputs": [
    {
     "name": "stdout",
     "output_type": "stream",
     "text": [
      "{'attachments': [],\n",
      " 'comments': {'can_post': 1, 'count': 163, 'groups_can_post': True},\n",
      " 'copy_history': [{'attachments': [{'link': {'caption': 'trends.rbc.ru',\n",
      "                                             'description': 'Ежемесячно '\n",
      "                                                            '«ВКонтакте» '\n",
      "                                                            'пользуется 85% '\n",
      "                                                            'аудитории рунета. '\n",
      "                                                            'О запуске новых '\n",
      "                                                            'продуктов в 2022 '\n",
      "                                                            'году, цифровых '\n",
      "                                                            'аватарах и '\n",
      "                                                            'виртуальных '\n",
      "                                                            'вселенных, а '\n",
      "                                                            'также о трендах '\n",
      "                                                            'развития соцсетей '\n",
      "                                                            'рассказала CEO '\n",
      "                                                            'платформы Марина '\n",
      "                                                            'Краснова',\n",
      "                                             'photo': {'album_id': -25,\n",
      "                                                       'date': 1672419661,\n",
      "                                                       'id': 457439683,\n",
      "                                                       'owner_id': 2000003296,\n",
      "                                                       'sizes': [{'height': 480,\n",
      "                                                                  'type': 'k',\n",
      "                                                                  'url': 'https://sun2-12.userapi.com/impg/a5iAX4wny_C8OsQTYFdGVFbHVYe930Pfbi3tlw/7lL1qfKCgh0.jpg?size=1074x480&quality=96&sign=919434471995d8dca92206c004651477&c_uniq_tag=nyRn4NzZI3qbBY1YwOtZudk6isfQ9H0DbPNqEx3N9Mk&type=share',\n",
      "                                                                  'width': 1074},\n",
      "                                                                 {'height': 240,\n",
      "                                                                  'type': 'l',\n",
      "                                                                  'url': 'https://sun2-12.userapi.com/impg/a5iAX4wny_C8OsQTYFdGVFbHVYe930Pfbi3tlw/7lL1qfKCgh0.jpg?size=537x240&quality=96&sign=1aaf40f25eaed8184c17efacffec908c&c_uniq_tag=3V2QY8NUhEKEq1FPjMmuH8gf3gTbjq4BaLZ5YrOEGEg&type=share',\n",
      "                                                                  'width': 537},\n",
      "                                                                 {'height': 80,\n",
      "                                                                  'type': 'm',\n",
      "                                                                  'url': 'https://sun2-12.userapi.com/impg/a5iAX4wny_C8OsQTYFdGVFbHVYe930Pfbi3tlw/7lL1qfKCgh0.jpg?size=130x80&quality=96&crop=147,0,780,480&sign=d7429a2a18bfc62ed53543d8bcf5ca4d&c_uniq_tag=1bYeDBBUElqhPGB_WAFhv8RlBIg9By4-7ArVW8H7HV0&type=share',\n",
      "                                                                  'width': 130},\n",
      "                                                                 {'height': 140,\n",
      "                                                                  'type': 'p',\n",
      "                                                                  'url': 'https://sun2-12.userapi.com/impg/a5iAX4wny_C8OsQTYFdGVFbHVYe930Pfbi3tlw/7lL1qfKCgh0.jpg?size=260x140&quality=96&crop=91,0,891,480&sign=5db8a2210a8597e6b8cc65d04d8c8a03&c_uniq_tag=3SbvjQZtKL-qs3t7rAbxGZUnQqLGM7MdcKGr41-fjKM&type=share',\n",
      "                                                                  'width': 260},\n",
      "                                                                 {'height': 35,\n",
      "                                                                  'type': 's',\n",
      "                                                                  'url': 'https://sun2-12.userapi.com/impg/a5iAX4wny_C8OsQTYFdGVFbHVYe930Pfbi3tlw/7lL1qfKCgh0.jpg?size=75x35&quality=96&crop=22,0,1029,480&sign=13e9210c4480f2fa19702fa976590178&c_uniq_tag=C8xXQi_t_uaTuT-tjQ1w7MZgunHBcVqPPq9ytPKyKRw&type=share',\n",
      "                                                                  'width': 75},\n",
      "                                                                 {'height': 80,\n",
      "                                                                  'type': 'x',\n",
      "                                                                  'url': 'https://sun2-12.userapi.com/impg/a5iAX4wny_C8OsQTYFdGVFbHVYe930Pfbi3tlw/7lL1qfKCgh0.jpg?size=150x80&quality=96&crop=87,0,900,480&sign=14ac212e15c62f42a5094f691cf93d4e&c_uniq_tag=9ZS1xKmwmq9QyMq0_tdHXpOz68a93_07hKrDaEEEEYE&type=share',\n",
      "                                                                  'width': 150}],\n",
      "                                                       'text': '',\n",
      "                                                       'user_id': 100},\n",
      "                                             'title': 'Марина Краснова: «Самый '\n",
      "                                                      'ценный ресурс сегодня — '\n",
      "                                                      'время пользователя» | '\n",
      "                                                      'РБК Тренды',\n",
      "                                             'url': 'http://trends.rbc.ru/trends/industry/cmrm/63ad70ba9a794715c69a0aa2'},\n",
      "                                    'type': 'link'}],\n",
      "                   'date': 1672419651,\n",
      "                   'from_id': 92933,\n",
      "                   'id': 572,\n",
      "                   'owner_id': 92933,\n",
      "                   'post_source': {'platform': 'android', 'type': 'api'},\n",
      "                   'post_type': 'post',\n",
      "                   'text': 'Год завершается, а я поделилась ключевыми '\n",
      "                           'достижениями ВКонтакте за 2022 год в интервью для '\n",
      "                           '«РБК Тренды». \\n'\n",
      "                           '\\n'\n",
      "                           'Озвучили актуальные цифры и наши фантастические '\n",
      "                           'рекорды, поговорили про запуски и новые продукты, '\n",
      "                           'обсудили лидерство ВКонтакте, рост Команды, тренды '\n",
      "                           'развития соцсетей, цифровые аватары и виртуальные '\n",
      "                           'вселенные, а также грандиозные планы на 2023-й и '\n",
      "                           'многое другое: '\n",
      "                           'trends.rbc.ru/trends/industry/cmrm/63ad70ba9a794715c69a0aa2\\n'\n",
      "                           '\\n'\n",
      "                           'ВКонтакте сегодня — это: \\n'\n",
      "                           ' • 85% аудитории рунета каждый месяц\\n'\n",
      "                           ' • 100 миллионов активных пользователей в месяц\\n'\n",
      "                           ' • 6,3 млрд единиц контента, созданных '\n",
      "                           'пользователями в 2022 году\\n'\n",
      "                           ' • 8 млн уникальных цифровых аватаров vmoji\\n'\n",
      "                           'А ещё 2,75 млрд просмотров видео в сутки на '\n",
      "                           'платформе видеотехнологий VK, 20 млн пользователей '\n",
      "                           'VK Звонков, 750 млн суточных просмотров в VK '\n",
      "                           'Клипах и многое другое. \\n'\n",
      "                           '\\n'\n",
      "                           'В этом году мы представили новые сервисы и '\n",
      "                           'уникальные технологии — к примеру, совместный '\n",
      "                           'просмотр видеоконтента в VK Звонках, платформу VK '\n",
      "                           'NFT, ленту «Актуальное», отдельные приложения VK '\n",
      "                           'Звонков, VK Мессенджера и VK Клипов, новый дизайн '\n",
      "                           'ВКонтакте, приложение для Apple Watch, SDK VK '\n",
      "                           'Видео и VK Звонков для сторонних разработчиков. \\n'\n",
      "                           'Больше цифр и интересных фактов — в материале.'}],\n",
      " 'date': 1672419951,\n",
      " 'from_id': -22822305,\n",
      " 'hash': 'YjkXOBPbVkDrG8e1cw',\n",
      " 'id': 1374404,\n",
      " 'likes': {'can_like': 1, 'can_publish': 1, 'count': 1142, 'user_likes': 0},\n",
      " 'marked_as_ads': 0,\n",
      " 'owner_id': -22822305,\n",
      " 'post_source': {'platform': 'iphone', 'type': 'api'},\n",
      " 'post_type': 'post',\n",
      " 'reposts': {'count': 484, 'user_reposted': 0},\n",
      " 'text': 'CEO ВКонтакте Марина Краснова делится итогами года и планами на '\n",
      "         '2023-й.',\n",
      " 'views': {'count': 370453}}\n"
     ]
    }
   ],
   "source": [
    "url = 'https://api.vk.com/method/wall.get' # Указываем адрес страницы, к которой делаем запрос\n",
    "params = {'domain': 'vk', 'filter': 'owner', 'count': 1000, 'offset': 0, 'access_token': token, 'v': 5.95} \n",
    "response = requests.get(url, params = params) \n",
    "pprint(response.json()['response']['items'][3]) "
   ]
  },
  {
   "cell_type": "code",
   "execution_count": 49,
   "metadata": {},
   "outputs": [
    {
     "name": "stdout",
     "output_type": "stream",
     "text": [
      "{'CEO ВКонтакте Марина Краснова ': [163, 1142, 484, 1672419951],\n",
      " 'А вот и рейтинг главных мемов ': [433, 4304, 1293, 1672210020],\n",
      " 'В Петербурге открылся первый м': [302, 1197, 511, 1671796635],\n",
      " 'В предновогодней суете вы могл': [338, 668, 1149, 1673607471],\n",
      " 'ВКонтакте есть добрая новогодн': [123, 1612, 462, 1672300776],\n",
      " 'ВКонтакте много ценителей куль': [142, 1341, 429, 1671712120],\n",
      " 'Год выдался насыщенным на техн': [310, 1156, 416, 1672061199],\n",
      " 'Предупредим вас о потенциально': [256, 1241, 437, 1672123320],\n",
      " 'Рассказываем, как вы отметили ': [90, 693, 1157, 1673536380],\n",
      " 'Что обсуждали, смотрели и слуш': [217, 1400, 489, 1672328610]}\n"
     ]
    }
   ],
   "source": [
    "# статистика по последним 10 сообщениям\n",
    "stats = {} \n",
    "count_post = 0 # Счётчик «непустых» сообщений\n",
    "for record in response.json()['response']['items'][:]:\n",
    "    title = record['text'][:30] \n",
    "    if title: \n",
    "        stats[title] = [record['comments']['count'], record['likes']['count'], record['reposts']['count'], record['date']] \n",
    "        count_post += 1 \n",
    "    if count_post < 10: \n",
    "        continue \n",
    "    else: \n",
    "        break \n",
    "pprint(stats)"
   ]
  },
  {
   "attachments": {},
   "cell_type": "markdown",
   "metadata": {},
   "source": [
    "Запуск по крону"
   ]
  },
  {
   "cell_type": "code",
   "execution_count": null,
   "metadata": {},
   "outputs": [],
   "source": [
    "import schedule\n",
    "\n",
    "def task(): \n",
    "    print('Hello! I am a task!') \n",
    "    return\n",
    "\n",
    "schedule.every(15).minutes.do(task)\n",
    "\n",
    "import time \n",
    "while True: \n",
    "    schedule.run_pending() \n",
    "    time.sleep(1)"
   ]
  }
 ],
 "metadata": {
  "kernelspec": {
   "display_name": "Python 3",
   "language": "python",
   "name": "python3"
  },
  "language_info": {
   "codemirror_mode": {
    "name": "ipython",
    "version": 3
   },
   "file_extension": ".py",
   "mimetype": "text/x-python",
   "name": "python",
   "nbconvert_exporter": "python",
   "pygments_lexer": "ipython3",
   "version": "3.9.10"
  },
  "orig_nbformat": 4,
  "vscode": {
   "interpreter": {
    "hash": "e54c2f264ed7b124c7aa4ebd8a43964164d899d2ea608eb2fd3f3ea6d148e1f2"
   }
  }
 },
 "nbformat": 4,
 "nbformat_minor": 2
}
