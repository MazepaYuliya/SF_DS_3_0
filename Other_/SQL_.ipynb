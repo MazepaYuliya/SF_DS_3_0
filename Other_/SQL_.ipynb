{
 "cells": [
  {
   "cell_type": "code",
   "execution_count": 1,
   "metadata": {},
   "outputs": [],
   "source": [
    "import pandas as pd\n",
    "import psycopg2"
   ]
  },
  {
   "cell_type": "code",
   "execution_count": 4,
   "metadata": {},
   "outputs": [
    {
     "ename": "ModuleNotFoundError",
     "evalue": "No module named 'local_settings'",
     "output_type": "error",
     "traceback": [
      "\u001b[1;31m---------------------------------------------------------------------------\u001b[0m",
      "\u001b[1;31mModuleNotFoundError\u001b[0m                       Traceback (most recent call last)",
      "Cell \u001b[1;32mIn[4], line 1\u001b[0m\n\u001b[1;32m----> 1\u001b[0m \u001b[39mimport\u001b[39;00m \u001b[39mlocal_settings\u001b[39;00m\n\u001b[0;32m      2\u001b[0m connection \u001b[39m=\u001b[39m psycopg2\u001b[39m.\u001b[39mconnect(\n\u001b[0;32m      3\u001b[0m     dbname\u001b[39m=\u001b[39msettings\u001b[39m.\u001b[39mDBNAME,\n\u001b[0;32m      4\u001b[0m     user\u001b[39m=\u001b[39msettings\u001b[39m.\u001b[39mUSER,\n\u001b[1;32m   (...)\u001b[0m\n\u001b[0;32m      7\u001b[0m     port\u001b[39m=\u001b[39msettings\u001b[39m.\u001b[39mPORT\n\u001b[0;32m      8\u001b[0m )\n",
      "\u001b[1;31mModuleNotFoundError\u001b[0m: No module named 'local_settings'"
     ]
    }
   ],
   "source": [
    "import local_settings\n",
    "connection = psycopg2.connect(\n",
    "    dbname=local_settings.DBNAME,\n",
    "    user=local_settings.USER,\n",
    "    host=local_settings.HOST,\n",
    "    password=local_settings.PASSWORD,\n",
    "    port=local_settings.PORT\n",
    ")"
   ]
  }
 ],
 "metadata": {
  "kernelspec": {
   "display_name": "Python 3",
   "language": "python",
   "name": "python3"
  },
  "language_info": {
   "codemirror_mode": {
    "name": "ipython",
    "version": 3
   },
   "file_extension": ".py",
   "mimetype": "text/x-python",
   "name": "python",
   "nbconvert_exporter": "python",
   "pygments_lexer": "ipython3",
   "version": "3.9.10"
  },
  "orig_nbformat": 4,
  "vscode": {
   "interpreter": {
    "hash": "e54c2f264ed7b124c7aa4ebd8a43964164d899d2ea608eb2fd3f3ea6d148e1f2"
   }
  }
 },
 "nbformat": 4,
 "nbformat_minor": 2
}
