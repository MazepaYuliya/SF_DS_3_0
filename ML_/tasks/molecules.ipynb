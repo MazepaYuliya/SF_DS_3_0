{
 "cells": [
  {
   "attachments": {},
   "cell_type": "markdown",
   "metadata": {},
   "source": [
    "# Предсказание биологического ответа молекул\n",
    "\n",
    "<img src=\"../data/molecules2.jpg\" alt=\"molecules\" width=\"800\"/>"
   ]
  },
  {
   "attachments": {},
   "cell_type": "markdown",
   "metadata": {},
   "source": [
    "Необходимо предсказать биологический ответ молекул ('Activity') по их химическому составу (D1-D1776)"
   ]
  },
  {
   "cell_type": "code",
   "execution_count": 16,
   "metadata": {},
   "outputs": [],
   "source": [
    "import warnings\n",
    "warnings.filterwarnings('ignore')"
   ]
  },
  {
   "cell_type": "code",
   "execution_count": 193,
   "metadata": {},
   "outputs": [],
   "source": [
    "#импорт библиотек\n",
    "import hyperopt as hp\n",
    "import numpy as np #для матричных вычислений\n",
    "import optuna\n",
    "import pandas as pd #для анализа и предобработки данных\n",
    "import matplotlib.pyplot as plt #для визуализации\n",
    "import seaborn as sns #для визуализации\n",
    "\n",
    "from hyperopt import hp, fmin, tpe, Trials\n",
    "from sklearn import linear_model #линейные моделиё\n",
    "from sklearn import tree #деревья решений\n",
    "from sklearn import ensemble #ансамбли\n",
    "from sklearn import metrics #метрики\n",
    "from sklearn import preprocessing #предобработка\n",
    "from sklearn.model_selection import cross_val_score, train_test_split, GridSearchCV, RandomizedSearchCV\n",
    "\n",
    "%matplotlib inline\n",
    "plt.style.use('seaborn')"
   ]
  },
  {
   "cell_type": "code",
   "execution_count": 3,
   "metadata": {},
   "outputs": [
    {
     "data": {
      "text/html": [
       "<div>\n",
       "<style scoped>\n",
       "    .dataframe tbody tr th:only-of-type {\n",
       "        vertical-align: middle;\n",
       "    }\n",
       "\n",
       "    .dataframe tbody tr th {\n",
       "        vertical-align: top;\n",
       "    }\n",
       "\n",
       "    .dataframe thead th {\n",
       "        text-align: right;\n",
       "    }\n",
       "</style>\n",
       "<table border=\"1\" class=\"dataframe\">\n",
       "  <thead>\n",
       "    <tr style=\"text-align: right;\">\n",
       "      <th></th>\n",
       "      <th>Activity</th>\n",
       "      <th>D1</th>\n",
       "      <th>D2</th>\n",
       "      <th>D3</th>\n",
       "      <th>D4</th>\n",
       "      <th>D5</th>\n",
       "      <th>D6</th>\n",
       "      <th>D7</th>\n",
       "      <th>D8</th>\n",
       "      <th>D9</th>\n",
       "      <th>...</th>\n",
       "      <th>D1767</th>\n",
       "      <th>D1768</th>\n",
       "      <th>D1769</th>\n",
       "      <th>D1770</th>\n",
       "      <th>D1771</th>\n",
       "      <th>D1772</th>\n",
       "      <th>D1773</th>\n",
       "      <th>D1774</th>\n",
       "      <th>D1775</th>\n",
       "      <th>D1776</th>\n",
       "    </tr>\n",
       "  </thead>\n",
       "  <tbody>\n",
       "    <tr>\n",
       "      <th>0</th>\n",
       "      <td>1</td>\n",
       "      <td>0.000000</td>\n",
       "      <td>0.497009</td>\n",
       "      <td>0.10</td>\n",
       "      <td>0.0</td>\n",
       "      <td>0.132956</td>\n",
       "      <td>0.678031</td>\n",
       "      <td>0.273166</td>\n",
       "      <td>0.585445</td>\n",
       "      <td>0.743663</td>\n",
       "      <td>...</td>\n",
       "      <td>0</td>\n",
       "      <td>0</td>\n",
       "      <td>0</td>\n",
       "      <td>0</td>\n",
       "      <td>0</td>\n",
       "      <td>0</td>\n",
       "      <td>0</td>\n",
       "      <td>0</td>\n",
       "      <td>0</td>\n",
       "      <td>0</td>\n",
       "    </tr>\n",
       "    <tr>\n",
       "      <th>1</th>\n",
       "      <td>1</td>\n",
       "      <td>0.366667</td>\n",
       "      <td>0.606291</td>\n",
       "      <td>0.05</td>\n",
       "      <td>0.0</td>\n",
       "      <td>0.111209</td>\n",
       "      <td>0.803455</td>\n",
       "      <td>0.106105</td>\n",
       "      <td>0.411754</td>\n",
       "      <td>0.836582</td>\n",
       "      <td>...</td>\n",
       "      <td>1</td>\n",
       "      <td>1</td>\n",
       "      <td>1</td>\n",
       "      <td>1</td>\n",
       "      <td>0</td>\n",
       "      <td>1</td>\n",
       "      <td>0</td>\n",
       "      <td>0</td>\n",
       "      <td>1</td>\n",
       "      <td>0</td>\n",
       "    </tr>\n",
       "    <tr>\n",
       "      <th>2</th>\n",
       "      <td>1</td>\n",
       "      <td>0.033300</td>\n",
       "      <td>0.480124</td>\n",
       "      <td>0.00</td>\n",
       "      <td>0.0</td>\n",
       "      <td>0.209791</td>\n",
       "      <td>0.610350</td>\n",
       "      <td>0.356453</td>\n",
       "      <td>0.517720</td>\n",
       "      <td>0.679051</td>\n",
       "      <td>...</td>\n",
       "      <td>0</td>\n",
       "      <td>0</td>\n",
       "      <td>0</td>\n",
       "      <td>0</td>\n",
       "      <td>0</td>\n",
       "      <td>0</td>\n",
       "      <td>0</td>\n",
       "      <td>0</td>\n",
       "      <td>0</td>\n",
       "      <td>0</td>\n",
       "    </tr>\n",
       "    <tr>\n",
       "      <th>3</th>\n",
       "      <td>1</td>\n",
       "      <td>0.000000</td>\n",
       "      <td>0.538825</td>\n",
       "      <td>0.00</td>\n",
       "      <td>0.5</td>\n",
       "      <td>0.196344</td>\n",
       "      <td>0.724230</td>\n",
       "      <td>0.235606</td>\n",
       "      <td>0.288764</td>\n",
       "      <td>0.805110</td>\n",
       "      <td>...</td>\n",
       "      <td>0</td>\n",
       "      <td>0</td>\n",
       "      <td>0</td>\n",
       "      <td>0</td>\n",
       "      <td>0</td>\n",
       "      <td>0</td>\n",
       "      <td>0</td>\n",
       "      <td>0</td>\n",
       "      <td>0</td>\n",
       "      <td>0</td>\n",
       "    </tr>\n",
       "    <tr>\n",
       "      <th>4</th>\n",
       "      <td>0</td>\n",
       "      <td>0.100000</td>\n",
       "      <td>0.517794</td>\n",
       "      <td>0.00</td>\n",
       "      <td>0.0</td>\n",
       "      <td>0.494734</td>\n",
       "      <td>0.781422</td>\n",
       "      <td>0.154361</td>\n",
       "      <td>0.303809</td>\n",
       "      <td>0.812646</td>\n",
       "      <td>...</td>\n",
       "      <td>0</td>\n",
       "      <td>0</td>\n",
       "      <td>0</td>\n",
       "      <td>0</td>\n",
       "      <td>0</td>\n",
       "      <td>0</td>\n",
       "      <td>0</td>\n",
       "      <td>0</td>\n",
       "      <td>0</td>\n",
       "      <td>0</td>\n",
       "    </tr>\n",
       "  </tbody>\n",
       "</table>\n",
       "<p>5 rows × 1777 columns</p>\n",
       "</div>"
      ],
      "text/plain": [
       "   Activity        D1        D2    D3   D4        D5        D6        D7  \\\n",
       "0         1  0.000000  0.497009  0.10  0.0  0.132956  0.678031  0.273166   \n",
       "1         1  0.366667  0.606291  0.05  0.0  0.111209  0.803455  0.106105   \n",
       "2         1  0.033300  0.480124  0.00  0.0  0.209791  0.610350  0.356453   \n",
       "3         1  0.000000  0.538825  0.00  0.5  0.196344  0.724230  0.235606   \n",
       "4         0  0.100000  0.517794  0.00  0.0  0.494734  0.781422  0.154361   \n",
       "\n",
       "         D8        D9  ...  D1767  D1768  D1769  D1770  D1771  D1772  D1773  \\\n",
       "0  0.585445  0.743663  ...      0      0      0      0      0      0      0   \n",
       "1  0.411754  0.836582  ...      1      1      1      1      0      1      0   \n",
       "2  0.517720  0.679051  ...      0      0      0      0      0      0      0   \n",
       "3  0.288764  0.805110  ...      0      0      0      0      0      0      0   \n",
       "4  0.303809  0.812646  ...      0      0      0      0      0      0      0   \n",
       "\n",
       "   D1774  D1775  D1776  \n",
       "0      0      0      0  \n",
       "1      0      1      0  \n",
       "2      0      0      0  \n",
       "3      0      0      0  \n",
       "4      0      0      0  \n",
       "\n",
       "[5 rows x 1777 columns]"
      ]
     },
     "execution_count": 3,
     "metadata": {},
     "output_type": "execute_result"
    }
   ],
   "source": [
    "original_data = pd.read_csv('../data/molecules.csv')\n",
    "original_data.head()"
   ]
  },
  {
   "cell_type": "code",
   "execution_count": 4,
   "metadata": {},
   "outputs": [
    {
     "name": "stdout",
     "output_type": "stream",
     "text": [
      "<class 'pandas.core.frame.DataFrame'>\n",
      "RangeIndex: 3751 entries, 0 to 3750\n",
      "Columns: 1777 entries, Activity to D1776\n",
      "dtypes: float64(942), int64(835)\n",
      "memory usage: 50.9 MB\n"
     ]
    }
   ],
   "source": [
    "data = original_data.copy()\n",
    "data.info()"
   ]
  },
  {
   "attachments": {},
   "cell_type": "markdown",
   "metadata": {},
   "source": [
    "В таблице 3751 пример ответа молекул.\n",
    "\n",
    "1776 признаков, характеризующих состав молекул и 1 целевая переменная Activity.\n",
    "\n",
    "Признаки могут быть целочисленными (834) и непрерывными (942)."
   ]
  },
  {
   "cell_type": "code",
   "execution_count": 12,
   "metadata": {},
   "outputs": [
    {
     "name": "stdout",
     "output_type": "stream",
     "text": [
      "Пропущенные значения:  0\n"
     ]
    }
   ],
   "source": [
    "print('Пропущенные значения: ', data.isnull().sum().sum())"
   ]
  },
  {
   "attachments": {},
   "cell_type": "markdown",
   "metadata": {},
   "source": [
    "Пропущенных значений нет.\n",
    "\n",
    "Данные уже закодированы и нормализованы, поэтому сразу перейдем к построению моделей."
   ]
  },
  {
   "attachments": {},
   "cell_type": "markdown",
   "metadata": {},
   "source": [
    "### Оптимизация гиперпараметров модели"
   ]
  },
  {
   "cell_type": "code",
   "execution_count": 5,
   "metadata": {},
   "outputs": [],
   "source": [
    "X = data.drop(['Activity'], axis=1)\n",
    "y = data['Activity']\n",
    "\n",
    "X_train, X_test, y_train, y_test = train_test_split(X, y, stratify=y, random_state = 1, test_size = 0.2)"
   ]
  },
  {
   "attachments": {},
   "cell_type": "markdown",
   "metadata": {},
   "source": [
    "#### **Логистическая регрессия**\n",
    "\n",
    "Зафиксируем метрики, которые были получены без дополнительной настройки, т.е со значениями гиперпараметров, установленных по умолчанию:"
   ]
  },
  {
   "cell_type": "code",
   "execution_count": 129,
   "metadata": {},
   "outputs": [
    {
     "name": "stdout",
     "output_type": "stream",
     "text": [
      "f1_score на тестовом наборе: 0.79\n"
     ]
    }
   ],
   "source": [
    "#Создаем объект класса логистическая регрессия\n",
    "log_reg = linear_model.LogisticRegression(random_state=42, max_iter = 50)\n",
    "#Обучаем модель, минимизируя logloss\n",
    "log_reg.fit(X_train, y_train)\n",
    "y_test_pred = log_reg.predict(X_test)\n",
    "print('f1_score на тестовом наборе: {:.2f}'.format(metrics.f1_score(y_test, y_test_pred)))"
   ]
  },
  {
   "attachments": {},
   "cell_type": "markdown",
   "metadata": {},
   "source": [
    "Сравним результаты разных типов оптимизации"
   ]
  },
  {
   "attachments": {},
   "cell_type": "markdown",
   "metadata": {},
   "source": [
    "**1. GridSearchCV**"
   ]
  },
  {
   "cell_type": "code",
   "execution_count": 131,
   "metadata": {},
   "outputs": [],
   "source": [
    "param_grid = [\n",
    "    {\n",
    "        'penalty': ['l2', 'none'] , # тип регуляризации\n",
    "        'solver': ['lbfgs', 'sag'], # алгоритм оптимизации\n",
    "        'C': list(np.linspace(0.01, 1, 20, dtype=float))\n",
    "    },    \n",
    "    {\n",
    "        'penalty': ['l1', 'l2'] ,\n",
    "        'solver': ['liblinear', 'saga'],\n",
    "        'C': list(np.linspace(0.01, 1, 20, dtype=float))\n",
    "    },\n",
    "]"
   ]
  },
  {
   "cell_type": "code",
   "execution_count": 134,
   "metadata": {},
   "outputs": [
    {
     "name": "stdout",
     "output_type": "stream",
     "text": [
      "f1_score на тестовом наборе: 0.80\n",
      "Наилучшие значения гиперпараметров: {'C': 0.01, 'penalty': 'l2', 'solver': 'sag'}\n"
     ]
    }
   ],
   "source": [
    "grid_search = GridSearchCV(\n",
    "    estimator=linear_model.LogisticRegression(\n",
    "        random_state=42, #генератор случайных чисел\n",
    "        max_iter=50 #количество итераций на сходимость\n",
    "    ), \n",
    "    param_grid=param_grid, \n",
    "    scoring='f1',\n",
    "    cv=10, \n",
    "    n_jobs = -1\n",
    ")  \n",
    "grid_search.fit(X_train, y_train) \n",
    "print(\"f1_score на тестовом наборе: {:.2f}\".format(grid_search.score(X_test, y_test)))\n",
    "print(\"Наилучшие значения гиперпараметров: {}\".format(grid_search.best_params_))"
   ]
  },
  {
   "attachments": {},
   "cell_type": "markdown",
   "metadata": {},
   "source": [
    "Удалось незначительно улучшить значение метрики."
   ]
  },
  {
   "cell_type": "code",
   "execution_count": 135,
   "metadata": {},
   "outputs": [
    {
     "data": {
      "image/png": "[encoded data removed]",
      "text/plain": [
       "<Figure size 1200x800 with 2 Axes>"
      ]
     },
     "metadata": {},
     "output_type": "display_data"
    }
   ],
   "source": [
    "# отрисуем, как менялась точность при различных гиперпараметрах\n",
    "visual = pd.pivot_table(pd.DataFrame(grid_search.cv_results_),\n",
    "                        values='mean_test_score', index='param_C',\n",
    "                        columns=['param_penalty', 'param_solver'])\n",
    "sns.heatmap(visual)\n",
    "plt.title('Тепловая карта зависимости метрики accuracy от solver и С') # подпись графика\n",
    "sns.set(rc={'figure.figsize':(12, 8)}) #задаем размер графика"
   ]
  },
  {
   "attachments": {},
   "cell_type": "markdown",
   "metadata": {},
   "source": [
    "Видим, что лучшие результаты показывают модели с невысоким значением силы регуляризации и l1/l2-регуляризацией.\n",
    "\n",
    "При дальнейшем подборе параметров можно использовать эту информацию. "
   ]
  },
  {
   "cell_type": "code",
   "execution_count": 136,
   "metadata": {},
   "outputs": [],
   "source": [
    "param_grid_2 = [\n",
    "    {\n",
    "        'penalty': ['l2'] , # тип регуляризации\n",
    "        'solver': ['lbfgs', 'sag', 'liblinear', 'saga'], # алгоритм оптимизации\n",
    "        'C': list(np.linspace(0.01, 0.5, 20, dtype=float))\n",
    "    }\n",
    "]"
   ]
  },
  {
   "cell_type": "code",
   "execution_count": 137,
   "metadata": {},
   "outputs": [
    {
     "name": "stdout",
     "output_type": "stream",
     "text": [
      "f1_score на тестовом наборе: 0.80\n",
      "Наилучшие значения гиперпараметров: {'C': 0.035789473684210524, 'penalty': 'l2', 'solver': 'saga'}\n"
     ]
    }
   ],
   "source": [
    "grid_search = GridSearchCV(\n",
    "    estimator=linear_model.LogisticRegression(\n",
    "        random_state=42, #генератор случайных чисел\n",
    "        max_iter=50 #количество итераций на сходимость\n",
    "    ), \n",
    "    param_grid=param_grid_2, \n",
    "    scoring='f1',\n",
    "    cv=10, \n",
    "    n_jobs = -1\n",
    ")  \n",
    "grid_search.fit(X_train, y_train) \n",
    "print(\"f1_score на тестовом наборе: {:.2f}\".format(grid_search.score(X_test, y_test)))\n",
    "print(\"Наилучшие значения гиперпараметров: {}\".format(grid_search.best_params_))"
   ]
  },
  {
   "attachments": {},
   "cell_type": "markdown",
   "metadata": {},
   "source": [
    "Сильнее улучшить метрику не удалось. В целом, метрика увеличилась на 0.1. Но для этого пришлось подбирать параметры вручную"
   ]
  },
  {
   "attachments": {},
   "cell_type": "markdown",
   "metadata": {},
   "source": [
    "**2. RandomizedSearchCV**"
   ]
  },
  {
   "attachments": {},
   "cell_type": "markdown",
   "metadata": {},
   "source": [
    "Попробуем использовать оптимизатор RandomizedSearchCV"
   ]
  },
  {
   "cell_type": "code",
   "execution_count": 145,
   "metadata": {},
   "outputs": [],
   "source": [
    "param_distributions_l1 = {\n",
    "    'penalty': ['l1'] ,\n",
    "    'solver': ['liblinear', 'saga'],\n",
    "    'C': list(np.linspace(0.01, 0.5, 20, dtype=float))\n",
    "} \n",
    "param_distributions_l2 = {\n",
    "    'penalty': ['l2'] , # тип регуляризации\n",
    "    'solver': ['lbfgs', 'sag', 'liblinear', 'saga'], # алгоритм оптимизации\n",
    "    'C': list(np.linspace(0.01, 0.5, 20, dtype=float))\n",
    "} "
   ]
  },
  {
   "cell_type": "code",
   "execution_count": 146,
   "metadata": {},
   "outputs": [
    {
     "name": "stdout",
     "output_type": "stream",
     "text": [
      "f1_score на тестовом наборе: 0.79\n",
      "Наилучшие значения гиперпараметров: {'solver': 'saga', 'penalty': 'l1', 'C': 0.21842105263157896}\n"
     ]
    }
   ],
   "source": [
    "random_search = RandomizedSearchCV(\n",
    "    estimator=linear_model.LogisticRegression(random_state=42, max_iter=50), \n",
    "    param_distributions=param_distributions_l1, \n",
    "    cv=10, \n",
    "    scoring='f1',\n",
    "    n_iter = 20, \n",
    "    # n_jobs = -1\n",
    ")  \n",
    "random_search.fit(X_train, y_train) \n",
    "print(\"f1_score на тестовом наборе: {:.2f}\".format(random_search.score(X_test, y_test)))\n",
    "print(\"Наилучшие значения гиперпараметров: {}\".format(random_search.best_params_))"
   ]
  },
  {
   "cell_type": "code",
   "execution_count": 148,
   "metadata": {},
   "outputs": [
    {
     "name": "stdout",
     "output_type": "stream",
     "text": [
      "f1_score на тестовом наборе: 0.78\n",
      "Наилучшие значения гиперпараметров: {'solver': 'saga', 'penalty': 'l2', 'C': 0.32263157894736844}\n"
     ]
    }
   ],
   "source": [
    "random_search = RandomizedSearchCV(\n",
    "    estimator=linear_model.LogisticRegression(random_state=42, max_iter=50), \n",
    "    param_distributions=param_distributions_l2, \n",
    "    cv=10, \n",
    "    scoring='f1',\n",
    "    n_iter = 20, \n",
    "    # n_jobs = -1\n",
    ")  \n",
    "random_search.fit(X_train, y_train) \n",
    "print(\"f1_score на тестовом наборе: {:.2f}\".format(random_search.score(X_test, y_test)))\n",
    "print(\"Наилучшие значения гиперпараметров: {}\".format(random_search.best_params_))"
   ]
  },
  {
   "attachments": {},
   "cell_type": "markdown",
   "metadata": {},
   "source": [
    "Оптимизатор отработал быстрее. Но метрика f1-score не улучшилась"
   ]
  },
  {
   "attachments": {},
   "cell_type": "markdown",
   "metadata": {},
   "source": [
    "**3. Hyperopt**"
   ]
  },
  {
   "cell_type": "code",
   "execution_count": 178,
   "metadata": {},
   "outputs": [],
   "source": [
    "# зафксируем random_state\n",
    "random_state = 42\n",
    "def hyperopt_lr(params, cv=10, X=X_train, y=y_train, random_state=random_state):\n",
    "    # функция получает комбинацию гиперпараметров в \"params\"\n",
    "    params = {\n",
    "        'penalty': params['penalty'], \n",
    "        'solver': params['solver'], \n",
    "        'C': params['C'],\n",
    "        # 'max_iter': int(params['max_iter'])\n",
    "    }\n",
    "    if params['C']==0:\n",
    "        return 0\n",
    "    # зададим пространство поиска гиперпараметров\n",
    "  \n",
    "    # используем эту комбинацию для построения модели\n",
    "    model = linear_model.LogisticRegression(**params, max_iter=50, random_state=random_state)\n",
    "\n",
    "    # обучаем модель\n",
    "    model.fit(X, y)\n",
    "    \n",
    "    # if cross_validate:\n",
    "    #     score = cross_val_score(model, X, y, cv=cv, scoring=\"f1\", n_jobs=-1).mean()\n",
    "    # else:\n",
    "    #     score = metrics.f1_score(y, model.predict(X))\n",
    "    score = cross_val_score(model, X, y, cv=cv, scoring=\"f1\", n_jobs=-1).mean()\n",
    "    \n",
    "\n",
    "    # метрику необходимо минимизировать, поэтому ставим знак минус\n",
    "    return -score"
   ]
  },
  {
   "attachments": {},
   "cell_type": "markdown",
   "metadata": {},
   "source": [
    "Нам потребуется несколько пространств гиперпараметров"
   ]
  },
  {
   "cell_type": "code",
   "execution_count": 188,
   "metadata": {},
   "outputs": [],
   "source": [
    "penalty_l1 = ['l1']\n",
    "solver_l1 = ['liblinear', 'saga']\n",
    "space_l1 = {\n",
    "    'penalty': hp.choice('penalty', penalty_l1), # тип регуляризации\n",
    "    'solver': hp.choice('solver', solver_l1), # алгоритм оптимизации\n",
    "    'C': hp.quniform('C', 0.01, 0.5, 0.01),\n",
    "    # 'max_iter': hp.quniform('max_iter', 10, 50, 5)\n",
    "}\n",
    "\n",
    "penalty_l2 = ['l2']\n",
    "solver_l2 = ['lbfgs', 'sag', 'liblinear', 'saga']\n",
    "space_l2 = {\n",
    "    'penalty': hp.choice('penalty', penalty_l2), # тип регуляризации\n",
    "    'solver': hp.choice('solver', solver_l2), # алгоритм оптимизации\n",
    "    'C': hp.quniform('C', 0.01, 0.5, 0.01),\n",
    "    # 'max_iter': hp.quniform('max_iter', 10, 50, 5)\n",
    "}"
   ]
  },
  {
   "cell_type": "code",
   "execution_count": 181,
   "metadata": {},
   "outputs": [
    {
     "name": "stdout",
     "output_type": "stream",
     "text": [
      "100%|██████████| 20/20 [08:24<00:00, 25.20s/trial, best loss: -0.7814251316350409]\n",
      "Наилучшие значения гиперпараметров {'C': 0.25, 'penalty': 0, 'solver': 1}\n",
      "f1_score на тестовом наборе: 0.78\n"
     ]
    }
   ],
   "source": [
    "# начинаем подбор гиперпараметров\n",
    "trials = Trials() # используется для логирования результатов\n",
    "\n",
    "best=fmin(\n",
    "    hyperopt_lr, # наша функция \n",
    "    space=space_l1, # пространство гиперпараметров\n",
    "    algo=tpe.suggest, # алгоритм оптимизации, установлен по умолчанию, задавать необязательно\n",
    "    max_evals=20, # максимальное количество итераций\n",
    "    trials=trials, # логирование результатов\n",
    "    rstate=np.random.default_rng(random_state)# фиксируем для повторяемости результата\n",
    ")\n",
    "print(\"Наилучшие значения гиперпараметров {}\".format(best))\n",
    "\n",
    "# рассчитаем точность для тестовой выборки\n",
    "model = linear_model.LogisticRegression(\n",
    "    random_state=random_state, \n",
    "    penalty=penalty_l1[best['penalty']],\n",
    "    solver=solver_l1[best['solver']],\n",
    "    C=best['C'],\n",
    "    # max_iter=int(best['max_iter'])\n",
    "    max_iter=50\n",
    ")\n",
    "model.fit(X_train, y_train)\n",
    "y_test_pred = model.predict(X_test)\n",
    "print('f1_score на тестовом наборе: {:.2f}'.format(metrics.f1_score(y_test, y_test_pred)))"
   ]
  },
  {
   "cell_type": "code",
   "execution_count": 183,
   "metadata": {},
   "outputs": [
    {
     "name": "stdout",
     "output_type": "stream",
     "text": [
      "40trial [00:00, ?trial/s, best loss=?]\n",
      "Наилучшие значения гиперпараметров {'C': 0.16, 'penalty': 0, 'solver': 1}\n",
      "f1_score на тестовом наборе: 0.79\n"
     ]
    }
   ],
   "source": [
    "best=fmin(\n",
    "    hyperopt_lr, # наша функция \n",
    "    space=space_l1, # пространство гиперпараметров\n",
    "    algo=tpe.suggest, # алгоритм оптимизации, установлен по умолчанию, задавать необязательно\n",
    "    max_evals=30, # максимальное количество итераций\n",
    "    trials=trials, # логирование результатов\n",
    "    rstate=np.random.default_rng(random_state)# фиксируем для повторяемости результата\n",
    ")\n",
    "print(\"Наилучшие значения гиперпараметров {}\".format(best))\n",
    "\n",
    "# рассчитаем точность для тестовой выборки\n",
    "model = linear_model.LogisticRegression(\n",
    "    random_state=random_state, \n",
    "    penalty=penalty_l1[best['penalty']],\n",
    "    solver=solver_l1[best['solver']],\n",
    "    C=best['C'],\n",
    "    # max_iter=int(best['max_iter'])\n",
    "    max_iter=50\n",
    ")\n",
    "model.fit(X_train, y_train)\n",
    "y_test_pred = model.predict(X_test)\n",
    "print('f1_score на тестовом наборе: {:.2f}'.format(metrics.f1_score(y_test, y_test_pred)))"
   ]
  },
  {
   "attachments": {},
   "cell_type": "markdown",
   "metadata": {},
   "source": [
    "Улучшить метрику с помощью первого набора параметров не удалось"
   ]
  },
  {
   "cell_type": "code",
   "execution_count": 187,
   "metadata": {},
   "outputs": [
    {
     "name": "stdout",
     "output_type": "stream",
     "text": [
      "100%|██████████| 20/20 [05:02<00:00, 15.12s/trial, best loss: -0.7855646326818487]\n",
      "Наилучшие значения гиперпараметров {'C': 0.03, 'penalty': 0, 'solver': 0}\n",
      "f1_score на тестовом наборе: 0.79\n"
     ]
    }
   ],
   "source": [
    "# начинаем подбор гиперпараметров\n",
    "trials = Trials() # используется для логирования результатов\n",
    "\n",
    "best=fmin(\n",
    "    hyperopt_lr, # наша функция \n",
    "    space=space_l2, # пространство гиперпараметров\n",
    "    algo=tpe.suggest, # алгоритм оптимизации, установлен по умолчанию, задавать необязательно\n",
    "    max_evals=20, # максимальное количество итераций\n",
    "    trials=trials, # логирование результатов\n",
    "    rstate=np.random.default_rng(random_state)# фиксируем для повторяемости результата\n",
    ")\n",
    "print(\"Наилучшие значения гиперпараметров {}\".format(best))\n",
    "\n",
    "# рассчитаем точность для тестовой выборки\n",
    "model = linear_model.LogisticRegression(\n",
    "    max_iter=50,\n",
    "    random_state=random_state, \n",
    "    penalty=penalty_l2[best['penalty']],\n",
    "    solver=solver_l2[best['solver']],\n",
    "    C=best['C']\n",
    ")\n",
    "model.fit(X_train, y_train)\n",
    "y_test_pred = model.predict(X_test)\n",
    "print('f1_score на тестовом наборе: {:.2f}'.format(metrics.f1_score(y_test, y_test_pred)))"
   ]
  },
  {
   "cell_type": "code",
   "execution_count": 189,
   "metadata": {},
   "outputs": [
    {
     "name": "stdout",
     "output_type": "stream",
     "text": [
      "100%|██████████| 30/30 [01:42<00:00, 10.24s/trial, best loss: -0.7858668594512256]\n",
      "Наилучшие значения гиперпараметров {'C': 0.03, 'penalty': 0, 'solver': 2}\n",
      "f1_score на тестовом наборе: 0.79\n"
     ]
    }
   ],
   "source": [
    "best=fmin(hyperopt_lr, # наша функция \n",
    "          space=space_l2, # пространство гиперпараметров\n",
    "          algo=tpe.suggest, # алгоритм оптимизации, установлен по умолчанию, задавать необязательно\n",
    "          max_evals=30, # максимальное количество итераций\n",
    "          trials=trials, # логирование результатов\n",
    "          rstate=np.random.default_rng(random_state)# фиксируем для повторяемости результата\n",
    "         )\n",
    "print(\"Наилучшие значения гиперпараметров {}\".format(best))\n",
    "\n",
    "# рассчитаем точность для тестовой выборки\n",
    "model = linear_model.LogisticRegression(\n",
    "    max_iter=50,\n",
    "    random_state=random_state, \n",
    "    penalty=penalty_l2[best['penalty']],\n",
    "    solver=solver_l2[best['solver']],\n",
    "    C=best['C']\n",
    ")\n",
    "model.fit(X_train, y_train)\n",
    "y_test_pred = model.predict(X_test)\n",
    "print('f1_score на тестовом наборе: {:.2f}'.format(metrics.f1_score(y_test, y_test_pred)))"
   ]
  },
  {
   "attachments": {},
   "cell_type": "markdown",
   "metadata": {},
   "source": [
    "Метрика осталась прежней."
   ]
  },
  {
   "attachments": {},
   "cell_type": "markdown",
   "metadata": {},
   "source": [
    "**4. Optuna**"
   ]
  },
  {
   "cell_type": "code",
   "execution_count": 196,
   "metadata": {},
   "outputs": [],
   "source": [
    "def optuna_lr_l1(trial):\n",
    "  # задаем пространства поиска гиперпараметров \n",
    "  params = {\n",
    "    'penalty': trial.suggest_categorical('penalty', ['l1']), # тип регуляризации\n",
    "    'solver': trial.suggest_categorical('solver', ['liblinear', 'saga']), # алгоритм оптимизации\n",
    "    'C': trial.suggest_float('C', 0.01, 0.5, step=0.01)\n",
    "  }\n",
    "\n",
    "  # создаем модель\n",
    "  model = linear_model.LogisticRegression(**params, max_iter=50, random_state=random_state)\n",
    "  \n",
    "  # обучаем модель\n",
    "  model.fit(X_train, y_train)\n",
    "  # score = metrics.f1_score(y_train, model.predict(X_train))\n",
    "  score = cross_val_score(model, X_train, y_train, cv=10, scoring=\"f1\", n_jobs=-1).mean()\n",
    "\n",
    "  return score"
   ]
  },
  {
   "cell_type": "code",
   "execution_count": 202,
   "metadata": {},
   "outputs": [],
   "source": [
    "def optuna_lr_l2(trial):\n",
    "  # задаем пространства поиска гиперпараметров \n",
    "  params = {\n",
    "    'penalty': trial.suggest_categorical('penalty', ['l2']), # тип регуляризации\n",
    "    'solver': trial.suggest_categorical('solver', ['lbfgs', 'sag', 'liblinear', 'saga']), # алгоритм оптимизации\n",
    "    'C': trial.suggest_float('C', 0.01, 0.5, step=0.01)\n",
    "  }\n",
    "\n",
    "  # создаем модель\n",
    "  model = linear_model.LogisticRegression(**params, max_iter=50, random_state=random_state)\n",
    "  \n",
    "  # обучаем модель\n",
    "  model.fit(X_train, y_train)\n",
    "  # score = metrics.f1_score(y_train, model.predict(X_train))\n",
    "  score = cross_val_score(model, X_train, y_train, cv=10, scoring=\"f1\", n_jobs=-1).mean()\n",
    "\n",
    "  return score"
   ]
  },
  {
   "cell_type": "code",
   "execution_count": 197,
   "metadata": {},
   "outputs": [
    {
     "name": "stderr",
     "output_type": "stream",
     "text": [
      "\u001b[32m[I 2023-05-02 11:22:43,119]\u001b[0m A new study created in memory with name: LogisticRegression\u001b[0m\n",
      "\u001b[32m[I 2023-05-02 11:22:51,705]\u001b[0m Trial 0 finished with value: 0.7800849302336168 and parameters: {'penalty': 'l1', 'solver': 'liblinear', 'C': 0.34}. Best is trial 0 with value: 0.7800849302336168.\u001b[0m\n",
      "\u001b[32m[I 2023-05-02 11:23:32,629]\u001b[0m Trial 1 finished with value: 0.7819323965217131 and parameters: {'penalty': 'l1', 'solver': 'saga', 'C': 0.22}. Best is trial 1 with value: 0.7819323965217131.\u001b[0m\n",
      "\u001b[32m[I 2023-05-02 11:24:18,800]\u001b[0m Trial 2 finished with value: 0.7778587106357864 and parameters: {'penalty': 'l1', 'solver': 'saga', 'C': 0.37}. Best is trial 1 with value: 0.7819323965217131.\u001b[0m\n",
      "\u001b[32m[I 2023-05-02 11:24:58,562]\u001b[0m Trial 3 finished with value: 0.7734015745029797 and parameters: {'penalty': 'l1', 'solver': 'saga', 'C': 0.08}. Best is trial 1 with value: 0.7819323965217131.\u001b[0m\n",
      "\u001b[32m[I 2023-05-02 11:25:04,774]\u001b[0m Trial 4 finished with value: 0.779325744030897 and parameters: {'penalty': 'l1', 'solver': 'liblinear', 'C': 0.5}. Best is trial 1 with value: 0.7819323965217131.\u001b[0m\n",
      "\u001b[32m[I 2023-05-02 11:25:48,907]\u001b[0m Trial 5 finished with value: 0.7696946870831807 and parameters: {'penalty': 'l1', 'solver': 'saga', 'C': 0.060000000000000005}. Best is trial 1 with value: 0.7819323965217131.\u001b[0m\n",
      "\u001b[32m[I 2023-05-02 11:25:51,371]\u001b[0m Trial 6 finished with value: 0.7673212415971429 and parameters: {'penalty': 'l1', 'solver': 'liblinear', 'C': 0.05}. Best is trial 1 with value: 0.7819323965217131.\u001b[0m\n",
      "\u001b[32m[I 2023-05-02 11:26:47,943]\u001b[0m Trial 7 finished with value: 0.7804671791311054 and parameters: {'penalty': 'l1', 'solver': 'saga', 'C': 0.44}. Best is trial 1 with value: 0.7819323965217131.\u001b[0m\n",
      "\u001b[32m[I 2023-05-02 11:26:53,776]\u001b[0m Trial 8 finished with value: 0.7782965460287399 and parameters: {'penalty': 'l1', 'solver': 'liblinear', 'C': 0.44}. Best is trial 1 with value: 0.7819323965217131.\u001b[0m\n",
      "\u001b[32m[I 2023-05-02 11:26:59,699]\u001b[0m Trial 9 finished with value: 0.7797997372628304 and parameters: {'penalty': 'l1', 'solver': 'liblinear', 'C': 0.47000000000000003}. Best is trial 1 with value: 0.7819323965217131.\u001b[0m\n",
      "\u001b[32m[I 2023-05-02 11:27:44,388]\u001b[0m Trial 10 finished with value: 0.7780244909603407 and parameters: {'penalty': 'l1', 'solver': 'saga', 'C': 0.19}. Best is trial 1 with value: 0.7819323965217131.\u001b[0m\n",
      "\u001b[32m[I 2023-05-02 11:28:23,480]\u001b[0m Trial 11 finished with value: 0.7814553673704594 and parameters: {'penalty': 'l1', 'solver': 'saga', 'C': 0.23}. Best is trial 1 with value: 0.7819323965217131.\u001b[0m\n",
      "\u001b[32m[I 2023-05-02 11:29:01,244]\u001b[0m Trial 12 finished with value: 0.7805354205669477 and parameters: {'penalty': 'l1', 'solver': 'saga', 'C': 0.21000000000000002}. Best is trial 1 with value: 0.7819323965217131.\u001b[0m\n",
      "\u001b[32m[I 2023-05-02 11:29:38,815]\u001b[0m Trial 13 finished with value: 0.781402007727405 and parameters: {'penalty': 'l1', 'solver': 'saga', 'C': 0.28}. Best is trial 1 with value: 0.7819323965217131.\u001b[0m\n",
      "\u001b[32m[I 2023-05-02 11:30:15,201]\u001b[0m Trial 14 finished with value: 0.7831362735865233 and parameters: {'penalty': 'l1', 'solver': 'saga', 'C': 0.14}. Best is trial 14 with value: 0.7831362735865233.\u001b[0m\n",
      "\u001b[32m[I 2023-05-02 11:30:56,087]\u001b[0m Trial 15 finished with value: 0.7831362735865233 and parameters: {'penalty': 'l1', 'solver': 'saga', 'C': 0.14}. Best is trial 14 with value: 0.7831362735865233.\u001b[0m\n",
      "\u001b[32m[I 2023-05-02 11:31:31,234]\u001b[0m Trial 16 finished with value: 0.7822408050709436 and parameters: {'penalty': 'l1', 'solver': 'saga', 'C': 0.13}. Best is trial 14 with value: 0.7831362735865233.\u001b[0m\n",
      "\u001b[32m[I 2023-05-02 11:32:06,810]\u001b[0m Trial 17 finished with value: 0.7822408050709436 and parameters: {'penalty': 'l1', 'solver': 'saga', 'C': 0.13}. Best is trial 14 with value: 0.7831362735865233.\u001b[0m\n",
      "\u001b[32m[I 2023-05-02 11:32:43,151]\u001b[0m Trial 18 finished with value: 0.7823066047560557 and parameters: {'penalty': 'l1', 'solver': 'saga', 'C': 0.15000000000000002}. Best is trial 14 with value: 0.7831362735865233.\u001b[0m\n",
      "\u001b[32m[I 2023-05-02 11:32:55,978]\u001b[0m Trial 19 finished with value: 0.7512748696485084 and parameters: {'penalty': 'l1', 'solver': 'saga', 'C': 0.01}. Best is trial 14 with value: 0.7831362735865233.\u001b[0m\n"
     ]
    },
    {
     "name": "stdout",
     "output_type": "stream",
     "text": [
      "CPU times: total: 1min 45s\n",
      "Wall time: 10min 12s\n"
     ]
    }
   ],
   "source": [
    "%%time\n",
    "# cоздаем объект исследования\n",
    "# можем напрямую указать, что нам необходимо максимизировать метрику direction=\"maximize\"\n",
    "study = optuna.create_study(study_name=\"LogisticRegression\", direction=\"maximize\")\n",
    "# ищем лучшую комбинацию гиперпараметров n_trials раз\n",
    "study.optimize(optuna_lr_l1, n_trials=20)"
   ]
  },
  {
   "cell_type": "code",
   "execution_count": 200,
   "metadata": {},
   "outputs": [
    {
     "name": "stdout",
     "output_type": "stream",
     "text": [
      "Наилучшие значения гиперпараметров {'penalty': 'l1', 'solver': 'saga', 'C': 0.14}\n",
      "f1_score на тестовом наборе: 0.79\n"
     ]
    }
   ],
   "source": [
    "# выводим результаты на обучающей выборке\n",
    "print(\"Наилучшие значения гиперпараметров {}\".format(study.best_params))\n",
    "# рассчитаем точность для тестовой выборки\n",
    "model = linear_model.LogisticRegression(**study.best_params,random_state=random_state, )\n",
    "model.fit(X_train, y_train)\n",
    "y_test_pred = model.predict(X_test)\n",
    "print('f1_score на тестовом наборе: {:.2f}'.format(metrics.f1_score(y_test, y_test_pred)))"
   ]
  },
  {
   "cell_type": "code",
   "execution_count": 203,
   "metadata": {},
   "outputs": [
    {
     "name": "stderr",
     "output_type": "stream",
     "text": [
      "\u001b[32m[I 2023-05-02 11:40:35,019]\u001b[0m A new study created in memory with name: LogisticRegression\u001b[0m\n",
      "\u001b[32m[I 2023-05-02 11:40:45,794]\u001b[0m Trial 0 finished with value: 0.7816276140148152 and parameters: {'penalty': 'l2', 'solver': 'lbfgs', 'C': 0.21000000000000002}. Best is trial 0 with value: 0.7816276140148152.\u001b[0m\n",
      "\u001b[32m[I 2023-05-02 11:41:16,026]\u001b[0m Trial 1 finished with value: 0.7832474532886933 and parameters: {'penalty': 'l2', 'solver': 'saga', 'C': 0.33}. Best is trial 1 with value: 0.7832474532886933.\u001b[0m\n",
      "\u001b[32m[I 2023-05-02 11:41:19,650]\u001b[0m Trial 2 finished with value: 0.7852531080473143 and parameters: {'penalty': 'l2', 'solver': 'liblinear', 'C': 0.06999999999999999}. Best is trial 2 with value: 0.7852531080473143.\u001b[0m\n",
      "\u001b[32m[I 2023-05-02 11:41:46,924]\u001b[0m Trial 3 finished with value: 0.7816571323388104 and parameters: {'penalty': 'l2', 'solver': 'sag', 'C': 0.15000000000000002}. Best is trial 2 with value: 0.7852531080473143.\u001b[0m\n",
      "\u001b[32m[I 2023-05-02 11:42:14,232]\u001b[0m Trial 4 finished with value: 0.7812590380683182 and parameters: {'penalty': 'l2', 'solver': 'sag', 'C': 0.25}. Best is trial 2 with value: 0.7852531080473143.\u001b[0m\n",
      "\u001b[32m[I 2023-05-02 11:42:19,222]\u001b[0m Trial 5 finished with value: 0.7742618161595668 and parameters: {'penalty': 'l2', 'solver': 'liblinear', 'C': 0.47000000000000003}. Best is trial 2 with value: 0.7852531080473143.\u001b[0m\n",
      "\u001b[32m[I 2023-05-02 11:42:24,984]\u001b[0m Trial 6 finished with value: 0.7846514418044622 and parameters: {'penalty': 'l2', 'solver': 'lbfgs', 'C': 0.04}. Best is trial 2 with value: 0.7852531080473143.\u001b[0m\n",
      "\u001b[32m[I 2023-05-02 11:42:29,949]\u001b[0m Trial 7 finished with value: 0.7742618161595668 and parameters: {'penalty': 'l2', 'solver': 'liblinear', 'C': 0.47000000000000003}. Best is trial 2 with value: 0.7852531080473143.\u001b[0m\n",
      "\u001b[32m[I 2023-05-02 11:42:57,586]\u001b[0m Trial 8 finished with value: 0.783546652884984 and parameters: {'penalty': 'l2', 'solver': 'sag', 'C': 0.19}. Best is trial 2 with value: 0.7852531080473143.\u001b[0m\n",
      "\u001b[32m[I 2023-05-02 11:43:03,150]\u001b[0m Trial 9 finished with value: 0.7826042056121895 and parameters: {'penalty': 'l2', 'solver': 'lbfgs', 'C': 0.16}. Best is trial 2 with value: 0.7852531080473143.\u001b[0m\n",
      "\u001b[32m[I 2023-05-02 11:43:06,505]\u001b[0m Trial 10 finished with value: 0.7848632314979309 and parameters: {'penalty': 'l2', 'solver': 'liblinear', 'C': 0.04}. Best is trial 2 with value: 0.7852531080473143.\u001b[0m\n",
      "\u001b[32m[I 2023-05-02 11:43:09,625]\u001b[0m Trial 11 finished with value: 0.7848081117787264 and parameters: {'penalty': 'l2', 'solver': 'liblinear', 'C': 0.02}. Best is trial 2 with value: 0.7852531080473143.\u001b[0m\n",
      "\u001b[32m[I 2023-05-02 11:43:13,545]\u001b[0m Trial 12 finished with value: 0.7849431213567389 and parameters: {'penalty': 'l2', 'solver': 'liblinear', 'C': 0.09}. Best is trial 2 with value: 0.7852531080473143.\u001b[0m\n",
      "\u001b[32m[I 2023-05-02 11:43:17,542]\u001b[0m Trial 13 finished with value: 0.7847219576816133 and parameters: {'penalty': 'l2', 'solver': 'liblinear', 'C': 0.09999999999999999}. Best is trial 2 with value: 0.7852531080473143.\u001b[0m\n",
      "\u001b[32m[I 2023-05-02 11:43:46,671]\u001b[0m Trial 14 finished with value: 0.7831041845885048 and parameters: {'penalty': 'l2', 'solver': 'saga', 'C': 0.34}. Best is trial 2 with value: 0.7852531080473143.\u001b[0m\n",
      "\u001b[32m[I 2023-05-02 11:43:50,612]\u001b[0m Trial 15 finished with value: 0.7849431213567389 and parameters: {'penalty': 'l2', 'solver': 'liblinear', 'C': 0.09}. Best is trial 2 with value: 0.7852531080473143.\u001b[0m\n",
      "\u001b[32m[I 2023-05-02 11:43:54,648]\u001b[0m Trial 16 finished with value: 0.7847219576816133 and parameters: {'penalty': 'l2', 'solver': 'liblinear', 'C': 0.09999999999999999}. Best is trial 2 with value: 0.7852531080473143.\u001b[0m\n",
      "\u001b[32m[I 2023-05-02 11:43:59,399]\u001b[0m Trial 17 finished with value: 0.7756482608412607 and parameters: {'penalty': 'l2', 'solver': 'liblinear', 'C': 0.33}. Best is trial 2 with value: 0.7852531080473143.\u001b[0m\n",
      "\u001b[32m[I 2023-05-02 11:44:29,166]\u001b[0m Trial 18 finished with value: 0.7835909307174391 and parameters: {'penalty': 'l2', 'solver': 'saga', 'C': 0.12}. Best is trial 2 with value: 0.7852531080473143.\u001b[0m\n",
      "\u001b[32m[I 2023-05-02 11:44:33,791]\u001b[0m Trial 19 finished with value: 0.7801527882441307 and parameters: {'penalty': 'l2', 'solver': 'liblinear', 'C': 0.26}. Best is trial 2 with value: 0.7852531080473143.\u001b[0m\n"
     ]
    },
    {
     "name": "stdout",
     "output_type": "stream",
     "text": [
      "CPU times: total: 42.4 s\n",
      "Wall time: 3min 58s\n"
     ]
    }
   ],
   "source": [
    "%%time\n",
    "# cоздаем объект исследования\n",
    "# можем напрямую указать, что нам необходимо максимизировать метрику direction=\"maximize\"\n",
    "study = optuna.create_study(study_name=\"LogisticRegression\", direction=\"maximize\")\n",
    "# ищем лучшую комбинацию гиперпараметров n_trials раз\n",
    "study.optimize(optuna_lr_l2, n_trials=20)"
   ]
  },
  {
   "cell_type": "code",
   "execution_count": 204,
   "metadata": {},
   "outputs": [
    {
     "name": "stdout",
     "output_type": "stream",
     "text": [
      "Наилучшие значения гиперпараметров {'penalty': 'l2', 'solver': 'liblinear', 'C': 0.06999999999999999}\n",
      "f1_score на тестовом наборе: 0.80\n"
     ]
    }
   ],
   "source": [
    "# выводим результаты на обучающей выборке\n",
    "print(\"Наилучшие значения гиперпараметров {}\".format(study.best_params))\n",
    "# рассчитаем точность для тестовой выборки\n",
    "model = linear_model.LogisticRegression(**study.best_params,random_state=random_state, )\n",
    "model.fit(X_train, y_train)\n",
    "y_test_pred = model.predict(X_test)\n",
    "print('f1_score на тестовом наборе: {:.2f}'.format(metrics.f1_score(y_test, y_test_pred)))"
   ]
  },
  {
   "attachments": {},
   "cell_type": "markdown",
   "metadata": {},
   "source": [
    "Удалось улучшить метрику на 0.1. Т.о. параметры логистической регрессии по умолчанию являются одними из самых оптимальных, ни один из способов оптимизации не позволил существенно улучшить метрику."
   ]
  },
  {
   "attachments": {},
   "cell_type": "markdown",
   "metadata": {},
   "source": [
    "#### **Случайный лес**\n",
    "\n",
    "Зафиксируем метрики, которые были получены без дополнительной настройки, т.е со значениями гиперпараметров, установленных по умолчанию:"
   ]
  },
  {
   "cell_type": "code",
   "execution_count": 209,
   "metadata": {},
   "outputs": [
    {
     "name": "stdout",
     "output_type": "stream",
     "text": [
      "Test: 0.81\n"
     ]
    }
   ],
   "source": [
    "#Создаем объект класса случайный лес\n",
    "rf = ensemble.RandomForestClassifier(random_state=random_state)\n",
    "\n",
    "#Обучаем модель\n",
    "rf.fit(X_train, y_train)\n",
    "#Выводим значения метрики \n",
    "y_test_pred = rf.predict(X_test)\n",
    "print('Test: {:.2f}'.format(metrics.f1_score(y_test, y_test_pred)))"
   ]
  },
  {
   "attachments": {},
   "cell_type": "markdown",
   "metadata": {},
   "source": [
    "Случайный лес сразу показывает лучшие результаты, чем логистическая регрессия."
   ]
  },
  {
   "attachments": {},
   "cell_type": "markdown",
   "metadata": {},
   "source": [
    "Сравним результаты разных типов оптимизации"
   ]
  },
  {
   "attachments": {},
   "cell_type": "markdown",
   "metadata": {},
   "source": [
    "**1. GridSearchCV**"
   ]
  },
  {
   "cell_type": "code",
   "execution_count": 234,
   "metadata": {},
   "outputs": [
    {
     "name": "stdout",
     "output_type": "stream",
     "text": [
      "CPU times: total: 7.84 s\n",
      "Wall time: 15min 38s\n",
      "f1_score на тестовом наборе: 0.83\n",
      "Наилучшие значения гиперпараметров: {'max_depth': 15, 'min_samples_leaf': 5, 'n_estimators': 110}\n"
     ]
    }
   ],
   "source": [
    "param_grid = {\n",
    "    'n_estimators': list(range(80, 200, 10)),\n",
    "    'min_samples_leaf': [5],\n",
    "    'max_depth': list(np.linspace(10, 30, 5, dtype=int))\n",
    "}\n",
    "            \n",
    "grid_search_forest = GridSearchCV(\n",
    "    estimator=ensemble.RandomForestClassifier(random_state=random_state), \n",
    "    param_grid=param_grid, \n",
    "    cv=10, \n",
    "    scoring='f1',\n",
    "    n_jobs = -1\n",
    ")  \n",
    "%time grid_search_forest.fit(X_train, y_train) \n",
    "y_test_pred = grid_search_forest.predict(X_test)\n",
    "print('f1_score на тестовом наборе: {:.2f}'.format(metrics.f1_score(y_test, y_test_pred)))\n",
    "print(\"Наилучшие значения гиперпараметров: {}\".format(grid_search_forest.best_params_))"
   ]
  },
  {
   "cell_type": "code",
   "execution_count": 235,
   "metadata": {},
   "outputs": [
    {
     "data": {
      "image/png": "[encoded data removed]",
      "text/plain": [
       "<Figure size 1200x800 with 2 Axes>"
      ]
     },
     "metadata": {},
     "output_type": "display_data"
    }
   ],
   "source": [
    "# отрисуем, как менялась точность при различных гиперпараметрах\n",
    "visual = pd.pivot_table(pd.DataFrame(grid_search_forest.cv_results_),\n",
    "                        values='mean_test_score', index=['param_n_estimators'],\n",
    "                        columns=['param_max_depth'])\n",
    "sns.heatmap(visual)\n",
    "plt.title('Тепловая карта зависимости метрики accuracy от solver и С') # подпись графика\n",
    "sns.set(rc={'figure.figsize':(12, 8)}) #задаем размер графика"
   ]
  },
  {
   "attachments": {},
   "cell_type": "markdown",
   "metadata": {},
   "source": [
    "Удалось улучшить модель с помощью ручной сетки параметров.\n",
    "\n",
    "Дальнейшее уточнение параметров для GridSearchCV не принес лучших результатов"
   ]
  },
  {
   "attachments": {},
   "cell_type": "markdown",
   "metadata": {},
   "source": [
    "**2. RandomizedSearchCV**"
   ]
  },
  {
   "cell_type": "code",
   "execution_count": 245,
   "metadata": {},
   "outputs": [
    {
     "name": "stdout",
     "output_type": "stream",
     "text": [
      "CPU times: total: 5.06 s\n",
      "Wall time: 6min 4s\n",
      "f1_score на тестовом наборе: 0.82\n",
      "Наилучшие значения гиперпараметров: {'n_estimators': 125, 'min_samples_leaf': 5, 'max_depth': 13}\n"
     ]
    }
   ],
   "source": [
    "param_distributions = {\n",
    "    'n_estimators': list(np.linspace(100, 160, 13, dtype=int)),\n",
    "    'min_samples_leaf': [5],\n",
    "    'max_depth': list(np.linspace(10, 25, 5, dtype=int))\n",
    "}\n",
    "            \n",
    "random_search_forest = RandomizedSearchCV(\n",
    "    estimator=ensemble.RandomForestClassifier(random_state=random_state), \n",
    "    param_distributions=param_distributions, \n",
    "    cv=10,\n",
    "    scoring='f1',\n",
    "    n_iter = 30, \n",
    "    n_jobs = -1\n",
    ")  \n",
    "%time random_search_forest.fit(X_train, y_train) \n",
    "y_test_pred = random_search_forest.predict(X_test)\n",
    "print('f1_score на тестовом наборе: {:.2f}'.format(metrics.f1_score(y_test, y_test_pred)))\n",
    "print(\"Наилучшие значения гиперпараметров: {}\".format(random_search_forest.best_params_))"
   ]
  },
  {
   "attachments": {},
   "cell_type": "markdown",
   "metadata": {},
   "source": [
    "**3. Hyperopt**"
   ]
  },
  {
   "cell_type": "code",
   "execution_count": 247,
   "metadata": {},
   "outputs": [],
   "source": [
    "# зададим пространство поиска гиперпараметров\n",
    "space = {\n",
    "       'n_estimators': hp.quniform('n_estimators', 110, 160, 1),\n",
    "       'max_depth' : hp.quniform('max_depth', 11, 24, 1),\n",
    "       'min_samples_leaf': hp.quniform('min_samples_leaf', 5, 6, 1)\n",
    "}"
   ]
  },
  {
   "cell_type": "code",
   "execution_count": 248,
   "metadata": {},
   "outputs": [],
   "source": [
    "def hyperopt_rf(params, cv=10, X=X_train, y=y_train, random_state=random_state):\n",
    "    # функция получает комбинацию гиперпараметров в \"params\"\n",
    "    params = {\n",
    "        'n_estimators': int(params['n_estimators']), \n",
    "        'max_depth': int(params['max_depth']), \n",
    "        'min_samples_leaf': int(params['min_samples_leaf'])\n",
    "    }\n",
    "  \n",
    "    # используем эту комбинацию для построения модели\n",
    "    model = ensemble.RandomForestClassifier(**params, random_state=random_state)\n",
    "\n",
    "    # обучаем модель\n",
    "    model.fit(X, y)\n",
    "    score = cross_val_score(model, X, y, cv=cv, scoring=\"f1\", n_jobs=-1).mean()\n",
    "\n",
    "    # метрику необходимо минимизировать, поэтому ставим знак минус\n",
    "    return -score"
   ]
  },
  {
   "cell_type": "code",
   "execution_count": 251,
   "metadata": {},
   "outputs": [
    {
     "name": "stdout",
     "output_type": "stream",
     "text": [
      "100%|██████████| 20/20 [06:15<00:00, 18.77s/trial, best loss: -0.807903170418055] \n",
      "Наилучшие значения гиперпараметров {'max_depth': 16.0, 'min_samples_leaf': 5.0, 'n_estimators': 126.0}\n",
      "f1_score на тестовом наборе: 0.82\n"
     ]
    }
   ],
   "source": [
    "# начинаем подбор гиперпараметров\n",
    "trials = Trials() # используется для логирования результатов\n",
    "\n",
    "best=fmin(\n",
    "    hyperopt_rf, # наша функция \n",
    "    space=space, # пространство гиперпараметров\n",
    "    algo=tpe.suggest, # алгоритм оптимизации, установлен по умолчанию, задавать необязательно\n",
    "    max_evals=20, # максимальное количество итераций\n",
    "    trials=trials, # логирование результатов\n",
    "    rstate=np.random.default_rng(random_state)# фиксируем для повторяемости результата\n",
    ")\n",
    "print(\"Наилучшие значения гиперпараметров {}\".format(best))\n",
    "\n",
    "# рассчитаем точность для тестовой выборки\n",
    "model = ensemble.RandomForestClassifier(\n",
    "    random_state=random_state, \n",
    "    n_estimators=int(best['n_estimators']),\n",
    "    max_depth=int(best['max_depth']),\n",
    "    min_samples_leaf=int(best['min_samples_leaf'])\n",
    ")\n",
    "model.fit(X_train, y_train)\n",
    "y_test_pred = model.predict(X_test)\n",
    "print('f1_score на тестовом наборе: {:.2f}'.format(metrics.f1_score(y_test, y_test_pred)))"
   ]
  },
  {
   "cell_type": "code",
   "execution_count": 252,
   "metadata": {},
   "outputs": [
    {
     "name": "stdout",
     "output_type": "stream",
     "text": [
      "100%|██████████| 30/30 [02:53<00:00, 17.38s/trial, best loss: -0.807903170418055]\n",
      "Наилучшие значения гиперпараметров {'max_depth': 16.0, 'min_samples_leaf': 5.0, 'n_estimators': 126.0}\n",
      "f1_score на тестовом наборе: 0.82\n"
     ]
    }
   ],
   "source": [
    "best=fmin(\n",
    "    hyperopt_rf, # наша функция \n",
    "    space=space, # пространство гиперпараметров\n",
    "    algo=tpe.suggest, # алгоритм оптимизации, установлен по умолчанию, задавать необязательно\n",
    "    max_evals=30, # максимальное количество итераций\n",
    "    trials=trials, # логирование результатов\n",
    "    rstate=np.random.default_rng(random_state)# фиксируем для повторяемости результата\n",
    ")\n",
    "print(\"Наилучшие значения гиперпараметров {}\".format(best))\n",
    "\n",
    "# рассчитаем точность для тестовой выборки\n",
    "model = ensemble.RandomForestClassifier(\n",
    "    random_state=random_state, \n",
    "    n_estimators=int(best['n_estimators']),\n",
    "    max_depth=int(best['max_depth']),\n",
    "    min_samples_leaf=int(best['min_samples_leaf'])\n",
    ")\n",
    "model.fit(X_train, y_train)\n",
    "y_test_pred = model.predict(X_test)\n",
    "print('f1_score на тестовом наборе: {:.2f}'.format(metrics.f1_score(y_test, y_test_pred)))"
   ]
  },
  {
   "attachments": {},
   "cell_type": "markdown",
   "metadata": {},
   "source": [
    "Оптимизатор hyperport с заданным количеством итераций улучшил метрику хуже, чем GridSearchCV "
   ]
  },
  {
   "attachments": {},
   "cell_type": "markdown",
   "metadata": {},
   "source": [
    "**4. Optuna**"
   ]
  },
  {
   "cell_type": "code",
   "execution_count": 253,
   "metadata": {},
   "outputs": [],
   "source": [
    "def optuna_rf(trial):\n",
    "  # задаем пространства поиска гиперпараметров\n",
    "  n_estimators = trial.suggest_int('n_estimators', 110, 160, 1)\n",
    "  max_depth = trial.suggest_int('max_depth', 11, 24, 1)\n",
    "  min_samples_leaf = trial.suggest_int('min_samples_leaf', 5, 6, 1)\n",
    "\n",
    "  # создаем модель\n",
    "  model = ensemble.RandomForestClassifier(n_estimators=n_estimators,\n",
    "                                          max_depth=max_depth,\n",
    "                                          min_samples_leaf=min_samples_leaf,\n",
    "                                          random_state=random_state)\n",
    "  # обучаем модель\n",
    "  model.fit(X_train, y_train)\n",
    "  score = metrics.f1_score(y_train, model.predict(X_train))\n",
    "\n",
    "  return score"
   ]
  },
  {
   "cell_type": "code",
   "execution_count": 254,
   "metadata": {},
   "outputs": [
    {
     "name": "stderr",
     "output_type": "stream",
     "text": [
      "\u001b[32m[I 2023-05-02 21:20:01,296]\u001b[0m A new study created in memory with name: RandomForestClassifier\u001b[0m\n",
      "\u001b[32m[I 2023-05-02 21:20:05,606]\u001b[0m Trial 0 finished with value: 0.9428658722884204 and parameters: {'n_estimators': 154, 'max_depth': 18, 'min_samples_leaf': 5}. Best is trial 0 with value: 0.9428658722884204.\u001b[0m\n",
      "\u001b[32m[I 2023-05-02 21:20:08,863]\u001b[0m Trial 1 finished with value: 0.9332516840171464 and parameters: {'n_estimators': 132, 'max_depth': 17, 'min_samples_leaf': 6}. Best is trial 0 with value: 0.9428658722884204.\u001b[0m\n",
      "\u001b[32m[I 2023-05-02 21:20:11,892]\u001b[0m Trial 2 finished with value: 0.9446652399877714 and parameters: {'n_estimators': 118, 'max_depth': 22, 'min_samples_leaf': 5}. Best is trial 2 with value: 0.9446652399877714.\u001b[0m\n",
      "\u001b[32m[I 2023-05-02 21:20:15,009]\u001b[0m Trial 3 finished with value: 0.9443425076452601 and parameters: {'n_estimators': 121, 'max_depth': 23, 'min_samples_leaf': 5}. Best is trial 2 with value: 0.9446652399877714.\u001b[0m\n",
      "\u001b[32m[I 2023-05-02 21:20:19,157]\u001b[0m Trial 4 finished with value: 0.9438339438339438 and parameters: {'n_estimators': 147, 'max_depth': 18, 'min_samples_leaf': 5}. Best is trial 2 with value: 0.9446652399877714.\u001b[0m\n",
      "\u001b[32m[I 2023-05-02 21:20:22,376]\u001b[0m Trial 5 finished with value: 0.9437652811735942 and parameters: {'n_estimators': 126, 'max_depth': 20, 'min_samples_leaf': 5}. Best is trial 2 with value: 0.9446652399877714.\u001b[0m\n",
      "\u001b[32m[I 2023-05-02 21:20:25,397]\u001b[0m Trial 6 finished with value: 0.9357405140758874 and parameters: {'n_estimators': 123, 'max_depth': 16, 'min_samples_leaf': 6}. Best is trial 2 with value: 0.9446652399877714.\u001b[0m\n",
      "\u001b[32m[I 2023-05-02 21:20:28,876]\u001b[0m Trial 7 finished with value: 0.9444105070250459 and parameters: {'n_estimators': 136, 'max_depth': 23, 'min_samples_leaf': 5}. Best is trial 2 with value: 0.9446652399877714.\u001b[0m\n",
      "\u001b[32m[I 2023-05-02 21:20:32,427]\u001b[0m Trial 8 finished with value: 0.9357011635027557 and parameters: {'n_estimators': 138, 'max_depth': 21, 'min_samples_leaf': 6}. Best is trial 2 with value: 0.9446652399877714.\u001b[0m\n",
      "\u001b[32m[I 2023-05-02 21:20:35,691]\u001b[0m Trial 9 finished with value: 0.9410687022900762 and parameters: {'n_estimators': 132, 'max_depth': 14, 'min_samples_leaf': 5}. Best is trial 2 with value: 0.9446652399877714.\u001b[0m\n",
      "\u001b[32m[I 2023-05-02 21:20:38,361]\u001b[0m Trial 10 finished with value: 0.9193154034229828 and parameters: {'n_estimators': 110, 'max_depth': 12, 'min_samples_leaf': 6}. Best is trial 2 with value: 0.9446652399877714.\u001b[0m\n",
      "\u001b[32m[I 2023-05-02 21:20:41,513]\u001b[0m Trial 11 finished with value: 0.9435114503816794 and parameters: {'n_estimators': 111, 'max_depth': 24, 'min_samples_leaf': 5}. Best is trial 2 with value: 0.9446652399877714.\u001b[0m\n",
      "\u001b[32m[I 2023-05-02 21:20:45,186]\u001b[0m Trial 12 finished with value: 0.9455990220048901 and parameters: {'n_estimators': 142, 'max_depth': 22, 'min_samples_leaf': 5}. Best is trial 12 with value: 0.9455990220048901.\u001b[0m\n",
      "\u001b[32m[I 2023-05-02 21:20:49,081]\u001b[0m Trial 13 finished with value: 0.945443462359037 and parameters: {'n_estimators': 143, 'max_depth': 21, 'min_samples_leaf': 5}. Best is trial 12 with value: 0.9455990220048901.\u001b[0m\n",
      "\u001b[32m[I 2023-05-02 21:20:53,063]\u001b[0m Trial 14 finished with value: 0.9432234432234432 and parameters: {'n_estimators': 146, 'max_depth': 20, 'min_samples_leaf': 5}. Best is trial 12 with value: 0.9455990220048901.\u001b[0m\n",
      "\u001b[32m[I 2023-05-02 21:20:58,137]\u001b[0m Trial 15 finished with value: 0.9453435114503816 and parameters: {'n_estimators': 160, 'max_depth': 20, 'min_samples_leaf': 5}. Best is trial 12 with value: 0.9455990220048901.\u001b[0m\n",
      "\u001b[32m[I 2023-05-02 21:21:03,097]\u001b[0m Trial 16 finished with value: 0.9443425076452601 and parameters: {'n_estimators': 146, 'max_depth': 24, 'min_samples_leaf': 5}. Best is trial 12 with value: 0.9455990220048901.\u001b[0m\n",
      "\u001b[32m[I 2023-05-02 21:21:07,478]\u001b[0m Trial 17 finished with value: 0.9356617647058824 and parameters: {'n_estimators': 142, 'max_depth': 21, 'min_samples_leaf': 6}. Best is trial 12 with value: 0.9455990220048901.\u001b[0m\n",
      "\u001b[32m[I 2023-05-02 21:21:11,386]\u001b[0m Trial 18 finished with value: 0.9444783404514949 and parameters: {'n_estimators': 153, 'max_depth': 19, 'min_samples_leaf': 5}. Best is trial 12 with value: 0.9455990220048901.\u001b[0m\n",
      "\u001b[32m[I 2023-05-02 21:21:15,503]\u001b[0m Trial 19 finished with value: 0.9434423723631917 and parameters: {'n_estimators': 140, 'max_depth': 15, 'min_samples_leaf': 5}. Best is trial 12 with value: 0.9455990220048901.\u001b[0m\n"
     ]
    },
    {
     "name": "stdout",
     "output_type": "stream",
     "text": [
      "CPU times: total: 1min 9s\n",
      "Wall time: 1min 14s\n"
     ]
    }
   ],
   "source": [
    "%%time\n",
    "# cоздаем объект исследования\n",
    "# можем напрямую указать, что нам необходимо максимизировать метрику direction=\"maximize\"\n",
    "study = optuna.create_study(study_name=\"RandomForestClassifier\", direction=\"maximize\")\n",
    "# ищем лучшую комбинацию гиперпараметров n_trials раз\n",
    "study.optimize(optuna_rf, n_trials=20)"
   ]
  },
  {
   "cell_type": "code",
   "execution_count": 255,
   "metadata": {},
   "outputs": [
    {
     "name": "stdout",
     "output_type": "stream",
     "text": [
      "Наилучшие значения гиперпараметров {'n_estimators': 142, 'max_depth': 22, 'min_samples_leaf': 5}\n",
      "f1_score на обучающем наборе: 0.95\n"
     ]
    }
   ],
   "source": [
    "# выводим результаты на обучающей выборке\n",
    "print(\"Наилучшие значения гиперпараметров {}\".format(study.best_params))\n",
    "print(\"f1_score на обучающем наборе: {:.2f}\".format(study.best_value))"
   ]
  },
  {
   "cell_type": "code",
   "execution_count": 256,
   "metadata": {},
   "outputs": [
    {
     "name": "stdout",
     "output_type": "stream",
     "text": [
      "f1_score на тестовом наборе: 0.82\n"
     ]
    }
   ],
   "source": [
    "# рассчитаем точность для тестовой выборки\n",
    "model = ensemble.RandomForestClassifier(**study.best_params,random_state=random_state, )\n",
    "model.fit(X_train, y_train)\n",
    "y_test_pred = model.predict(X_test)\n",
    "print('f1_score на тестовом наборе: {:.2f}'.format(metrics.f1_score(y_test, y_test_pred)))"
   ]
  },
  {
   "cell_type": "code",
   "execution_count": 257,
   "metadata": {},
   "outputs": [
    {
     "name": "stderr",
     "output_type": "stream",
     "text": [
      "\u001b[32m[I 2023-05-02 21:22:02,416]\u001b[0m Trial 20 finished with value: 0.9357011635027557 and parameters: {'n_estimators': 154, 'max_depth': 22, 'min_samples_leaf': 6}. Best is trial 12 with value: 0.9455990220048901.\u001b[0m\n",
      "\u001b[32m[I 2023-05-02 21:22:06,753]\u001b[0m Trial 21 finished with value: 0.9459541984732824 and parameters: {'n_estimators': 159, 'max_depth': 20, 'min_samples_leaf': 5}. Best is trial 21 with value: 0.9459541984732824.\u001b[0m\n",
      "\u001b[32m[I 2023-05-02 21:22:11,044]\u001b[0m Trial 22 finished with value: 0.9468215158924205 and parameters: {'n_estimators': 160, 'max_depth': 22, 'min_samples_leaf': 5}. Best is trial 22 with value: 0.9468215158924205.\u001b[0m\n",
      "\u001b[32m[I 2023-05-02 21:22:15,199]\u001b[0m Trial 23 finished with value: 0.947143293614421 and parameters: {'n_estimators': 159, 'max_depth': 22, 'min_samples_leaf': 5}. Best is trial 23 with value: 0.947143293614421.\u001b[0m\n",
      "\u001b[32m[I 2023-05-02 21:22:19,350]\u001b[0m Trial 24 finished with value: 0.9454766981419434 and parameters: {'n_estimators': 159, 'max_depth': 19, 'min_samples_leaf': 5}. Best is trial 23 with value: 0.947143293614421.\u001b[0m\n",
      "\u001b[32m[I 2023-05-02 21:22:23,531]\u001b[0m Trial 25 finished with value: 0.9462431276725718 and parameters: {'n_estimators': 151, 'max_depth': 23, 'min_samples_leaf': 5}. Best is trial 23 with value: 0.947143293614421.\u001b[0m\n",
      "\u001b[32m[I 2023-05-02 21:22:27,289]\u001b[0m Trial 26 finished with value: 0.9446652399877714 and parameters: {'n_estimators': 151, 'max_depth': 24, 'min_samples_leaf': 5}. Best is trial 23 with value: 0.947143293614421.\u001b[0m\n",
      "\u001b[32m[I 2023-05-02 21:22:31,484]\u001b[0m Trial 27 finished with value: 0.9462431276725718 and parameters: {'n_estimators': 150, 'max_depth': 23, 'min_samples_leaf': 5}. Best is trial 23 with value: 0.947143293614421.\u001b[0m\n",
      "\u001b[32m[I 2023-05-02 21:22:35,070]\u001b[0m Trial 28 finished with value: 0.9226044226044225 and parameters: {'n_estimators': 157, 'max_depth': 11, 'min_samples_leaf': 5}. Best is trial 23 with value: 0.947143293614421.\u001b[0m\n",
      "\u001b[32m[I 2023-05-02 21:22:39,401]\u001b[0m Trial 29 finished with value: 0.945888107612351 and parameters: {'n_estimators': 155, 'max_depth': 22, 'min_samples_leaf': 5}. Best is trial 23 with value: 0.947143293614421.\u001b[0m\n"
     ]
    },
    {
     "name": "stdout",
     "output_type": "stream",
     "text": [
      "CPU times: total: 38.7 s\n",
      "Wall time: 41.1 s\n"
     ]
    }
   ],
   "source": [
    "%%time\n",
    "# можем продолжить подбор, указав n_trials(любое число, которое добавится к предыдущим итерациям) \n",
    "study.optimize(optuna_rf, n_trials=10)"
   ]
  },
  {
   "cell_type": "code",
   "execution_count": 258,
   "metadata": {},
   "outputs": [
    {
     "name": "stdout",
     "output_type": "stream",
     "text": [
      "Наилучшие значения гиперпараметров {'n_estimators': 159, 'max_depth': 22, 'min_samples_leaf': 5}\n",
      "f1_score на тестовом наборе: 0.82\n"
     ]
    }
   ],
   "source": [
    "# выводим результаты на обучающей выборке\n",
    "print(\"Наилучшие значения гиперпараметров {}\".format(study.best_params))\n",
    "\n",
    "# рассчитаем точность для тестовой выборки\n",
    "model = ensemble.RandomForestClassifier(**study.best_params,random_state=random_state, )\n",
    "model.fit(X_train, y_train)\n",
    "y_test_pred = model.predict(X_test)\n",
    "print('f1_score на тестовом наборе: {:.2f}'.format(metrics.f1_score(y_test, y_test_pred)))"
   ]
  },
  {
   "attachments": {},
   "cell_type": "markdown",
   "metadata": {},
   "source": [
    "Подведем итоги.\n",
    "\n",
    "|Модель | Оптимизатор | f1 на тестовой выборке\n",
    "|--|--|--\n",
    "|Логистическая регрессия | Без оптимизатора | 0.79\n",
    "| | GridSearchCV | 0.80\n",
    "| | RandomizedSearchCV | 0.78\n",
    "| | Hyperopt | 0.79\n",
    "| | Optuna | 0.80\n",
    "| Случайный лес | Без оптимизатора | 0.79\n",
    "| | GridSearchCV | **0.83**\n",
    "| | RandomizedSearchCV | 0.82\n",
    "| | Hyperopt | 0.82\n",
    "| | Optuna | 0.82\n",
    "\n",
    "Случайный лес показал лучшие результаты. В данном случае лучше сего подобрал параметры оптимизатор GridSearchCV.\n",
    "\n",
    "Но нам, скорее всего, просто повезло сразу угадать оптимальную сетку параметров для GridSearchCV. \n",
    "\n",
    "Этот оптимизатор работает медленнее всего. А также не так гибок, как другие оптимизаторы. В других случаях он мог не показать лучшие результаты."
   ]
  }
 ],
 "metadata": {
  "kernelspec": {
   "display_name": "Python 3",
   "language": "python",
   "name": "python3"
  },
  "language_info": {
   "codemirror_mode": {
    "name": "ipython",
    "version": 3
   },
   "file_extension": ".py",
   "mimetype": "text/x-python",
   "name": "python",
   "nbconvert_exporter": "python",
   "pygments_lexer": "ipython3",
   "version": "3.9.10"
  },
  "orig_nbformat": 4
 },
 "nbformat": 4,
 "nbformat_minor": 2
}
